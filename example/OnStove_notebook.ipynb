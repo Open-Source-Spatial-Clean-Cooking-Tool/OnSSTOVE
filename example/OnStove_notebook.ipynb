{
 "cells": [
  {
   "cell_type": "markdown",
   "id": "4886a6f1",
   "metadata": {},
   "source": [
    "# OnStove notebook\n",
    "\n",
    "This is the OnStove notebook. The purpose of the notebook is to give users the ability to run through the analysis with example data and it can therefore act as a complement to the publication and read the docs documentation.\n",
    "\n",
    "The notebook is divded into 4 major parts: \n",
    "* **Data processing** - In this part of the analysis different geospatial datasets are read and processed to be used in the analysis. The datasets from this step are saved on the users computer. For future runs on the same area of interest this step can consquently be skipped unless datasets are switched. \n",
    "* **Calibration** - In this part the area of interest is calibrated. Raster cells are classified as either urban or rural, the electrification rate in different cells are determined and the rates of differet cooking fuels across settlements are calibrated. The calibrated data is saved in .pkl-file   \n",
    "* **Model run** - The net-benefit for different stoves are determined in different parts of the study area. Summaries of the results documenting the benefits and costs of each stove type across the entire study area are produced. The results are saved as .pkl-file.  \n",
    "* **Visualization** - Visulizing and saving different maps related to the results.\n",
    "\n",
    "Each part of the notebook is divided into several different cells and each cell is described more in depth."
   ]
  },
  {
   "cell_type": "code",
   "execution_count": 5,
   "id": "f971720a",
   "metadata": {},
   "outputs": [],
   "source": [
    "import os, sys, requests, zipfile\n",
    "import geopandas as gpd\n",
    "import pandas as pd\n",
    "sys.path.append(\"..\")"
   ]
  },
  {
   "cell_type": "code",
   "execution_count": 6,
   "id": "17d50723",
   "metadata": {},
   "outputs": [
    {
     "name": "stdout",
     "output_type": "stream",
     "text": [
      "The autoreload extension is already loaded. To reload it, use:\n",
      "  %reload_ext autoreload\n"
     ]
    }
   ],
   "source": [
    "%load_ext autoreload"
   ]
  },
  {
   "cell_type": "code",
   "execution_count": 7,
   "id": "dfc36ae0",
   "metadata": {},
   "outputs": [],
   "source": [
    "%autoreload 2\n",
    "from onstove import OnStove, DataProcessor, RasterLayer, VectorLayer\n",
    "# from onstove.raster import interpolate\n",
    "import time"
   ]
  },
  {
   "cell_type": "code",
   "execution_count": 8,
   "id": "c95a42b1-da5e-4875-8aed-e2a9c685e60a",
   "metadata": {},
   "outputs": [],
   "source": [
    "from utils import download_data\n",
    "country = 'Kenya'\n",
    "download_data(country)"
   ]
  },
  {
   "cell_type": "markdown",
   "id": "dfceb859",
   "metadata": {},
   "source": [
    "## Create a data processor\n",
    "\n",
    "This cell creates your dataprocessor. The dataprocessor is your model and will set the base for your model. OnStove is a raster-based model, hence the resolution becomes important. We specify the resolution when creating the dataprocessor together with the coordinate sytsem. This will ensure that all rasters are resampled to the correct resolution and all datasets (vectors and rasters) are reprojected to the target coordinate system.\n",
    "\n",
    "In this example we use the world mercator coordinate system (EPSG:3395) and a spatial resolution of 1 sq. km. \n",
    "\n",
    "**Note:** This section of the code the user only needs to run once unless the geospatial datasets do not change in between runs. "
   ]
  },
  {
   "cell_type": "code",
   "execution_count": 22,
   "id": "06c618a9",
   "metadata": {},
   "outputs": [],
   "source": [
    "start = time.time()\n",
    "\n",
    "data = DataProcessor(project_crs=3395, cell_size=(1000, 1000))\n",
    "output_directory = '../example/KEN'\n",
    "data.output_directory = output_directory"
   ]
  },
  {
   "cell_type": "markdown",
   "id": "54f7078f",
   "metadata": {},
   "source": [
    "# Downloading example data from the Mendeley database"
   ]
  },
  {
   "cell_type": "markdown",
   "id": "ff486094",
   "metadata": {},
   "source": [
    "**Downloading and saving the techno-economic specification file**"
   ]
  },
  {
   "cell_type": "code",
   "execution_count": 5,
   "id": "0a50019a",
   "metadata": {},
   "outputs": [
    {
     "data": {
      "text/plain": [
       "8081"
      ]
     },
     "execution_count": 5,
     "metadata": {},
     "output_type": "execute_result"
    }
   ],
   "source": [
    "tech_specs = r\"https://data.mendeley.com/public-files/datasets/7y943f6wf8/files/9129fac1-826b-451d-9c7d-808082e34d23/file_downloaded\"\n",
    "response = requests.get(tech_specs)\n",
    "open(\"tech_specs.csv\", \"wb\").write(response.content)"
   ]
  },
  {
   "cell_type": "markdown",
   "id": "f927de1e",
   "metadata": {},
   "source": [
    "**Downloading and saving the socio-economic specification file**"
   ]
  },
  {
   "cell_type": "code",
   "execution_count": 6,
   "id": "80d868c5",
   "metadata": {},
   "outputs": [
    {
     "data": {
      "text/plain": [
       "1426"
      ]
     },
     "execution_count": 6,
     "metadata": {},
     "output_type": "execute_result"
    }
   ],
   "source": [
    "soc_specs = r\"https://data.mendeley.com/public-files/datasets/7y943f6wf8/files/a8ab09e4-e561-4df9-b78e-3ea0718dbcd7/file_downloaded\"\n",
    "response = requests.get(soc_specs)\n",
    "open(\"soc_specs.csv\", \"wb\").write(response.content)"
   ]
  },
  {
   "cell_type": "markdown",
   "id": "bfadf48d",
   "metadata": {},
   "source": [
    "**Downloading, saving and unzipping the GIS data**"
   ]
  },
  {
   "cell_type": "code",
   "execution_count": null,
   "id": "6048ecb3",
   "metadata": {},
   "outputs": [],
   "source": [
    "gis_data = r\"https://data.mendeley.com/public-files/datasets/7y943f6wf8/files/58507d24-8996-4857-b528-6543165bbe13/file_downloaded\"\n",
    "response = requests.get(gis_data)\n",
    "open(\"gis_data.zip\", \"wb\").write(response.content)\n",
    "\n",
    "with zipfile.ZipFile(\"gis_data.zip\",\"r\") as zip_ref:\n",
    "    zip_ref.extractall(\"gis_data\")"
   ]
  },
  {
   "cell_type": "markdown",
   "id": "4ed4c26c",
   "metadata": {},
   "source": [
    "# 1. Data processing"
   ]
  },
  {
   "cell_type": "markdown",
   "id": "88c6c4be",
   "metadata": {},
   "source": [
    "## 1.1. Add a mask and base \n",
    "\n",
    "The mask layer dictates what falls within your area of interest and what is excluded from your analysis. For mask layer we use the administrative boundaries of the country.\n",
    "\n",
    "For this a function called *add_mask_layer*. *add_mask_layer* takes four inputs:\n",
    "1. `category`- referencing the cateogry of the layer\n",
    "2. `name` - referencing the name of the layer\n",
    "3. `layer_path` - from where to read the data\n",
    "4. `postgres` - boolean determining indicating whether the data is saved on disc or in a PostgreSQL database. Default is `False`, meaning the dataset is saved on the disc.\n",
    "\n",
    "Find more information about this function in the [documentation](https://onstove-documentation.readthedocs.io/en/latest/generated/onstove.onstove.DataProcessor.add_mask_layer.html)"
   ]
  },
  {
   "cell_type": "code",
   "execution_count": 33,
   "id": "aa56ba93",
   "metadata": {},
   "outputs": [],
   "source": [
    "adm_path = r\"../example/gis_data/Administrative/Country_boundaries/Country_boundaries.geojson\"\n",
    "data.add_mask_layer(category='Administrative', name='Country_boundaries', path=adm_path)"
   ]
  },
  {
   "cell_type": "markdown",
   "id": "69f46476",
   "metadata": {},
   "source": [
    "## 1.2. Add GIS layers"
   ]
  },
  {
   "cell_type": "markdown",
   "id": "d1a23dd9",
   "metadata": {},
   "source": [
    "Similarly, we can add data layers using the `add_layer` method. A layer `name`, `layer_path` and `postgres` conection also need to be provided (the `postgres` conection defaults to `False`). In addition, the following arguments can be passed:\n",
    "* `category`: this is used to group all datasets into a category in the final output, e.g. `demand` or `supply`. \n",
    "* `layer_type`: this argument is required with two possible options `raster` or `vector`, we should pass either one according to the dataset you are adding. \n",
    "* `resample`: this defines what resampling method to use when changing the resolution of the raster. The change of resolution happens when the layer gets aligned with the base layer.\n",
    "\n",
    "Find more information about this function in the [documentation](https://onstove-documentation.readthedocs.io/en/latest/generated/onstove.onstove.DataProcessor.add_layer.html).\n",
    "\n",
    "In the cells below the following datasets are read:\n",
    "\n",
    "* **Population raster** - a raster layer describing the spatial distribution of peoeple acorss the study area\n",
    "* **Urban-rural split raster** - a raster layer describing which areas that can be considered urban and rural respectively \n",
    "* **Forest raster** - a raster layer describing where forest is availble and where it is not. This is used in order to estimate how far people have to travel in order to collect biomass.\n",
    "* **Friction raster** - a raster layer describing the walking-only friction across the study area (the time it takes to travel across different cells of the study area by foot). This is used in order to determine the collection time of manure (for biogas) and biomass. \n",
    "* **Medium voltage line vector file** - a line vector layer showing the availability of medium voltage lines. This is used in order to estimate which settlements are electrified and which ones are not. Users can also use either transformers or high-voltage lines if available. \n",
    "* **Nighttime lights raster** - a raster showing the intensity of anthropogenic light sources. This is used as a proxy for determinig who may have electricity and how does not. \n",
    "* **Traveltime raster** - a map showing the time it takes to travel to the closest city with motorized transport. This is used in order to estimate transportation cost of LPG. A user can also provide LPG suppliers (as a point layer) and a motorized friction map to determine the travel time instead of a traveltime map.\n",
    "* **Livestock rasters** - raster layers showing the headcounts of different livestock (buffaloes, cattles, poultry, goats, pigs and sheeps). This is used in order to assess the availability of manure in different cells of the study area. \n",
    "* **Temperature raster** - raster layer describing the temperature across the study area. This is used in order to assess the possibility of using biogas. [If the average temperature decreases below 10 degrees celsius the conversion of small scale biogas digesters reduces significantly making them unviable](https://www.sciencedirect.com/science/article/pii/S2213138821003118)."
   ]
  },
  {
   "cell_type": "markdown",
   "id": "d8d62164",
   "metadata": {},
   "source": [
    "### 1.2.1. Demographics"
   ]
  },
  {
   "cell_type": "code",
   "execution_count": 34,
   "id": "af1ef16b",
   "metadata": {},
   "outputs": [],
   "source": [
    "pop_path = r\"../example/gis_data/Population/Population.tif\"\n",
    "data.add_layer(category='Demographics', name='Population', \n",
    "               path=pop_path, layer_type='raster', resample='sum')\n",
    "\n",
    "urban_path = r\"../example/gis_data/Urban/Urban.tif\"\n",
    "data.add_layer(category='Demographics', name='Urban_rural_divide', \n",
    "               path=urban_path, layer_type='raster', resample='nearest')"
   ]
  },
  {
   "cell_type": "markdown",
   "id": "2ee96f83",
   "metadata": {},
   "source": [
    "### 1.2.2. Biomass"
   ]
  },
  {
   "cell_type": "code",
   "execution_count": 25,
   "id": "744cde58",
   "metadata": {},
   "outputs": [],
   "source": [
    "forest_path = r\"../example/gis_data/Forest/Forest.tif\"\n",
    "data.add_layer(category='Biomass', name='Forest', \n",
    "               path=forest_path, layer_type='raster', resample='average')\n",
    "\n",
    "friction_path = r\"../example/gis_data/Friction/Friction.tif\"\n",
    "data.add_layer(category='Biomass', name='Friction', path=friction_path, \n",
    "               layer_type='raster', resample='average')"
   ]
  },
  {
   "cell_type": "markdown",
   "id": "fb9d0d50",
   "metadata": {},
   "source": [
    "### 1.2.3. Electricity"
   ]
  },
  {
   "cell_type": "code",
   "execution_count": 26,
   "id": "ebc1371f",
   "metadata": {},
   "outputs": [],
   "source": [
    "mv_path = r\"../example/gis_data/MV lines/MV_lines.geojson\"\n",
    "data.add_layer(category='Electricity', name='MV_lines', \n",
    "               path=mv_path, layer_type='vector')\n",
    "\n",
    "ntl_path = r\"../example/gis_data/Night time lights/Night_time_lights.tif\"\n",
    "data.add_layer(category='Electricity', name='Night_time_lights', \n",
    "               path=ntl_path, layer_type='raster', resample='average')"
   ]
  },
  {
   "cell_type": "markdown",
   "id": "21abac21",
   "metadata": {},
   "source": [
    "### 1.2.4. LPG"
   ]
  },
  {
   "cell_type": "code",
   "execution_count": 27,
   "id": "6792937a",
   "metadata": {},
   "outputs": [],
   "source": [
    "lpg_path = r\"../example/gis_data/Traveltime/Traveltime.tif\"\n",
    "data.add_layer(category='LPG', name='LPG Traveltime', \n",
    "               path=lpg_path, layer_type='raster', resample='average')"
   ]
  },
  {
   "cell_type": "markdown",
   "id": "9c5f95a1",
   "metadata": {},
   "source": [
    "### 1.2.5. Biogas"
   ]
  },
  {
   "cell_type": "code",
   "execution_count": 28,
   "id": "31d3dd77",
   "metadata": {},
   "outputs": [],
   "source": [
    "buffaloes = r\"../example/gis_data/Livestock/buffaloes/buffaloes.tif\"\n",
    "cattles = r\"../example/gis_data/Livestock/cattles/cattles.tif\"\n",
    "poultry = r\"../example/gis_data/Livestock/poultry/poultry.tif\"\n",
    "goats = r\"../example/gis_data/Livestock/goats/goats.tif\"\n",
    "pigs = r\"../example/gis_data/Livestock/pigs/pigs.tif\"\n",
    "sheeps = r\"../example/gis_data/Livestock/sheeps/sheeps.tif\"\n",
    "\n",
    "for key, path in {'buffaloes': buffaloes,\n",
    "                  'cattles': cattles,\n",
    "                  'poultry': poultry,\n",
    "                  'goats': goats,\n",
    "                  'pigs': pigs,\n",
    "                  'sheeps': sheeps}.items():\n",
    "    data.add_layer(category='Biogas/Livestock', name=key, path=path,\n",
    "                   layer_type='raster', resample='nearest', rescale=True)"
   ]
  },
  {
   "cell_type": "code",
   "execution_count": 29,
   "id": "b8d4106a",
   "metadata": {},
   "outputs": [
    {
     "name": "stderr",
     "output_type": "stream",
     "text": [
      "C:\\Users\\khavari\\OneDrive - KTH\\onstove\\example\\..\\onstove\\layer.py:883: UserWarning: The Temperature layer do not have a defined nodata value, thus np.nan was assigned. You can change this defining the nodata value in the metadata of the variable as: variable.meta['nodata'] = value\n"
     ]
    }
   ],
   "source": [
    "temperature = r\"../example/gis_data/Temperature/Temperature.tif\"\n",
    "data.add_layer(category='Biogas', name='Temperature', path=temperature,\n",
    "               layer_type='raster', resample='average')\n",
    "data.layers['Biogas']['Temperature'].save(f'{data.output_directory}/Biogas/Temperature')"
   ]
  },
  {
   "cell_type": "markdown",
   "id": "523cfa9f",
   "metadata": {},
   "source": [
    "Lastly a raster base layer is needed to make every output match its grid and extent. For this, two additional options need to be passed to the `add_layer` method:\n",
    "* `base_layer`: if `True` the added layer will be considered as the base layer. \n",
    "* `resample`: this is the resampling method to be used when resampling this layer to the desired `cell_size` if a `cell_size` is provided.\n",
    "\n",
    "Find more information about this function in the [documentation](https://onstove-documentation.readthedocs.io/en/latest/generated/onstove.onstove.DataProcessor.add_layer.html)."
   ]
  },
  {
   "cell_type": "code",
   "execution_count": 30,
   "id": "9280ca7a",
   "metadata": {},
   "outputs": [],
   "source": [
    "data.add_layer(category='Base', name='Base', path=r\"../example/gis_data/Forest/Forest.tif\",\n",
    "               layer_type='raster', base_layer=True, resample='nearest')"
   ]
  },
  {
   "cell_type": "markdown",
   "id": "86d63091",
   "metadata": {},
   "source": [
    "## 1.3. Mask reproject and align all required layers"
   ]
  },
  {
   "cell_type": "markdown",
   "id": "cbe1815b",
   "metadata": {},
   "source": [
    "The cell below masks all of the read datasets (rasters and vectors) and categorizes them in different groups. Each dataset that is clipped here is saved in their respective subfolder (e.g. Demographics) under the output_directory specified in [cell 1.1](#1.1.-Create-a-data-processor).\n",
    "\n",
    "Find more information about this function in the [documenation](https://onstove-documentation.readthedocs.io/en/latest/generated/onstove.onstove.DataProcessor.mask_layers.html)."
   ]
  },
  {
   "cell_type": "code",
   "execution_count": 31,
   "id": "78ca05b5",
   "metadata": {},
   "outputs": [],
   "source": [
    "data.mask_layers(datasets={'Demographics': ['Population', 'Urban_rural_divide'],\n",
    "                           'Biomass': ['Forest', 'Friction'],\n",
    "                           'Electricity': ['Night_time_lights', 'MV_lines'],\n",
    "                           'LPG': ['LPG Traveltime'],\n",
    "                           'Biogas': ['Temperature']})"
   ]
  },
  {
   "cell_type": "code",
   "execution_count": 35,
   "id": "af1322d3-6cfe-42c5-aecd-312285488465",
   "metadata": {},
   "outputs": [
    {
     "data": {
      "text/plain": [
       "<AxesSubplot:>"
      ]
     },
     "execution_count": 35,
     "metadata": {},
     "output_type": "execute_result"
    },
    {
     "data": {
      "image/png": "[encoded data removed]",
      "text/plain": [
       "<Figure size 960x720 with 2 Axes>"
      ]
     },
     "metadata": {},
     "output_type": "display_data"
    }
   ],
   "source": [
    "data.layers[\"Demographics\"][\"Urban_rural_divide\"].plot()"
   ]
  },
  {
   "cell_type": "markdown",
   "id": "7e1428a5",
   "metadata": {},
   "source": [
    "Next, all raster datasets are aligned with the base layer selected in [cell 1.2](#1.2.-Add-a-mask-and-base). When aligning the function ensures that the coordinate sysmtem and resolution of all rasters are the same as the user specifies in [cell 1.1](#1.1.-Create-a-data-processor). \n",
    "\n",
    "Find more information about this function in the [documentation](https://onstove-documentation.readthedocs.io/en/latest/generated/onstove.onstove.DataProcessor.align_layers.html)."
   ]
  },
  {
   "cell_type": "code",
   "execution_count": 20,
   "id": "ca33cc5c",
   "metadata": {},
   "outputs": [],
   "source": [
    "data.align_layers(datasets={'Demographics': ['Population', 'Urban_rural_divide'],\n",
    "                           'Biomass': ['Forest', 'Friction'],\n",
    "                           'Electricity': ['Night_time_lights', 'MV_lines'],\n",
    "                           'LPG': ['LPG Traveltime']})"
   ]
  },
  {
   "cell_type": "markdown",
   "id": "a3961fcd",
   "metadata": {},
   "source": [
    "Lastly, the vector files (apart from the mask layer) are reprojected. This is done using the `reprojected_layers` function. The source coordinate system does not influence the process and the target coordinate system is the same as the one entered by the user in [cell 1.1](#1.1.-Create-a-data-processor). \n",
    "\n",
    "Find more information about this function in the [documentation](https://onstove-documentation.readthedocs.io/en/latest/generated/onstove.onstove.DataProcessor.reproject_layers.html)."
   ]
  },
  {
   "cell_type": "code",
   "execution_count": 21,
   "id": "f87b244f",
   "metadata": {},
   "outputs": [],
   "source": [
    "data.reproject_layers(datasets={'Electricity': ['MV_lines']})"
   ]
  },
  {
   "cell_type": "code",
   "execution_count": 22,
   "id": "ded226a6",
   "metadata": {},
   "outputs": [],
   "source": [
    "data.save_datasets(datasets={'Demographics': ['Population', 'Urban_rural_divide'],\n",
    "                           'Biomass': ['Forest', 'Friction'],\n",
    "                           'Electricity': ['Night_time_lights', 'MV_lines'],\n",
    "                           'LPG': ['LPG Traveltime']})"
   ]
  },
  {
   "cell_type": "code",
   "execution_count": 23,
   "id": "3ffdf378",
   "metadata": {},
   "outputs": [
    {
     "name": "stdout",
     "output_type": "stream",
     "text": [
      "Execution time: 3 min 49 sec\n"
     ]
    }
   ],
   "source": [
    "end = time.time()\n",
    "\n",
    "diff = end - start\n",
    "print('Execution time:', str(str(int(diff//60))) + ' min ' + str(int((diff)%60)) + ' sec')"
   ]
  },
  {
   "cell_type": "markdown",
   "id": "e462599d",
   "metadata": {},
   "source": [
    "# 2. Calibration\n",
    "\n",
    "The calibration step does two things 1) it adds the datasets processed in the previous step to a settlement file that will be used in [step 3](#3.-Model-run) for determining the net-benefit in different settlements and 2) calibrating the file with regards to total population, urban-rural split and electrification rate. \n",
    "\n",
    "**Note:** Similar to the data processing step, this step is only needed once unless you change anything in the inputs"
   ]
  },
  {
   "cell_type": "markdown",
   "id": "7a74dfc6",
   "metadata": {},
   "source": [
    "## 2.1. Read the model data"
   ]
  },
  {
   "cell_type": "markdown",
   "id": "3e90be48",
   "metadata": {},
   "source": [
    "The cell below reads the socio-economic specification file. This file is needed as it contains the electrificaiton and urban rates and the actual population in the study area (often the GIS datasets of populations have slighlty outdated values of population). The scenario data is saved in dictionary that can be called upon with `country.specs`"
   ]
  },
  {
   "cell_type": "code",
   "execution_count": 24,
   "id": "6a2d1074",
   "metadata": {},
   "outputs": [],
   "source": [
    "data = DataProcessor(project_crs=3857, cell_size=(1000, 1000))\n",
    "output_directory = '../example/KEN'\n",
    "country = OnStove()\n",
    "path = os.path.join('..', 'example','soc_specs.csv')\n",
    "country.read_scenario_data(path, delimiter=',')"
   ]
  },
  {
   "cell_type": "markdown",
   "id": "b220bd4c",
   "metadata": {},
   "source": [
    "## 2.2. Add a population base layer\n",
    "\n",
    "The population layer is read with `add_layer` and is turned into a dataframe with a column for population using the `population_to_dataframe`. This dataframe will be used to add all the other geospatial datasets and calculate the results on.\n",
    "\n",
    "Lastly, the population of the dataframe is calibrated to the current population added in the socio-economic specification file using the `calibrate_current_pop` function\n",
    "\n",
    "Find more information about these function in [here](https://onstove-documentation.readthedocs.io/en/latest/generated/onstove.onstove.OnStove.population_to_dataframe.html) and [here](https://onstove-documentation.readthedocs.io/en/latest/generated/onstove.onstove.OnStove.calibrate_current_pop.html)."
   ]
  },
  {
   "cell_type": "code",
   "execution_count": 25,
   "id": "42ada266",
   "metadata": {},
   "outputs": [],
   "source": [
    "path = os.path.join(output_directory,'Demographics','Population', 'Population.tif')\n",
    "country.add_layer(category='Demographics', name='Population', path=path, layer_type='raster', base_layer=True)\n",
    "country.population_to_dataframe()"
   ]
  },
  {
   "cell_type": "markdown",
   "id": "51c5eba9",
   "metadata": {},
   "source": [
    "## 2.3. Calibrate urban/rural split\n",
    "\n",
    "The function `calibrate_urban_current_and_future_GHS` is used to classify different rows in of the dataframe produced in the previous step as either urban or rural. This is based on the [GHS dataset](https://ghsl.jrc.ec.europa.eu/download.php?ds=smod). This is important for the baseyear calculations as urban and rural shares of different stoves (and electrification rates) tend to differ.\n",
    "\n",
    "Find more information about this function in the [documentation](https://onstove-documentation.readthedocs.io/en/latest/generated/onstove.onstove.OnStove.calibrate_urban_current_and_future_GHS.html)"
   ]
  },
  {
   "cell_type": "code",
   "execution_count": 26,
   "id": "5bb5e828",
   "metadata": {
    "scrolled": true
   },
   "outputs": [],
   "source": [
    "ghs_path = output_directory + r\"/Demographics/Urban_rural_divide/Urban_rural_divide.tif\"\n",
    "country.calibrate_urban_rural_split(ghs_path)"
   ]
  },
  {
   "cell_type": "markdown",
   "id": "d9c83773",
   "metadata": {},
   "source": [
    "## 2.4. Add wealth index GIS data and determine the value of time\n",
    "\n",
    "Next, the Relative Wealth Index (RWI) is added to the dataframe and used in order to estimate the monetary value of time. As the RWI in this example is a csv-file it is not read and added with the other datasets. Instead the function `extract_wealth_index` is used. \n",
    "\n",
    "Find more information about this function in the [documentation](https://onstove-documentation.readthedocs.io/en/latest/generated/onstove.onstove.OnStove.extract_wealth_index.html)\n",
    "\n",
    "The extracted RWI is then transformed to value of time using the function `get_value_of_time`. \n",
    "\n",
    "Find more information about this function in the [documentation](https://onstove-documentation.readthedocs.io/en/latest/generated/onstove.onstove.OnStove.get_value_of_time.html)"
   ]
  },
  {
   "cell_type": "code",
   "execution_count": 28,
   "id": "2dafe386",
   "metadata": {},
   "outputs": [],
   "source": [
    "wealth_index = r\"../example/KEN/KEN_relative_wealth_index.csv\"\n",
    "country.extract_wealth_index(wealth_index, file_type=\"csv\")\n",
    "country.get_value_of_time()"
   ]
  },
  {
   "cell_type": "markdown",
   "id": "408c3095",
   "metadata": {},
   "source": [
    "## 2.5. Calculate distance to electricity infrastructure \n",
    "\n",
    "To estimate electricity access rates in different cells across the study area the distance to electricity related infrastructure is important. The following section of the code reads the MV-lines that were processed in the data processing parts and determines the distance between every settlement (raster cell in the population map) and the closest MV-line. This is done using a function called `distance_to_electricity`. \n",
    "\n",
    "**Note**: in the following example MV-lines were used for this, but transformers or HV-lines can also be used if available.\n",
    "\n",
    "Find more information about this function in the [documentation](https://onstove-documentation.readthedocs.io/en/latest/generated/onstove.onstove.OnStove.distance_to_electricity.html)."
   ]
  },
  {
   "cell_type": "code",
   "execution_count": 29,
   "id": "f7d37042",
   "metadata": {},
   "outputs": [],
   "source": [
    "path = os.path.join(output_directory, 'Electricity', 'MV_lines', 'MV_lines.geojson')\n",
    "mv_lines = VectorLayer('Electricity', 'MV_lines', path=path)\n",
    "country.distance_to_electricity(mv_lines=mv_lines)"
   ]
  },
  {
   "cell_type": "markdown",
   "id": "551c0bdc",
   "metadata": {},
   "source": [
    "## 2.6. Add nighttime lights data\n",
    "\n",
    "Nighttime lights are also important for the electrification calibration as it can give you an idication of where electricity consumption is present. The nighttime light map should already have been processed in the [Data processing](#1.-Data-processing) section and therefore, it is only read here and added to the dataframe using the function `raster_to_dataframe`. \n",
    "\n",
    "Find out more the function in the [documentation](https://onstove-documentation.readthedocs.io/en/latest/generated/onstove.onstove.OnStove.raster_to_dataframe.html)"
   ]
  },
  {
   "cell_type": "code",
   "execution_count": 30,
   "id": "04e8464f",
   "metadata": {},
   "outputs": [],
   "source": [
    "path = os.path.join(output_directory, 'Electricity', 'Night_time_lights', 'Night_time_lights.tif')\n",
    "ntl = RasterLayer('Electricity', 'Night_time_lights', path=path)\n",
    "\n",
    "country.raster_to_dataframe(ntl, name='Night_lights', method='read')"
   ]
  },
  {
   "cell_type": "markdown",
   "id": "3098cb0a",
   "metadata": {},
   "source": [
    "## 2.7. Calibrate current electrified population\n",
    "\n",
    "Once the distance to electricity related infrastructure (transformers, MV-lines or HV-lines) is determined and the nighttime light intensity is extracted, the current electrification status for different settlements across the study area is determined. This is done in two steps. First, `current_elec` gives a binary classification of the settlements that are likely electrified (1 indicates that at least someone is likely to have access, while 0 indicates that electricity access is not present at all in the cell). \n",
    "\n",
    "For more information about the `current_elec` function, please refer to the [documentation](https://onstove-documentation.readthedocs.io/en/latest/generated/onstove.onstove.OnStove.current_elec.html)\n",
    "\n",
    "Once the binary classification is made the electrification rate in the different cells with the value 1 from the current_elec is determined. This is done using the function final_elec. This is an multi-criteria analysis taking into account the population density in each cell, the nighttime light intensity and the distance to either transformers, MV-lines or HV-lines together with weights for each one of these factors supplied by the user in the socio-economic specs file.  \n",
    "\n",
    "For more information about the `final_elec` function, please refer to the [documentation](https://onstove-documentation.readthedocs.io/en/latest/generated/onstove.onstove.OnStove.final_elec.html)"
   ]
  },
  {
   "cell_type": "code",
   "execution_count": 31,
   "id": "4b87b76f",
   "metadata": {},
   "outputs": [
    {
     "name": "stdout",
     "output_type": "stream",
     "text": [
      "Calibrated grid electrified population fraction: 0.7695884081285914\n"
     ]
    }
   ],
   "source": [
    "country.final_elec()\n",
    "\n",
    "print('Calibrated grid electrified population fraction:', (country.gdf['Elec_pop_calib']*country.gdf['pop_init_year']).sum() / country.gdf['pop_init_year'].sum())"
   ]
  },
  {
   "cell_type": "code",
   "execution_count": 32,
   "id": "629d9a1d-ce53-4582-9a94-b6c8cb3abcb0",
   "metadata": {},
   "outputs": [],
   "source": [
    "country.gdf[\"Current_elec\"] = 1\n",
    "# Check elec_pop_calib, that seems weird, how is it used and is it OK to keep it constant with the time line\n",
    "country.gdf[\"Elec_pop_calib\"] = country.gdf[\"pop_init_year\"]"
   ]
  },
  {
   "cell_type": "markdown",
   "id": "76132452",
   "metadata": {},
   "source": [
    "## 2.8. Read the cooking technologies data\n",
    "\n",
    "The techno-economic specification file is read. This file does two things: 1) it determines the available fuel/stove combinations used in the analysis and 2) it idicate different techno-economic parameters related to these stoves. If a stove is to be added to the analysis the first step is to add it in this file. The fucntion `read_tech_data` creates a dictionary of technology-classes. This dictionary can be called with `country.techs`\n",
    "\n",
    "Find out more about this function in the [documentation](https://onstove-documentation.readthedocs.io/en/latest/generated/onstove.onstove.OnStove.read_tech_data.html)."
   ]
  },
  {
   "cell_type": "code",
   "execution_count": 33,
   "id": "cd565793",
   "metadata": {},
   "outputs": [],
   "source": [
    "path = os.path.join('..', 'example', 'tech_specs.csv')\n",
    "country.read_tech_data(path, delimiter=',')\n",
    "#country.techs[\"Electricity\"].inv_cost = 1000\n",
    "#country.techs[\"Electricity\"].inv_change = 0.1"
   ]
  },
  {
   "cell_type": "markdown",
   "id": "3973c694",
   "metadata": {},
   "source": [
    "## 2.9. Reading GIS data for LPG supply\n",
    "\n",
    "The LPG traveltime is added to the dataframe. The original dataset gives the time in minutes, so here the values are divided by 60 to ensure that the time worked with is in hours. A factor of 2 is also multiplied with the traveltime to account for the fact that the trips are two-ways. "
   ]
  },
  {
   "cell_type": "code",
   "execution_count": 34,
   "id": "faf02a0e",
   "metadata": {},
   "outputs": [
    {
     "name": "stderr",
     "output_type": "stream",
     "text": [
      "C:\\Users\\khavari\\Anaconda3\\envs\\onstove_dev\\lib\\site-packages\\rasterio\\fill.py:70: RuntimeWarning: invalid value encountered in cast\n"
     ]
    }
   ],
   "source": [
    "path = os.path.join(output_directory, 'LPG', 'LPG Traveltime', 'LPG Traveltime.tif')\n",
    "lpg = RasterLayer('LPG', 'LPG Traveltime', path = path)\n",
    "\n",
    "travel_time = country.raster_to_dataframe(lpg, fill_nodata_method='interpolate', method = 'read') * 2 / 60\n",
    "country.techs['LPG'].travel_time = pd.Series(travel_time, index = country.gdf.index) "
   ]
  },
  {
   "cell_type": "markdown",
   "id": "783b0ca2",
   "metadata": {},
   "source": [
    "## 2.10. Adding GIS data for Biogas\n",
    "\n",
    "Biogas potential is dependent on the availability of manure, the availability of manure is in turn dependent on livestock. The cell below determines and adds the livestocks and manure to the dataframe. Apart from adding the livestock datasets to the dataframe, the cell below also takes into account the temperature [(temperatures below 10 degrees celsius render the biogas digesters too inefficient)](https://www.sciencedirect.com/science/article/pii/S2213138821003118) and adds a friction map (walking only friction that is also used for biomass in order to estimate the traveltime for biogas collection). \n",
    "\n",
    "Find out more the calibration of livestock in the [documentation](https://onstove-documentation.readthedocs.io/en/latest/generated/onstove.technology.Biogas.recalibrate_livestock)."
   ]
  },
  {
   "cell_type": "code",
   "execution_count": 35,
   "id": "26fc9c97",
   "metadata": {},
   "outputs": [
    {
     "name": "stderr",
     "output_type": "stream",
     "text": [
      "C:\\Users\\khavari\\Anaconda3\\envs\\onstove_dev\\lib\\site-packages\\rasterio\\fill.py:70: RuntimeWarning: invalid value encountered in cast\n",
      "C:\\Users\\khavari\\Anaconda3\\envs\\onstove_dev\\lib\\site-packages\\rasterio\\fill.py:70: RuntimeWarning: invalid value encountered in cast\n",
      "C:\\Users\\khavari\\Anaconda3\\envs\\onstove_dev\\lib\\site-packages\\rasterio\\fill.py:70: RuntimeWarning: invalid value encountered in cast\n",
      "C:\\Users\\khavari\\Anaconda3\\envs\\onstove_dev\\lib\\site-packages\\rasterio\\fill.py:70: RuntimeWarning: invalid value encountered in cast\n",
      "C:\\Users\\khavari\\Anaconda3\\envs\\onstove_dev\\lib\\site-packages\\rasterio\\fill.py:70: RuntimeWarning: invalid value encountered in cast\n",
      "C:\\Users\\khavari\\Anaconda3\\envs\\onstove_dev\\lib\\site-packages\\rasterio\\fill.py:70: RuntimeWarning: invalid value encountered in cast\n"
     ]
    }
   ],
   "source": [
    "amin = gpd.read_file(os.path.join(output_directory, 'Administrative', 'Country_boundaries', 'Country_boundaries.geojson'))\n",
    "buffaloes = os.path.join(output_directory, 'Biogas', 'Livestock', 'buffaloes', 'buffaloes.tif')\n",
    "cattles = os.path.join(output_directory, 'Biogas', 'Livestock', 'cattles', 'cattles.tif')\n",
    "poultry =os.path.join(output_directory, 'Biogas', 'Livestock', 'poultry', 'poultry.tif')\n",
    "goats = os.path.join(output_directory, 'Biogas', 'Livestock', 'goats', 'goats.tif')\n",
    "pigs = os.path.join(output_directory, 'Biogas', 'Livestock', 'pigs', 'pigs.tif')\n",
    "sheeps = os.path.join(output_directory, 'Biogas', 'Livestock', 'sheeps', 'sheeps.tif')\n",
    "\n",
    "country.techs['Biogas'].temperature = os.path.join(output_directory, 'Biogas', 'Temperature', 'Temperature.tif')\n",
    "country.techs['Biogas'].recalibrate_livestock(country, buffaloes, cattles, poultry, goats, pigs, sheeps)\n",
    "country.techs['Biogas'].friction_path = os.path.join(output_directory, 'Biomass', 'Friction', 'Friction.tif')"
   ]
  },
  {
   "cell_type": "markdown",
   "id": "647cfcf0",
   "metadata": {},
   "source": [
    "## 2.11. Adding GIS data for Biomass\n",
    "\n",
    "Biomass is assumed to be collected by the end-users themselves. In this example notebook three biomass stoves are present (traditional biomass, natural draft (Collected Improved biomass) and forced draft. For each one of these stove types the forest and friction layers are added to their respective classes. The forest layer describes where the collection opportunities for biomass exist, while the friction map (only walking-friction) describes is used to determine the least-cost path to the different collection points on the map. The collection point with the lowest traveltime is selected for biomass collection. The user can also give a condition for where collection can be carried out using the `forest_condition` call. The condition restricts certain areas based on canopy cover. In this example no such restriction is given.\n",
    "\n",
    "Find out more about how biomass is treadted in the [documentation](https://onstove-documentation.readthedocs.io/en/latest/generated/onstove.technology.Biomass.html)."
   ]
  },
  {
   "cell_type": "code",
   "execution_count": 36,
   "id": "7204607f",
   "metadata": {},
   "outputs": [],
   "source": [
    "#country.techs['Biomass Forced Draft'].friction_path = os.path.join(output_directory, 'Biomass', 'Friction', 'Friction.tif')\n",
    "#country.techs['Biomass Forced Draft'].forest_path = os.path.join(output_directory, 'Biomass', 'Forest', 'Forest.tif')\n",
    "#country.techs['Biomass Forced Draft'].forest_condition = lambda x: x > 0\n",
    "\n",
    "country.techs['Biomass improved firewood stoves'].friction_path = os.path.join(output_directory, 'Biomass', 'Friction', 'Friction.tif')\n",
    "country.techs['Biomass improved firewood stoves'].forest_path = os.path.join(output_directory, 'Biomass', 'Forest', 'Forest.tif')\n",
    "country.techs['Biomass improved firewood stoves'].forest_condition = lambda x: x > 0\n",
    "\n",
    "country.techs['Biomass Three stone open fire'].friction_path = os.path.join(output_directory, 'Biomass', 'Friction', 'Friction.tif')\n",
    "country.techs['Biomass Three stone open fire'].forest_path = os.path.join(output_directory, 'Biomass', 'Forest', 'Forest.tif')\n",
    "country.techs['Biomass Three stone open fire'].forest_condition = lambda x: x > 0"
   ]
  },
  {
   "cell_type": "markdown",
   "id": "449e4afa",
   "metadata": {},
   "source": [
    "## 2.12. Saving the prepared model inputs\n",
    "\n",
    "The cell below saves the dataframe created through the calibration-phase as a .pkl-file. This enables users to run several scenarios on the same file without rerunning the previous steps. "
   ]
  },
  {
   "cell_type": "code",
   "execution_count": 37,
   "id": "b23d52f5",
   "metadata": {
    "scrolled": true
   },
   "outputs": [],
   "source": [
    "country.output_directory = r\".\"\n",
    "\n",
    "country.to_pickle(\"model_inputs.pkl\")\n",
    "\n",
    "end = time.time()\n",
    "\n",
    "#diff = end - start\n",
    "#print('Execution time:', str(str(int(diff//60))) + ' min ' + str(int((diff)%60)) + ' sec')"
   ]
  },
  {
   "cell_type": "markdown",
   "id": "30799bf0",
   "metadata": {},
   "source": [
    "# 3. Model run\n",
    "\n",
    "This section runs the main-analysis and produces the results of OnStove. In this section first the cooking options currently in place are determined for urban and rural settlements. This base-line cooking mix is used in order to determine the relative benefits (reduced mortality, reduced morbidiy, time saved and carbon emissions avoided), as well as the relative costs (investments, operation & maintenance, fuel and salvage costs). The benefits and costs for all stove options are combined in every cell to produce the net-benefit (defined as benefits minus costs). The stove with the highest net-benefit is selected for each cell in the study area.\n",
    "\n",
    "The first two cells in this section reads: 1) the model inputs (output from the calibration phase) and 2) the socio-economic specification file. "
   ]
  },
  {
   "cell_type": "code",
   "execution_count": 42,
   "id": "8317f52f",
   "metadata": {},
   "outputs": [],
   "source": [
    "start = time.time\n",
    "country = OnStove.read_model(\"model_inputs.pkl\")"
   ]
  },
  {
   "cell_type": "code",
   "execution_count": 43,
   "id": "0232df66",
   "metadata": {},
   "outputs": [],
   "source": [
    "path = os.path.join('..', 'example', 'soc_specs.csv')\n",
    "country.read_scenario_data(path)"
   ]
  },
  {
   "cell_type": "markdown",
   "id": "96a88442",
   "metadata": {},
   "source": [
    "## 3.1 Calculating benefits and costs of each technology and getting the max benefit technology for each cell\n",
    "\n",
    "The cell below runs the analysis for the technologies specified in the list called `names`. **Note: the technologies in the name list also have to be present in the techno-economic file, otherwise the run will crash.**\n",
    "\n",
    "The run function calculates all benefits and costs. It also determines the net-benefit and selects the stove with the highest net-benefit. \n",
    "\n",
    "For more information on this function, refer to the [documentation](https://onstove-documentation.readthedocs.io/en/latest/generated/onstove.onstove.OnStove.run.html)"
   ]
  },
  {
   "cell_type": "code",
   "execution_count": 44,
   "id": "232a20a9-51f6-4b78-8cef-f2ffaa866e91",
   "metadata": {},
   "outputs": [],
   "source": [
    "# No stove can have 0 in stove life...\n",
    "country.techs[\"Biomass Three stone open fire\"].tech_life = 1"
   ]
  },
  {
   "cell_type": "code",
   "execution_count": 45,
   "id": "2a6c5e67",
   "metadata": {},
   "outputs": [
    {
     "name": "stdout",
     "output_type": "stream",
     "text": [
      "[Kenya] Calculating clean cooking access\n",
      "[Kenya] Calculating base fuel properties\n"
     ]
    },
    {
     "ename": "type",
     "evalue": "index 1082 is out of bounds for axis 0 with size 1082",
     "output_type": "error",
     "traceback": [
      "\u001b[1;31m---------------------------------------------------------------------------\u001b[0m",
      "\u001b[1;31mIndexError\u001b[0m                                Traceback (most recent call last)",
      "Cell \u001b[1;32mIn[45], line 12\u001b[0m\n\u001b[0;32m      1\u001b[0m start \u001b[38;5;241m=\u001b[39m time\u001b[38;5;241m.\u001b[39mtime()\n\u001b[0;32m      3\u001b[0m names \u001b[38;5;241m=\u001b[39m [\u001b[38;5;124m\"\u001b[39m\u001b[38;5;124mCharcoal ICS\u001b[39m\u001b[38;5;124m\"\u001b[39m,\n\u001b[0;32m      4\u001b[0m \u001b[38;5;124m\"\u001b[39m\u001b[38;5;124mBiomass improved firewood stoves\u001b[39m\u001b[38;5;124m\"\u001b[39m,\n\u001b[0;32m      5\u001b[0m \u001b[38;5;124m\"\u001b[39m\u001b[38;5;124mBiomass Three stone open fire\u001b[39m\u001b[38;5;124m\"\u001b[39m,\n\u001b[1;32m   (...)\u001b[0m\n\u001b[0;32m      9\u001b[0m \u001b[38;5;124m\"\u001b[39m\u001b[38;5;124mElectricity pressure cooker\u001b[39m\u001b[38;5;124m\"\u001b[39m,\n\u001b[0;32m     10\u001b[0m \u001b[38;5;124m\"\u001b[39m\u001b[38;5;124mElectricity\u001b[39m\u001b[38;5;124m\"\u001b[39m]\n\u001b[1;32m---> 12\u001b[0m \u001b[43mcountry\u001b[49m\u001b[38;5;241;43m.\u001b[39;49m\u001b[43mrun\u001b[49m\u001b[43m(\u001b[49m\u001b[43mtechnologies\u001b[49m\u001b[38;5;241;43m=\u001b[39;49m\u001b[43mnames\u001b[49m\u001b[43m,\u001b[49m\u001b[43m \u001b[49m\u001b[43mprogression\u001b[49m\u001b[38;5;241;43m=\u001b[39;49m\u001b[38;5;124;43m'\u001b[39;49m\u001b[38;5;124;43mcosts\u001b[39;49m\u001b[38;5;124;43m'\u001b[39;49m\u001b[43m,\u001b[49m\u001b[43m \u001b[49m\u001b[43mrestriction\u001b[49m\u001b[43m \u001b[49m\u001b[38;5;241;43m=\u001b[39;49m\u001b[43m \u001b[49m\u001b[38;5;28;43;01mFalse\u001b[39;49;00m\u001b[43m)\u001b[49m \n\u001b[0;32m     14\u001b[0m end \u001b[38;5;241m=\u001b[39m time\u001b[38;5;241m.\u001b[39mtime()\n\u001b[0;32m     16\u001b[0m diff \u001b[38;5;241m=\u001b[39m end \u001b[38;5;241m-\u001b[39m start\n",
      "File \u001b[1;32m~\\OneDrive - KTH\\onstove\\example\\..\\onstove\\model.py:1777\u001b[0m, in \u001b[0;36mOnStove.run\u001b[1;34m(self, technologies, restriction, progression)\u001b[0m\n\u001b[0;32m   1775\u001b[0m \u001b[38;5;28;01mif\u001b[39;00m \u001b[38;5;28mself\u001b[39m\u001b[38;5;241m.\u001b[39mbase_fuel \u001b[38;5;129;01mis\u001b[39;00m \u001b[38;5;28;01mNone\u001b[39;00m:\n\u001b[0;32m   1776\u001b[0m     \u001b[38;5;28mprint\u001b[39m(\u001b[38;5;124mf\u001b[39m\u001b[38;5;124m'\u001b[39m\u001b[38;5;124m[\u001b[39m\u001b[38;5;132;01m{\u001b[39;00m\u001b[38;5;28mself\u001b[39m\u001b[38;5;241m.\u001b[39mspecs[\u001b[38;5;124m\"\u001b[39m\u001b[38;5;124mcountry_name\u001b[39m\u001b[38;5;124m\"\u001b[39m]\u001b[38;5;132;01m}\u001b[39;00m\u001b[38;5;124m] Calculating base fuel properties\u001b[39m\u001b[38;5;124m'\u001b[39m)\n\u001b[1;32m-> 1777\u001b[0m     \u001b[38;5;28;43mself\u001b[39;49m\u001b[38;5;241;43m.\u001b[39;49m\u001b[43mset_base_fuel\u001b[49m\u001b[43m(\u001b[49m\u001b[38;5;28;43mlist\u001b[39;49m\u001b[43m(\u001b[49m\u001b[38;5;28;43mself\u001b[39;49m\u001b[38;5;241;43m.\u001b[39;49m\u001b[43mtechs\u001b[49m\u001b[38;5;241;43m.\u001b[39;49m\u001b[43mvalues\u001b[49m\u001b[43m(\u001b[49m\u001b[43m)\u001b[49m\u001b[43m)\u001b[49m\u001b[43m)\u001b[49m\n\u001b[0;32m   1778\u001b[0m \u001b[38;5;28;01mif\u001b[39;00m technologies \u001b[38;5;241m==\u001b[39m \u001b[38;5;124m'\u001b[39m\u001b[38;5;124mall\u001b[39m\u001b[38;5;124m'\u001b[39m:\n\u001b[0;32m   1779\u001b[0m      techs \u001b[38;5;241m=\u001b[39m [tech \u001b[38;5;28;01mfor\u001b[39;00m tech \u001b[38;5;129;01min\u001b[39;00m \u001b[38;5;28mself\u001b[39m\u001b[38;5;241m.\u001b[39mtechs\u001b[38;5;241m.\u001b[39mvalues()]\n",
      "File \u001b[1;32m~\\OneDrive - KTH\\onstove\\example\\..\\onstove\\model.py:1115\u001b[0m, in \u001b[0;36mOnStove.set_base_fuel\u001b[1;34m(self, techs)\u001b[0m\n\u001b[0;32m   1112\u001b[0m mask \u001b[38;5;241m=\u001b[39m pd\u001b[38;5;241m.\u001b[39mSeries(\u001b[38;5;28;01mTrue\u001b[39;00m, index\u001b[38;5;241m=\u001b[39m\u001b[38;5;28mself\u001b[39m\u001b[38;5;241m.\u001b[39mgdf\u001b[38;5;241m.\u001b[39mindex)\n\u001b[0;32m   1114\u001b[0m \u001b[38;5;28mself\u001b[39m\u001b[38;5;241m.\u001b[39mecooking_adjustment()\n\u001b[1;32m-> 1115\u001b[0m \u001b[43mbase_fuels\u001b[49m\u001b[43m[\u001b[49m\u001b[38;5;124;43m\"\u001b[39;49m\u001b[38;5;124;43mBiogas\u001b[39;49m\u001b[38;5;124;43m\"\u001b[39;49m\u001b[43m]\u001b[49m\u001b[38;5;241;43m.\u001b[39;49m\u001b[43mtotal_time\u001b[49m\u001b[43m(\u001b[49m\u001b[38;5;28;43mself\u001b[39;49m\u001b[43m,\u001b[49m\u001b[43m \u001b[49m\u001b[43mmask\u001b[49m\u001b[43m)\u001b[49m\n\u001b[0;32m   1116\u001b[0m required_energy_hh \u001b[38;5;241m=\u001b[39m base_fuels[\u001b[38;5;124m\"\u001b[39m\u001b[38;5;124mBiogas\u001b[39m\u001b[38;5;124m\"\u001b[39m]\u001b[38;5;241m.\u001b[39mrequired_energy_hh(\u001b[38;5;28mself\u001b[39m)\n\u001b[0;32m   1117\u001b[0m factor \u001b[38;5;241m=\u001b[39m \u001b[38;5;28mself\u001b[39m\u001b[38;5;241m.\u001b[39mgdf[\u001b[38;5;124m'\u001b[39m\u001b[38;5;124mbiogas_energy\u001b[39m\u001b[38;5;124m'\u001b[39m] \u001b[38;5;241m/\u001b[39m (required_energy_hh \u001b[38;5;241m*\u001b[39m \u001b[38;5;28mself\u001b[39m\u001b[38;5;241m.\u001b[39mgdf[\u001b[38;5;124m\"\u001b[39m\u001b[38;5;124mhouseholds_init\u001b[39m\u001b[38;5;124m\"\u001b[39m])\n",
      "File \u001b[1;32m~\\OneDrive - KTH\\onstove\\example\\..\\onstove\\technology.py:2499\u001b[0m, in \u001b[0;36mBiogas.total_time\u001b[1;34m(self, model, mask)\u001b[0m\n\u001b[0;32m   2486\u001b[0m \u001b[38;5;250m\u001b[39m\u001b[38;5;124;03m\"\"\"This method expands :meth:`Technology.total_time` by adding the biogas collection time\u001b[39;00m\n\u001b[0;32m   2487\u001b[0m \n\u001b[0;32m   2488\u001b[0m \u001b[38;5;124;03mParameters\u001b[39;00m\n\u001b[1;32m   (...)\u001b[0m\n\u001b[0;32m   2496\u001b[0m \u001b[38;5;124;03mtotal_time\u001b[39;00m\n\u001b[0;32m   2497\u001b[0m \u001b[38;5;124;03m\"\"\"\u001b[39;00m\n\u001b[0;32m   2498\u001b[0m \u001b[38;5;28;01mif\u001b[39;00m \u001b[38;5;129;01mnot\u001b[39;00m \u001b[38;5;28misinstance\u001b[39m(\u001b[38;5;28mself\u001b[39m\u001b[38;5;241m.\u001b[39mtime_of_collection, pd\u001b[38;5;241m.\u001b[39mSeries):\n\u001b[1;32m-> 2499\u001b[0m     \u001b[38;5;28;43mself\u001b[39;49m\u001b[38;5;241;43m.\u001b[39;49m\u001b[43mget_collection_time\u001b[49m\u001b[43m(\u001b[49m\u001b[43mmodel\u001b[49m\u001b[43m)\u001b[49m\n\u001b[0;32m   2500\u001b[0m \u001b[38;5;28msuper\u001b[39m()\u001b[38;5;241m.\u001b[39mtotal_time(model, mask)\n\u001b[0;32m   2501\u001b[0m \u001b[38;5;28mself\u001b[39m\u001b[38;5;241m.\u001b[39mtotal_time_yr \u001b[38;5;241m+\u001b[39m\u001b[38;5;241m=\u001b[39m (\u001b[38;5;28mself\u001b[39m\u001b[38;5;241m.\u001b[39mmanure_feed_time \u001b[38;5;241m*\u001b[39m \u001b[38;5;241m365\u001b[39m)\n",
      "File \u001b[1;32m~\\OneDrive - KTH\\onstove\\example\\..\\onstove\\technology.py:2382\u001b[0m, in \u001b[0;36mBiogas.get_collection_time\u001b[1;34m(self, model)\u001b[0m\n\u001b[0;32m   2371\u001b[0m \u001b[38;5;28;01mdef\u001b[39;00m \u001b[38;5;21mget_collection_time\u001b[39m(\u001b[38;5;28mself\u001b[39m, model: \u001b[38;5;124m'\u001b[39m\u001b[38;5;124monstove.OnStove\u001b[39m\u001b[38;5;124m'\u001b[39m):\n\u001b[0;32m   2372\u001b[0m \u001b[38;5;250m    \u001b[39m\u001b[38;5;124;03m\"\"\"Calculates the daily time of collection based on friction (hour/meter), the available biogas energy from\u001b[39;00m\n\u001b[0;32m   2373\u001b[0m \u001b[38;5;124;03m    each cell (MJ/yr/meter, 1000000 represents meters per km2) and the required energy per household (MJ/yr)\u001b[39;00m\n\u001b[0;32m   2374\u001b[0m \n\u001b[1;32m   (...)\u001b[0m\n\u001b[0;32m   2380\u001b[0m \n\u001b[0;32m   2381\u001b[0m \u001b[38;5;124;03m    \"\"\"\u001b[39;00m\n\u001b[1;32m-> 2382\u001b[0m     \u001b[38;5;28;43mself\u001b[39;49m\u001b[38;5;241;43m.\u001b[39;49m\u001b[43mavailable_biogas\u001b[49m\u001b[43m(\u001b[49m\u001b[43mmodel\u001b[49m\u001b[43m)\u001b[49m\n\u001b[0;32m   2383\u001b[0m     required_energy_hh \u001b[38;5;241m=\u001b[39m \u001b[38;5;28mself\u001b[39m\u001b[38;5;241m.\u001b[39mrequired_energy_hh(model)\n\u001b[0;32m   2385\u001b[0m     friction \u001b[38;5;241m=\u001b[39m \u001b[38;5;28mself\u001b[39m\u001b[38;5;241m.\u001b[39mread_friction(model, \u001b[38;5;28mself\u001b[39m\u001b[38;5;241m.\u001b[39mfriction_path)\n",
      "File \u001b[1;32m~\\OneDrive - KTH\\onstove\\example\\..\\onstove\\technology.py:2431\u001b[0m, in \u001b[0;36mBiogas.available_biogas\u001b[1;34m(self, model)\u001b[0m\n\u001b[0;32m   2428\u001b[0m     \u001b[38;5;28;01mif\u001b[39;00m \u001b[38;5;28misinstance\u001b[39m(\u001b[38;5;28mself\u001b[39m\u001b[38;5;241m.\u001b[39mtemperature, \u001b[38;5;28mstr\u001b[39m):\n\u001b[0;32m   2429\u001b[0m         \u001b[38;5;28mself\u001b[39m\u001b[38;5;241m.\u001b[39mtemperature \u001b[38;5;241m=\u001b[39m RasterLayer(\u001b[38;5;124m'\u001b[39m\u001b[38;5;124mBiogas\u001b[39m\u001b[38;5;124m'\u001b[39m, \u001b[38;5;124m'\u001b[39m\u001b[38;5;124mTemperature\u001b[39m\u001b[38;5;124m'\u001b[39m, \u001b[38;5;28mself\u001b[39m\u001b[38;5;241m.\u001b[39mtemperature)\n\u001b[1;32m-> 2431\u001b[0m     \u001b[43mmodel\u001b[49m\u001b[38;5;241;43m.\u001b[39;49m\u001b[43mraster_to_dataframe\u001b[49m\u001b[43m(\u001b[49m\u001b[38;5;28;43mself\u001b[39;49m\u001b[38;5;241;43m.\u001b[39;49m\u001b[43mtemperature\u001b[49m\u001b[43m,\u001b[49m\u001b[43m \u001b[49m\u001b[43mname\u001b[49m\u001b[38;5;241;43m=\u001b[39;49m\u001b[38;5;124;43m\"\u001b[39;49m\u001b[38;5;124;43mTemperature\u001b[39;49m\u001b[38;5;124;43m\"\u001b[39;49m\u001b[43m,\u001b[49m\u001b[43m \u001b[49m\u001b[43mmethod\u001b[49m\u001b[38;5;241;43m=\u001b[39;49m\u001b[38;5;124;43m'\u001b[39;49m\u001b[38;5;124;43mread\u001b[39;49m\u001b[38;5;124;43m'\u001b[39;49m\u001b[43m,\u001b[49m\n\u001b[0;32m   2432\u001b[0m \u001b[43m                              \u001b[49m\u001b[43mfill_nodata_method\u001b[49m\u001b[38;5;241;43m=\u001b[39;49m\u001b[38;5;124;43m'\u001b[39;49m\u001b[38;5;124;43minterpolate\u001b[39;49m\u001b[38;5;124;43m'\u001b[39;49m\u001b[43m)\u001b[49m\n\u001b[0;32m   2433\u001b[0m     model\u001b[38;5;241m.\u001b[39mgdf\u001b[38;5;241m.\u001b[39mloc[model\u001b[38;5;241m.\u001b[39mgdf[\u001b[38;5;124m\"\u001b[39m\u001b[38;5;124mTemperature\u001b[39m\u001b[38;5;124m\"\u001b[39m] \u001b[38;5;241m<\u001b[39m \u001b[38;5;241m10\u001b[39m, \u001b[38;5;124m\"\u001b[39m\u001b[38;5;124mavailable_biogas\u001b[39m\u001b[38;5;124m\"\u001b[39m] \u001b[38;5;241m=\u001b[39m \u001b[38;5;241m0\u001b[39m\n\u001b[0;32m   2435\u001b[0m model\u001b[38;5;241m.\u001b[39mgdf\u001b[38;5;241m.\u001b[39mloc[(model\u001b[38;5;241m.\u001b[39mgdf[\u001b[38;5;124m\"\u001b[39m\u001b[38;5;124mIsUrban\u001b[39m\u001b[38;5;124m\"\u001b[39m] \u001b[38;5;241m>\u001b[39m \u001b[38;5;241m20\u001b[39m), \u001b[38;5;124m\"\u001b[39m\u001b[38;5;124mavailable_biogas\u001b[39m\u001b[38;5;124m\"\u001b[39m] \u001b[38;5;241m=\u001b[39m \u001b[38;5;241m0\u001b[39m\n",
      "File \u001b[1;32m~\\OneDrive - KTH\\onstove\\example\\..\\onstove\\model.py:1568\u001b[0m, in \u001b[0;36mOnStove.raster_to_dataframe\u001b[1;34m(self, layer, name, method, fill_nodata_method, fill_default_value)\u001b[0m\n\u001b[0;32m   1566\u001b[0m mask \u001b[38;5;241m=\u001b[39m layer\u001b[38;5;241m.\u001b[39mcopy()\u001b[38;5;241m.\u001b[39mastype(\u001b[38;5;28mfloat\u001b[39m)\n\u001b[0;32m   1567\u001b[0m mask[mask \u001b[38;5;241m==\u001b[39m nodata] \u001b[38;5;241m=\u001b[39m np\u001b[38;5;241m.\u001b[39mnan\n\u001b[1;32m-> 1568\u001b[0m \u001b[38;5;28;01mif\u001b[39;00m np\u001b[38;5;241m.\u001b[39misnan(\u001b[43mmask\u001b[49m\u001b[43m[\u001b[49m\u001b[38;5;28;43mself\u001b[39;49m\u001b[38;5;241;43m.\u001b[39;49m\u001b[43mrows\u001b[49m\u001b[43m,\u001b[49m\u001b[43m \u001b[49m\u001b[38;5;28;43mself\u001b[39;49m\u001b[38;5;241;43m.\u001b[39;49m\u001b[43mcols\u001b[49m\u001b[43m]\u001b[49m)\u001b[38;5;241m.\u001b[39msum() \u001b[38;5;241m>\u001b[39m \u001b[38;5;241m0\u001b[39m:\n\u001b[0;32m   1569\u001b[0m     mask[\u001b[38;5;241m~\u001b[39mnp\u001b[38;5;241m.\u001b[39misnan(mask)] \u001b[38;5;241m=\u001b[39m \u001b[38;5;241m1\u001b[39m\n\u001b[0;32m   1570\u001b[0m     base \u001b[38;5;241m=\u001b[39m \u001b[38;5;28mself\u001b[39m\u001b[38;5;241m.\u001b[39mbase_layer\u001b[38;5;241m.\u001b[39mdata\u001b[38;5;241m.\u001b[39mcopy()\n",
      "\u001b[1;31mIndexError\u001b[0m: index 1082 is out of bounds for axis 0 with size 1082"
     ]
    }
   ],
   "source": [
    "start = time.time()\n",
    "\n",
    "names = [\"Charcoal ICS\",\n",
    "\"Biomass improved firewood stoves\",\n",
    "\"Biomass Three stone open fire\",\n",
    "\"Electricity rice cooker\",\n",
    "\"LPG\",\n",
    "\"Metallic charcoal stoves\",\n",
    "\"Electricity pressure cooker\",\n",
    "\"Electricity\"]\n",
    "\n",
    "country.run(technologies=names, progression='costs', restriction = False) \n",
    "\n",
    "end = time.time()\n",
    "\n",
    "diff = end - start\n",
    "\n",
    "print('Execution time:', str(str(int(diff//60))) + ' min ' + str(int((diff)%60)) + ' sec')"
   ]
  },
  {
   "cell_type": "markdown",
   "id": "2440b683",
   "metadata": {},
   "source": [
    "#### 3.2. Printing the summaries\n",
    "\n",
    "Prints the summary of the results. Note that the results are relative to the base-line, so in some cases costs and benefits can be negative. For each stove in the results the table includes:\n",
    "\n",
    "* Population using the stove\n",
    "* Households using the stove\n",
    "* Total net-benefit generated across the study area due to the use of the stove\n",
    "* Total number deaths avoided across the study area due to the use of the stove\n",
    "* The total health costs avoided by using the stove across the study area\n",
    "* Hours saved by adopting each stove for every household on average\n",
    "* Opportunity cost due to time saved for each stove type across the study area\n",
    "* Emissions avoided across the study area due to the use of each stove\n",
    "* Emission costs avoided across the study area due to the use of each stove\n",
    "* Total investment costs\n",
    "* Total fuel costs\n",
    "* Total O&M costs (operation and maintenance) \n",
    "* Total salvage costs\n",
    "\n",
    "Each summary statistics area also aggregated across the entire study area."
   ]
  },
  {
   "cell_type": "code",
   "execution_count": null,
   "id": "d39bfdfc-c2d5-4cc1-9659-2da31537ff74",
   "metadata": {},
   "outputs": [],
   "source": [
    "is_tech = ((country.gdf['max_benefit_tech'] == 'Electricity rice cooker') & (country.gdf['year'] == 2021))\n",
    "is_tech.sum()"
   ]
  },
  {
   "cell_type": "code",
   "execution_count": null,
   "id": "82e5f5f6-3475-4989-a2be-6dbb5724bae4",
   "metadata": {},
   "outputs": [],
   "source": [
    "country.gdf[\"placeholder_year\"].min()"
   ]
  },
  {
   "cell_type": "code",
   "execution_count": null,
   "id": "71105211-f253-431f-b12f-dea6248d10cc",
   "metadata": {},
   "outputs": [],
   "source": [
    "country.techs[\"Electricity rice cooker\"].salvage_cost"
   ]
  },
  {
   "cell_type": "code",
   "execution_count": null,
   "id": "2f9a3c04-b575-4a87-bed7-ae6285e6e209",
   "metadata": {},
   "outputs": [],
   "source": [
    "test.sum()"
   ]
  },
  {
   "cell_type": "code",
   "execution_count": null,
   "id": "28dd4534-a35e-41e5-bda3-87d4a7aeabea",
   "metadata": {},
   "outputs": [],
   "source": [
    "country.max_benefit_tech_2021.unique()"
   ]
  },
  {
   "cell_type": "code",
   "execution_count": null,
   "id": "8c70cf48-0524-435f-8b3c-cee08c937703",
   "metadata": {},
   "outputs": [],
   "source": [
    "country.techs[\"Electricity\"].net_benefits[testy]"
   ]
  },
  {
   "cell_type": "code",
   "execution_count": null,
   "id": "269529ce-d088-45ba-8d73-6ae008a2353d",
   "metadata": {},
   "outputs": [],
   "source": [
    "country.techs[\"LPG\"].net_benefits[testy]"
   ]
  },
  {
   "cell_type": "code",
   "execution_count": null,
   "id": "257a5578-83f1-4426-ab6d-6f96d6aff100",
   "metadata": {},
   "outputs": [],
   "source": [
    "country.techs[\"Pellets Forced Draft\"].net_benefits[testy]"
   ]
  },
  {
   "cell_type": "code",
   "execution_count": null,
   "id": "293a248e-c2a2-4c86-8471-fd51ff6cfb85",
   "metadata": {},
   "outputs": [],
   "source": [
    "country.techs[\"Charcoal ICS\"].distributed_mortality[testy]"
   ]
  },
  {
   "cell_type": "code",
   "execution_count": null,
   "id": "9f3e3aae-3be2-47cd-9213-832c3b4b213d",
   "metadata": {},
   "outputs": [],
   "source": []
  },
  {
   "cell_type": "code",
   "execution_count": null,
   "id": "38ac4c01-7d58-417f-8254-ecc5cd860277",
   "metadata": {},
   "outputs": [],
   "source": []
  },
  {
   "cell_type": "code",
   "execution_count": null,
   "id": "a01552f2-082c-4c18-9beb-46e1d0511457",
   "metadata": {},
   "outputs": [],
   "source": []
  },
  {
   "cell_type": "code",
   "execution_count": null,
   "id": "9882139c-2da5-4a3f-ae97-ca3f81fa8620",
   "metadata": {},
   "outputs": [],
   "source": []
  },
  {
   "cell_type": "code",
   "execution_count": null,
   "id": "11c67568-22ca-41ab-b2df-fef5a1a14787",
   "metadata": {},
   "outputs": [],
   "source": []
  },
  {
   "cell_type": "code",
   "execution_count": null,
   "id": "55264a94-83d2-4437-8d50-2395c3198e75",
   "metadata": {},
   "outputs": [],
   "source": [
    "country.summary(cumulative_stats=True, year=2023)"
   ]
  },
  {
   "cell_type": "code",
   "execution_count": null,
   "id": "f51be19a",
   "metadata": {},
   "outputs": [],
   "source": [
    "country.summary()"
   ]
  },
  {
   "cell_type": "markdown",
   "id": "b2d739d6",
   "metadata": {},
   "source": [
    "## 3.3. Saving the results\n",
    "\n",
    "Saves the full results as .pkl-file. It is important to change the name each time you run a scenario to avoid overwriting your old results."
   ]
  },
  {
   "cell_type": "code",
   "execution_count": null,
   "id": "27f7a545",
   "metadata": {},
   "outputs": [],
   "source": [
    "country.to_pickle('results_inv_change.pkl')"
   ]
  },
  {
   "cell_type": "markdown",
   "id": "43af891e",
   "metadata": {},
   "source": [
    "# 4. Visualization\n",
    "\n",
    "The section below gives an indication of what can be visualized using the OnStove results. Note that the actual result files include more information that can also be visualized and extracted for later use. "
   ]
  },
  {
   "cell_type": "markdown",
   "id": "f75fa888",
   "metadata": {},
   "source": [
    "## 4.1. Reading the results\n",
    "\n",
    "First we read in the results produced in [step 3](#3.-Model-run)."
   ]
  },
  {
   "cell_type": "code",
   "execution_count": null,
   "id": "a068d59c",
   "metadata": {},
   "outputs": [],
   "source": [
    "results = OnStove.read_model(\"results_inv_change.pkl\")"
   ]
  },
  {
   "cell_type": "markdown",
   "id": "5174e431",
   "metadata": {},
   "source": [
    "## 4.2. Add a country mask layer\n",
    "\n",
    "We read the administrative boundaries polygon. This will be used as a backdrop for the maps. "
   ]
  },
  {
   "cell_type": "code",
   "execution_count": null,
   "id": "8b1ed161",
   "metadata": {},
   "outputs": [],
   "source": [
    "output_directory = '../example/results'\n",
    "path = os.path.join(output_directory,'Administrative','Country_boundaries', 'Country_boundaries.geojson')\n",
    "mask_layer = VectorLayer('admin', 'adm_0', path=path)\n",
    "results.mask_layer = mask_layer"
   ]
  },
  {
   "cell_type": "markdown",
   "id": "8385e3ad",
   "metadata": {},
   "source": [
    "## 4.3. Setting the color palette and label names\n",
    "\n",
    "Setting the color palette for visualization of the maps and graphs. These are dictionaries containing all the stoves included in the analysis and their html-coded colors."
   ]
  },
  {
   "cell_type": "code",
   "execution_count": null,
   "id": "2d2e806d",
   "metadata": {},
   "outputs": [],
   "source": [
    "cmap = {\"Biomass ICS (ND)\": '#6F4070', \"LPG\": '#66C5CC', \"Biomass\": '#FFB6C1',\n",
    "        \"Biomass ICS (FD)\": '#af04b3', \"Pellets ICS (FD)\": '#ef02f5',\n",
    "        \"Charcoal\": '#364135', \"Charcoal ICS\": '#d4bdc5',\n",
    "        \"Biogas\": '#73AF48', \"Biogas and Biomass ICS (ND)\": \"#F6029E\",\n",
    "        \"Biogas and Biomass ICS (FD)\": \"#F6029E\",\n",
    "        \"Biogas and Pellets ICS (FD)\": \"#F6029E\",\n",
    "        \"Biogas and LPG\": \"#0F8554\", \"Biogas and Biomass\": \"#266AA6\",\n",
    "        \"Biogas and Charcoal\": \"#3B05DF\",\n",
    "        \"Biogas and Charcoal ICS\": \"#3B59DF\",\n",
    "        \"Electricity\": '#CC503E', \"Electricity and Biomass ICS (ND)\": \"#B497E7\",\n",
    "        \"Electricity and Biomass ICS (FD)\": \"#B497E7\",\n",
    "        \"Electricity and Pellets ICS (FD)\": \"#B497E7\",\n",
    "        \"Electricity and LPG\": \"#E17C05\", \"Electricity and Biomass\": \"#FFC107\",\n",
    "        \"Electricity and Charcoal ICS\": \"#660000\",\n",
    "        \"Electricity and Biogas\": \"#f97b72\",\n",
    "        \"Electricity and Charcoal\": \"#FF0000\",\n",
    "        \"None\": \"#F1F1F1\",\n",
    "        \"None and None\": \"#F1F1F1\"}\n",
    "\n",
    "labels = {\"Biogas and Electricity\": \"Electricity and Biogas\",\n",
    "          'Collected Traditional Biomass': 'Biomass',\n",
    "          'Collected Improved Biomass': 'Biomass ICS (ND)',\n",
    "          'Traditional Charcoal': 'Charcoal',\n",
    "          'Biomass Forced Draft': 'Biomass ICS (FD)',\n",
    "          'Pellets Forced Draft': 'Pellets ICS (FD)'}"
   ]
  },
  {
   "cell_type": "markdown",
   "id": "8fe22ae8",
   "metadata": {},
   "source": [
    "## 4.3. Printing map with stoves with highest net-benefit in each settlement\n",
    "\n",
    "Visualize maps of the stoves with the highest net-benefits together with some important summary results. \n",
    "\n",
    "Find out more about this function in the [documentation](https://onstove-documentation.readthedocs.io/en/latest/generated/onstove.onstove.OnStove.plot.html).\n"
   ]
  },
  {
   "cell_type": "code",
   "execution_count": null,
   "id": "c39040e4-84f9-498a-b223-74e89c39b0a7",
   "metadata": {},
   "outputs": [],
   "source": [
    "6.90570213e+01*"
   ]
  },
  {
   "cell_type": "code",
   "execution_count": null,
   "id": "62a25ef4-b71e-4fa2-88a7-414298859d50",
   "metadata": {
    "scrolled": true
   },
   "outputs": [],
   "source": [
    "results.techs[\"LPG\"].investments[results.gdf.loc[results.gdf[\"year\"]==2030].index]"
   ]
  },
  {
   "cell_type": "code",
   "execution_count": null,
   "id": "b7def787-7ed1-46e3-9874-6d43d8d3fa0f",
   "metadata": {},
   "outputs": [],
   "source": [
    "results.techs[\"LPG\"].investments[results.gdf.loc[results.gdf[\"year\"]==2021].index][0]"
   ]
  },
  {
   "cell_type": "code",
   "execution_count": null,
   "id": "0b165b05-baef-4d3b-91e8-34ebf730c24f",
   "metadata": {},
   "outputs": [],
   "source": [
    "country.base_fuel.investments[results.gdf.loc[results.gdf[\"year\"]==2021].index][0]"
   ]
  },
  {
   "cell_type": "code",
   "execution_count": null,
   "id": "b066ad09-0c74-41bd-a6d8-dc31129ea75f",
   "metadata": {},
   "outputs": [],
   "source": [
    "country.techs[\"LPG\"].pop_sqkm[results.gdf.loc[results.gdf[\"year\"]==2021].index]"
   ]
  },
  {
   "cell_type": "code",
   "execution_count": null,
   "id": "b597cd1a-a07e-4b20-9480-67b368db4426",
   "metadata": {
    "scrolled": true
   },
   "outputs": [],
   "source": [
    "results.gdf.loc[(results.gdf[\"max_benefit_tech\"]==\"LPG\") & (results.gdf[\"year\"]==2030), 'Pop'].sum()"
   ]
  },
  {
   "cell_type": "code",
   "execution_count": null,
   "id": "cdce2cff-5204-44a4-b72b-1c6abad57f5f",
   "metadata": {},
   "outputs": [],
   "source": [
    "self = country.techs[\"LPG\"]\n",
    "model = country\n",
    "import numpy as np\n",
    "mask = country.gdf[\"year\"] == 2022\n",
    "model.year = 2022"
   ]
  },
  {
   "cell_type": "code",
   "execution_count": null,
   "id": "cec25c62-3e4d-4bb5-8a27-b43f5a5d84b4",
   "metadata": {},
   "outputs": [],
   "source": [
    "discount_rate, proj_life = self.discount_factor(model.specs)\n",
    "inv = self.inv_cost * np.ones(mask.shape[0])"
   ]
  },
  {
   "cell_type": "code",
   "execution_count": null,
   "id": "c741f92e-18c5-4ae9-99b6-3ca77f7ffd5e",
   "metadata": {},
   "outputs": [],
   "source": [
    "proj_years = np.matmul(np.expand_dims(np.ones(mask.shape[0]), axis=1),\n",
    "                       np.expand_dims(np.zeros(proj_life), axis=0))"
   ]
  },
  {
   "cell_type": "code",
   "execution_count": null,
   "id": "071e00ce-5f53-46c0-aab7-2a1c95d0e592",
   "metadata": {},
   "outputs": [],
   "source": [
    "proj_years[mask, model.year - model.specs[\"start_year\"] - 1] = 1*self.inv_change**\\\n",
    "                                                                           (model.year - model.specs[\"start_year\"] - 1)"
   ]
  },
  {
   "cell_type": "code",
   "execution_count": null,
   "id": "25bfaf30-de85-48f8-acc1-69ce82c178b8",
   "metadata": {},
   "outputs": [],
   "source": [
    "proj_years[results.gdf.loc[results.gdf[\"year\"]==2022].index][0]"
   ]
  },
  {
   "cell_type": "code",
   "execution_count": null,
   "id": "435bbe1e-88e5-49d7-a231-7b316adfa5bb",
   "metadata": {},
   "outputs": [],
   "source": [
    "self.tech_life = round(self.tech_life)"
   ]
  },
  {
   "cell_type": "code",
   "execution_count": null,
   "id": "df0303d3-7b84-4643-80b2-2f6f0c854f39",
   "metadata": {},
   "outputs": [],
   "source": [
    "for j in range(self.tech_life, proj_life, self.tech_life):\n",
    "    print(j)\n",
    "    if j + model.year - model.specs[\"start_year\"] - 1 < proj_life:\n",
    "        proj_years[mask, j + model.year - model.specs[\"start_year\"] - 1] = 1*self.inv_change**(j + model.year - model.specs[\"start_year\"] - 1)"
   ]
  },
  {
   "cell_type": "code",
   "execution_count": null,
   "id": "5a85d99f-8033-4d6c-a5f9-86d539509846",
   "metadata": {},
   "outputs": [],
   "source": [
    "proj_years[results.gdf.loc[results.gdf[\"year\"]==2022].index][0]"
   ]
  },
  {
   "cell_type": "code",
   "execution_count": null,
   "id": "66467218-b713-4171-a592-b3b4c22c6dd9",
   "metadata": {},
   "outputs": [],
   "source": [
    "44*50**7"
   ]
  },
  {
   "cell_type": "code",
   "execution_count": null,
   "id": "e44ed25b-ed7b-4544-b168-b1c26025a852",
   "metadata": {},
   "outputs": [],
   "source": [
    "proj_years[:, 0] = 1\n",
    "self.tech_life = round(self.tech_life)\n",
    "for j in range(self.tech_life, proj_life, self.tech_life):\n",
    "    if j < proj_life:\n",
    "        proj_years[:, j] = 1*self.inv_change**j\n",
    "\n",
    "investments = proj_years * np.array(inv)[:, None]"
   ]
  },
  {
   "cell_type": "code",
   "execution_count": null,
   "id": "3cee286f-9974-4f66-b531-6c625e1d2447",
   "metadata": {},
   "outputs": [],
   "source": [
    "investments[results.gdf.loc[results.gdf[\"year\"]==2022].index][0]"
   ]
  },
  {
   "cell_type": "code",
   "execution_count": null,
   "id": "bb17dbd3-8efc-4525-a173-090c25e7d83b",
   "metadata": {},
   "outputs": [],
   "source": []
  },
  {
   "cell_type": "code",
   "execution_count": null,
   "id": "b7535f25-e814-42d9-abbd-19bba58cee44",
   "metadata": {},
   "outputs": [],
   "source": []
  },
  {
   "cell_type": "code",
   "execution_count": null,
   "id": "1a841cda-1e91-4778-aeb3-18e13559c125",
   "metadata": {},
   "outputs": [],
   "source": []
  },
  {
   "cell_type": "code",
   "execution_count": null,
   "id": "8617a341-c533-4260-91f0-a4d3c0ab333a",
   "metadata": {},
   "outputs": [],
   "source": []
  },
  {
   "cell_type": "code",
   "execution_count": null,
   "id": "e5dbed1e-1537-4243-b822-50388d3f7f2b",
   "metadata": {},
   "outputs": [],
   "source": []
  },
  {
   "cell_type": "code",
   "execution_count": null,
   "id": "6758e8d8",
   "metadata": {},
   "outputs": [],
   "source": [
    "country.plot('max_benefit_tech', year = 2029, cumulative_stats = False, cmap=cmap, legend_position=(0.9, 0.7),\n",
    "             title=f'Maximum net-benefit cooking technology', stats_fontsize=9, figsize=(7, 7),\n",
    "             labels=labels, legend=True, legend_title='Maximum benefit/ncooking technology', dpi=150,\n",
    "             legend_prop={'title': {'size': 9, 'weight': 'bold'}, 'size': 9},\n",
    "             rasterized=True, stats=True, stats_position=(0.85, 0.9), save_style=False)"
   ]
  },
  {
   "cell_type": "markdown",
   "id": "4b5ee671",
   "metadata": {},
   "source": [
    "## 4.4. Printing population split in the study area\n",
    "\n",
    "Prints the population split describing the percentage of population cooking with different stoves.\n",
    "\n",
    "Find out more about this function in the [documentation](https://onstove-documentation.readthedocs.io/en/latest/generated/onstove.onstove.OnStove.plot_split.html)."
   ]
  },
  {
   "cell_type": "code",
   "execution_count": null,
   "id": "57ce1806",
   "metadata": {},
   "outputs": [],
   "source": [
    "results.plot_split(cmap=cmap, labels=labels)"
   ]
  },
  {
   "cell_type": "markdown",
   "id": "62e5d116",
   "metadata": {},
   "source": [
    "## 4.5. Printing the costs and benefits for each stove category selected\n",
    "\n",
    "Prints the costs and benefits of each stove type.\n",
    "\n",
    "Find out more about this function in the [documentation](https://onstove-documentation.readthedocs.io/en/latest/generated/onstove.onstove.OnStove.plot_costs_benefits.html)."
   ]
  },
  {
   "cell_type": "code",
   "execution_count": null,
   "id": "9e58c0aa",
   "metadata": {},
   "outputs": [],
   "source": [
    "results.plot_costs_benefits(labels=labels, height=1.5, width=2)"
   ]
  },
  {
   "cell_type": "markdown",
   "id": "b9c1d77d",
   "metadata": {},
   "source": [
    "## 4.6. Printing the maximum net-benefit across the study area\n",
    "\n",
    "Visualize the maximum net-benefit spatially. "
   ]
  },
  {
   "cell_type": "code",
   "execution_count": null,
   "id": "5b1bd561",
   "metadata": {},
   "outputs": [],
   "source": [
    "results.plot('maximum_net_benefit', cmap='magma', metric='total')"
   ]
  },
  {
   "cell_type": "markdown",
   "id": "d5404b10",
   "metadata": {},
   "source": [
    "## 4.7. Printing the total costs across the study area\n",
    "\n",
    "Visualize the total costs spatially."
   ]
  },
  {
   "cell_type": "code",
   "execution_count": null,
   "id": "7a877598",
   "metadata": {},
   "outputs": [],
   "source": [
    "results.gdf['total_costs'] = results.gdf['investment_costs'] - results.gdf['salvage_cost'] + results.gdf['fuel_costs'] + results.gdf['om_costs']\n",
    "results.plot('total_costs', cmap='viridis', metric='per_household')"
   ]
  },
  {
   "cell_type": "markdown",
   "id": "d7da1cc3",
   "metadata": {},
   "source": [
    "## 4.8. Saving selected results\n",
    "\n",
    "Saving selected results as rasters.\n",
    "\n",
    "Find out more about this function in the [documentation](https://onstove-documentation.readthedocs.io/en/latest/generated/onstove.onstove.OnStove.to_raster.html)."
   ]
  },
  {
   "cell_type": "code",
   "execution_count": null,
   "id": "4574f0d1",
   "metadata": {},
   "outputs": [],
   "source": [
    "results.to_raster('max_benefit_tech', cmap=cmap, labels=labels)\n",
    "results.to_raster('maximum_net_benefit', metric='per_household')\n",
    "results.to_raster('maximum_net_benefit', metric='total')\n",
    "results.to_raster('net_benefit_LPG', metric='per_household')\n",
    "results.to_raster('net_benefit_Biogas', metric='per_household')\n",
    "results.to_raster('net_benefit_Collected_Improved_Biomass', metric='per_household')\n",
    "results.to_raster('total_costs', metric='per_household')\n",
    "results.to_raster('investment_costs', metric='total')\n",
    "results.to_raster('deaths_avoided', metric='per_100k')\n",
    "results.to_raster('time_saved', metric='per_household')\n",
    "results.to_raster('reduced_emissions', metric='total')\n",
    "results.to_raster('health_costs_avoided', metric='total')\n",
    "results.to_raster('Households', metric='sum')"
   ]
  }
 ],
 "metadata": {
  "kernelspec": {
   "display_name": "Python 3 (ipykernel)",
   "language": "python",
   "name": "python3"
  },
  "language_info": {
   "codemirror_mode": {
    "name": "ipython",
    "version": 3
   },
   "file_extension": ".py",
   "mimetype": "text/x-python",
   "name": "python",
   "nbconvert_exporter": "python",
   "pygments_lexer": "ipython3",
   "version": "3.10.12"
  }
 },
 "nbformat": 4,
 "nbformat_minor": 5
}
