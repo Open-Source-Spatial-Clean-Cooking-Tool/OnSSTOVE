{
 "cells": [
  {
   "cell_type": "markdown",
   "id": "f1c43914-a80d-40f4-9fd3-600ee4483a33",
   "metadata": {
    "tags": []
   },
   "source": [
    "# OnStove notebook\n",
    "This is the OnStove notebook. The purpose of the notebook is to give users the ability to run through the analysis with example data and it can therefore act as a complement to the [scientific publication](https://www.nature.com/articles/s41893-022-01039-8) and [read-the-docs documentation](https://onstove-documentation.readthedocs.io/en/latest/index.html).\n",
    "\n",
    "The notebook is divided into 4 major parts: \n",
    "1. [**Data processing**](#1.-Data-processing) - In this part of the analysis different geospatial datasets are read and processed (reprojecting, cliping, masking, aligning, resampling, etc.). The datasets from this step are saved on the users computer. For future runs on the same area of interest this step can consequently be skipped unless datasets are switched. \n",
    "1. [**Calibration**](#2.-Calibration) - In this part, the area of interest is calibrated. Raster cells are classified as either urban or rural, the electrification rate in different cells is determined and the rates of different cooking fuels across settlements are calibrated. The calibrated data is saved in a `.pkl-file`. Unless data related to these steps are changed from one run to another, this step only needs to be ran once. \n",
    "1. [**Model run**](#3.-Model-run) - The net-benefit for different stoves is determined in different parts of the study area. Once all stoves have a net-benefit calculated the stoves will be compared and the stove with the highest net-benefit in each settlement is selected. Summaries of the results documenting the benefits and costs of each stove type across the entire study area are produced. The results are saved as a `.pkl-file`.  \n",
    "1. [**Visualization**](#4.-Visualization) - Visualizing and saving different maps related to the results.\n",
    "\n",
    "Each part of the notebook is divided into several different cells and each cell is described more in depth. \n",
    "\n",
    "**Always run the imports first and do not edit these cells**"
   ]
  },
  {
   "cell_type": "code",
   "execution_count": 18,
   "id": "dfc36ae0",
   "metadata": {
    "tags": []
   },
   "outputs": [
    {
     "name": "stdout",
     "output_type": "stream",
     "text": [
      "The autoreload extension is already loaded. To reload it, use:\n",
      "  %reload_ext autoreload\n"
     ]
    }
   ],
   "source": [
    "import os, sys, requests, zipfile\n",
    "import geopandas as gpd\n",
    "import pandas as pd\n",
    "sys.path.append('..')\n",
    "%load_ext autoreload\n",
    "%autoreload 2"
   ]
  },
  {
   "cell_type": "code",
   "execution_count": 19,
   "id": "ccfb8031-6411-45db-9c9b-faf9c2ff4006",
   "metadata": {},
   "outputs": [],
   "source": [
    "from onstove import OnStove, DataProcessor, RasterLayer, VectorLayer\n",
    "# from onstove.raster import interpolate\n",
    "import time"
   ]
  },
  {
   "cell_type": "markdown",
   "id": "73889e10-e9b3-4fe2-a24f-724220be398d",
   "metadata": {},
   "source": [
    "### Defining the output directory\n",
    "In the next cell we define the output directory of the analysis. This directory will be used to write all results of the [data processing](#1.-Data-processing), [calibration](#2.-Calibration), [model run](#3.-Model-run) and [visualization](#4.-Visualization) steps."
   ]
  },
  {
   "cell_type": "code",
   "execution_count": 20,
   "id": "9f05b6cb-3189-4725-b62f-85bfa6aa5969",
   "metadata": {
    "tags": []
   },
   "outputs": [],
   "source": [
    "output_directory = 'KEN'"
   ]
  },
  {
   "cell_type": "markdown",
   "id": "54f7078f",
   "metadata": {},
   "source": [
    "# Downloading example data from the Mendeley database"
   ]
  },
  {
   "cell_type": "markdown",
   "id": "bad09b30",
   "metadata": {},
   "source": [
    "First the datasets need to be downloaded. The datasets needed for your analysis are saved on a Mendeley database. To know which datasets to download you need to enter the name of the country in the cell below. Available options are:\n",
    "* Ghana\n",
    "* Kenya\n",
    "* Liberia\n",
    "* Madagascar\n",
    "* Malawi\n",
    "* Nigeria\n",
    "* Rwanda\n",
    "* Zambia"
   ]
  },
  {
   "cell_type": "code",
   "execution_count": 136,
   "id": "d265840d",
   "metadata": {
    "tags": []
   },
   "outputs": [],
   "source": [
    "from utils import download_data\n",
    "country = 'Ghana'\n",
    "download_data(country)"
   ]
  },
  {
   "cell_type": "markdown",
   "id": "4ed4c26c",
   "metadata": {},
   "source": [
    "# 1. Data processing"
   ]
  },
  {
   "cell_type": "markdown",
   "id": "dfceb859",
   "metadata": {},
   "source": [
    "### Create a data processor\n",
    "\n",
    "This cell creates your `DataProcessor`. The `DataProcessor` will process all raw input GIS datasets and will set the base for your model. OnStove is a raster-based model, hence the spatial resolution of the analysis becomes important. We specify the resolution (`cell_size` in projection units) when creating the `DataProcessor` together with the coordinate system (`project_crs`). This will ensure that all rasters are resampled to the correct resolution and all datasets (vectors and rasters) are reprojected to the target coordinate system.\n",
    "\n",
    "In this example we use the world mercator coordinate system (EPSG:3395) and a spatial resolution of 1 sq. km. (1000x1000 meters, currently the OnStove model can only be run in this resolution). To find a coordinate system suitable for your study area you can use [epsg.io](https://epsg.io/)"
   ]
  },
  {
   "cell_type": "code",
   "execution_count": 8,
   "id": "06c618a9",
   "metadata": {
    "tags": []
   },
   "outputs": [],
   "source": [
    "start = time.time()\n",
    "\n",
    "data = DataProcessor(project_crs=3395, cell_size=(1000, 1000))\n",
    "data.output_directory = output_directory"
   ]
  },
  {
   "cell_type": "markdown",
   "id": "88c6c4be",
   "metadata": {},
   "source": [
    "## 1.1. Add a mask and base \n",
    "\n",
    "The mask layer dictates what falls within your area of interest and what is excluded from your analysis. For mask layer we use the administrative boundaries of the country.\n",
    "\n",
    "For this a function called `add_mask_layer` is used. `add_mask_layer` takes four inputs:\n",
    "1. `category`- referencing the category of the layer\n",
    "2. `name` - referencing the name of the layer\n",
    "3. `path` - from where to read the data\n",
    "4. `query` - string that can be used to filter the data\n",
    "5. `postgres` - boolean determining whether the data is read from disc or from a PostgreSQL database. Default is `False`, meaning the dataset is read from disc.\n",
    "6. `save_layer` -  determines whether the dataset is saved to disc or not. Default is `False`.\n",
    "\n",
    "For more information about this function refer to the [documentation](https://onstove-documentation.readthedocs.io/en/latest/generated/onstove.DataProcessor.add_mask_layer.html)"
   ]
  },
  {
   "cell_type": "code",
   "execution_count": 9,
   "id": "aa56ba93",
   "metadata": {
    "tags": []
   },
   "outputs": [],
   "source": [
    "adm_path = r\"gis_data/Administrative/Country_boundaries/Country_boundaries.geojson\"\n",
    "data.add_mask_layer(category='Administrative', name='Country_boundaries', path=adm_path)"
   ]
  },
  {
   "cell_type": "markdown",
   "id": "69f46476",
   "metadata": {},
   "source": [
    "## 1.2. Add GIS layers"
   ]
  },
  {
   "cell_type": "markdown",
   "id": "d1a23dd9",
   "metadata": {},
   "source": [
    "Similarly, we can add data layers using the `add_layer` method. A layer `name` and a `path` need ot be provided. In addition, the following arguments can be passed:\n",
    "1. `category` - this is used to group all datasets into a category in the final output, e.g. `demand` or `supply`. \n",
    "2. `layer_type` - this argument is required with two possible options `raster` or `vector`, you should pass either one according to the dataset you are adding. \n",
    "3. `query` - string that can be used to filter the data (available only for `vector` layers)\n",
    "4. `postgres` - boolean determining whether the data is read from disc or from a PostgreSQL database (available only for `vector` layers). Default is `False`, meaning the dataset is read from disc.\n",
    "5. `base_layer` - boolean determining whether the layer should be used as a `base_layer` for the data processing. Default is `False`. \n",
    "6. `resample` - this defines what resampling method to use when changing the resolution of the raster. The change of resolution happens when the layer gets aligned with the base layer (only applicable for rasters).\n",
    "7. `normalization` - Set the method used for normalization if relevant at a later stage. Currently, the only availabl option is `MinMax`, which will normalize the layer using a MinMax approach. If the layer is of type vector the normalization method will be passed to any raster created using the vector.\n",
    "8. `inverse` - Sets the default mode for the normalization algorithm. Default is `False`. If `False`, then the raster will be normalized (if `normalize_rasters` method is called) setting 1 as the high value and 0 as the low. If `True`, then the raster will be normalized setting the high value as 0 and the low values as 1.\n",
    "9. `distance_method` - Sets the default distance algorithm to use when calling the `get_distance_raster` method for the layer.\n",
    "10. `distance_limit` - Defines a distance limit or range to consider when calculating the distance raster.\n",
    "11. `window` - A window or bounding box to read in the data if ``layer_type`` is `raster` or `vector` respectively\n",
    "12. `rescale` - Sets the default value for the ``rescale`` attribute. Default `False`. This attribute is used in the `align` method to rescale the values of a cell proportionally to the change in size of the cell. This is useful when aligning rasters that have different cell sizes and their values can be scaled proportionally.\n",
    "\n",
    "\n",
    "Find more information about this function in the [documentation](https://onstove-documentation.readthedocs.io/en/latest/generated/onstove.DataProcessor.add_layer.html).\n",
    "\n",
    "**In the cells below we read  and process all relevant datasets:**"
   ]
  },
  {
   "cell_type": "markdown",
   "id": "d8d62164",
   "metadata": {},
   "source": [
    "### 1.2.1. Demographics\n",
    "* **Population** - a raster layer describing the spatial distribution of people across the study area\n",
    "* **Urban-rural split** - a raster layer describing which areas that can be considered urban and rural respectively "
   ]
  },
  {
   "cell_type": "code",
   "execution_count": 10,
   "id": "af1ef16b",
   "metadata": {},
   "outputs": [],
   "source": [
    "pop_path = r\"gis_data/Population/Population.tif\"\n",
    "data.add_layer(category='Demographics', name='Population', \n",
    "               path=pop_path, layer_type='raster', resample='sum')\n",
    "\n",
    "urban_path = r\"gis_data/Urban/Urban.tif\"\n",
    "data.add_layer(category='Demographics', name='Urban_rural_divide', \n",
    "               path=urban_path, layer_type='raster', resample='nearest')"
   ]
  },
  {
   "cell_type": "markdown",
   "id": "2ee96f83",
   "metadata": {},
   "source": [
    "### 1.2.2. Biomass\n",
    "* **Forest** - a raster layer describing where forest is available and where it is not. This is used to estimate biomass collection time together with the friction layer.\n",
    "* **Friction** - a raster layer describing the walking-only friction across the study area (the time it takes to travel across different cells of the study area by foot). This is used in order to determine the collection time of manure (for biogas) and biomass. "
   ]
  },
  {
   "cell_type": "code",
   "execution_count": 11,
   "id": "744cde58",
   "metadata": {},
   "outputs": [],
   "source": [
    "forest_path = r\"gis_data/Forest/Forest.tif\"\n",
    "data.add_layer(category='Biomass', name='Forest', \n",
    "               path=forest_path, layer_type='raster', resample='average')\n",
    "\n",
    "friction_path = r\"gis_data/Friction/Friction.tif\"\n",
    "data.add_layer(category='Biomass', name='Friction', path=friction_path, \n",
    "               layer_type='raster', resample='average')"
   ]
  },
  {
   "cell_type": "markdown",
   "id": "fb9d0d50",
   "metadata": {},
   "source": [
    "### 1.2.3. Electricity\n",
    "* **Medium voltage lines** - a line vector showing the availability of medium voltage lines. This is used to estimate which settlements are electrified and which ones are not. Users can also use either transformers or high-voltage lines if available. \n",
    "* **Nighttime lights** - a raster showing the intensity of anthropogenic light. Used as proxy for determining who may have electricity and who does not. "
   ]
  },
  {
   "cell_type": "code",
   "execution_count": 13,
   "id": "ebc1371f",
   "metadata": {},
   "outputs": [],
   "source": [
    "mv_path = r\"gis_data/MV lines/MV_lines.geojson\"\n",
    "data.add_layer(category='Electricity', name='MV_lines', \n",
    "               path=mv_path, layer_type='vector')\n",
    "\n",
    "ntl_path = r\"gis_data/Night time lights/Night_time_lights.tif\"\n",
    "data.add_layer(category='Electricity', name='Night_time_lights', \n",
    "               path=ntl_path, layer_type='raster', resample='average')"
   ]
  },
  {
   "cell_type": "markdown",
   "id": "21abac21",
   "metadata": {},
   "source": [
    "### 1.2.4. LPG\n",
    "* **Travel time** - a map showing the time it takes to travel to the closest city of at least 50,000 people with motorized transport. This is used to estimate transportation cost of LPG. A user can also provide LPG supply points (as a point layer) and a motorized friction map to determine the travel time directly to the supply points."
   ]
  },
  {
   "cell_type": "code",
   "execution_count": 14,
   "id": "6792937a",
   "metadata": {},
   "outputs": [],
   "source": [
    "lpg_path = r\"gis_data/Traveltime/Traveltime.tif\"\n",
    "data.add_layer(category='LPG', name='LPG Traveltime', \n",
    "               path=lpg_path, layer_type='raster', resample='average')"
   ]
  },
  {
   "cell_type": "markdown",
   "id": "9c5f95a1",
   "metadata": {},
   "source": [
    "### 1.2.5. Biogas\n",
    "* **Livestock** - raster layers showing the headcounts of different livestock (buffaloes, cattle, poultry, goats, pigs and sheep). This is used to assess the availability of manure in different cells of the study area. \n",
    "* **Temperature** - raster layer describing the temperature across the study area. This is to assess the suitability of using biogas. [If the average temperature decreases below 10 degrees Celsius the conversion of small scale biogas digesters reduces significantly making them unviable](https://www.sciencedirect.com/science/article/pii/S2213138821003118)."
   ]
  },
  {
   "cell_type": "code",
   "execution_count": 15,
   "id": "31d3dd77",
   "metadata": {},
   "outputs": [
    {
     "name": "stderr",
     "output_type": "stream",
     "text": [
      "C:\\Users\\khavari\\OneDrive - KTH\\onstove\\example\\..\\onstove\\layer.py:936: UserWarning: The Temperature layer do not have a defined nodata value, thus np.nan was assigned. You can change this defining the nodata value in the metadata of the variable as: variable.meta['nodata'] = value\n"
     ]
    }
   ],
   "source": [
    "buffaloes = r\"gis_data/Livestock/buffaloes/buffaloes.tif\"\n",
    "cattles = r\"gis_data/Livestock/cattles/cattles.tif\"\n",
    "poultry = r\"gis_data/Livestock/poultry/poultry.tif\"\n",
    "goats = r\"gis_data/Livestock/goats/goats.tif\"\n",
    "pigs = r\"gis_data/Livestock/pigs/pigs.tif\"\n",
    "sheeps = r\"gis_data/Livestock/sheeps/sheeps.tif\"\n",
    "\n",
    "for key, path in {'buffaloes': buffaloes,\n",
    "                  'cattles': cattles,\n",
    "                  'poultry': poultry,\n",
    "                  'goats': goats,\n",
    "                  'pigs': pigs,\n",
    "                  'sheeps': sheeps}.items():\n",
    "    data.add_layer(category='Biogas/Livestock', name=key, path=path,\n",
    "                   layer_type='raster', resample='nearest', rescale=True)\n",
    "    \n",
    "temperature = r\"gis_data/Temperature/Temperature.tif\"\n",
    "data.add_layer(category='Biogas', name='Temperature', path=temperature,\n",
    "               layer_type='raster', resample='average')\n",
    "data.layers['Biogas']['Temperature'].save(f'{data.output_directory}/Biogas/Temperature')"
   ]
  },
  {
   "cell_type": "markdown",
   "id": "523cfa9f",
   "metadata": {},
   "source": [
    "### 1.2.6. Base layer (population layer)\n",
    "\n",
    "Lastly a raster base layer is needed to make every output match its grid and extent. For this, we also use the `add_layer` function passing the `base_layer` parameters a `True`. We use the populaion layer for this application. The layer will be processed to mathc the cordinate system and resolution of the project."
   ]
  },
  {
   "cell_type": "code",
   "execution_count": 16,
   "id": "9280ca7a",
   "metadata": {},
   "outputs": [],
   "source": [
    "data.add_layer(category='Base', name='Base', path=r\"gis_data/Population/Population.tif\",\n",
    "               layer_type='raster', base_layer=True, resample='nearest')"
   ]
  },
  {
   "cell_type": "markdown",
   "id": "86d63091",
   "metadata": {},
   "source": [
    "## 1.3. Mask, reproject, align and save all required layers"
   ]
  },
  {
   "cell_type": "markdown",
   "id": "7e1428a5",
   "metadata": {},
   "source": [
    "All raster datasets are aligned with the base layer selected in [cell 1.2.6](#1.2.6.-Base-layer-(forest-layer)). As the based layer has been previously processed, the aligning function also ensures that the coordinate system and resolution of all rasters are the same as the project's (defined when [creating the data processor](#Create-a-data-processor)). \n",
    "\n",
    "Find more information about this function in the [documentation](https://onstove-documentation.readthedocs.io/en/latest/generated/onstove.DataProcessor.align_layers.html)."
   ]
  },
  {
   "cell_type": "code",
   "execution_count": 17,
   "id": "ca33cc5c",
   "metadata": {},
   "outputs": [],
   "source": [
    "data.align_layers(datasets='all')"
   ]
  },
  {
   "cell_type": "markdown",
   "id": "a3961fcd",
   "metadata": {},
   "source": [
    "Next, all vector files (apart from the mask layer) are reprojected. This is done using the `reprojected_layers` function. The source coordinate system does not influence the process and the target coordinate system is the same as the one entered by the user when [creating the data processor](#Create-a-data-processor). \n",
    "\n",
    "Find more information about this function in the [documentation](https://onstove-documentation.readthedocs.io/en/latest/generated/onstove.DataProcessor.reproject_layers.html)."
   ]
  },
  {
   "cell_type": "code",
   "execution_count": 18,
   "id": "f87b244f",
   "metadata": {},
   "outputs": [],
   "source": [
    "data.reproject_layers(datasets={'Electricity': ['MV_lines']})"
   ]
  },
  {
   "cell_type": "markdown",
   "id": "ed50b256",
   "metadata": {},
   "source": [
    "Lastly, all processed layers (rasters, vectors, the base layer and the mask layer) are saved. This is done using the `save_datasets` function, eith the option `'all'`."
   ]
  },
  {
   "cell_type": "code",
   "execution_count": 19,
   "id": "735a4a5b",
   "metadata": {},
   "outputs": [],
   "source": [
    "data.save_datasets('all')"
   ]
  },
  {
   "cell_type": "code",
   "execution_count": 20,
   "id": "3ffdf378",
   "metadata": {},
   "outputs": [
    {
     "name": "stdout",
     "output_type": "stream",
     "text": [
      "Execution time: 2 min 49 sec\n"
     ]
    }
   ],
   "source": [
    "end = time.time()\n",
    "\n",
    "diff = end - start\n",
    "print('Execution time:', str(str(int(diff//60))) + ' min ' + str(int((diff)%60)) + ' sec')"
   ]
  },
  {
   "cell_type": "markdown",
   "id": "5f2a6c46-f315-484b-94f9-ac8287628992",
   "metadata": {},
   "source": [
    "[Go back to the top](#OnStove-notebook)"
   ]
  },
  {
   "cell_type": "markdown",
   "id": "e462599d",
   "metadata": {},
   "source": [
    "# 2. Calibration\n",
    "\n",
    "The calibration step does two things 1) it adds the datasets processed in the previous step to a settlement file that will be used in [step 3](#3.-Model-run) for determining the net-benefit in different settlements and 2) calibrates the file with regards to total population, urban-rural split and electrification rate. \n",
    "\n",
    "**Note:** Similar to the data processing step, this step is only needed once unless you change anything in the inputs"
   ]
  },
  {
   "cell_type": "markdown",
   "id": "7a74dfc6",
   "metadata": {},
   "source": [
    "## 2.1. Read the model data"
   ]
  },
  {
   "cell_type": "markdown",
   "id": "3e90be48",
   "metadata": {},
   "source": [
    "The cell below creates an `OnStove` model (calling the `OnStove()` class) and reads the socio-economic specification file (with `country.read_scenario_data(path, delimiter=',')`). This file is a `csv` file that contains the electrification and urban rates and the actual population in the study area (often the GIS datasets of populations have slightly outdated values of population), among other information. For a complete list of parameters and an example of how this file looks see the [documentation](https://onstove-documentation.readthedocs.io/en/latest/onstove_tool.html#socio-economic-data). The scenario data is saved as a [dictionary](https://www.w3schools.com/python/python_dictionaries.asp) that can be called upon with `country.specs`"
   ]
  },
  {
   "cell_type": "code",
   "execution_count": 424,
   "id": "6a2d1074",
   "metadata": {},
   "outputs": [],
   "source": [
    "country = OnStove(project_crs=3395)\n",
    "path = 'soc_specs.csv'\n",
    "country.output_directory = output_directory\n",
    "country.read_scenario_data(path)"
   ]
  },
  {
   "cell_type": "markdown",
   "id": "b220bd4c",
   "metadata": {},
   "source": [
    "## 2.2. Add a population base layer\n",
    "\n",
    "The population layer is read with `add_layer` and is turned into a [dataframe](https://www.w3schools.com/python/pandas/pandas_dataframes.asp) with a column for population using the `population_to_dataframe` method. This dataframe will be used to add all the other geospatial datasets and calculate the results on.\n",
    "\n",
    "Find more information about these function in the [documentation](https://onstove-documentation.readthedocs.io/en/latest/generated/onstove.OnStove.population_to_dataframe.html)"
   ]
  },
  {
   "cell_type": "code",
   "execution_count": 425,
   "id": "42ada266",
   "metadata": {},
   "outputs": [],
   "source": [
    "path = os.path.join(output_directory,'Demographics','Population', 'Population.tif')\n",
    "country.add_layer(category='Demographics', name='Population', path=path, layer_type='raster', base_layer=True)\n",
    "country.population_to_dataframe()"
   ]
  },
  {
   "cell_type": "markdown",
   "id": "51c5eba9",
   "metadata": {},
   "source": [
    "## 2.3. Calibrate urban/rural split\n",
    "\n",
    "The function `calibrate_urban_rural_split` is used to classify different rows in of the dataframe produced in the previous step as either urban or rural. This is based on the [GHS dataset](https://ghsl.jrc.ec.europa.eu/download.php?ds=smod). This is important for the base year calculations as urban and rural shares of different stoves (and electrification rates) tend to differ.\n",
    "\n",
    "Find more information about this function in the [documentation](https://onstove-documentation.readthedocs.io/en/latest/generated/onstove.OnStove.calibrate_urban_rural_split.html?highlight=GHS#onstove.OnStove.calibrate_urban_rural_split)\n",
    "\n",
    "This function also calls on the `calibrate_current_pop` fuction to calibrate the population of the dataframe to the value entered in the socio-economic file.\n",
    "\n",
    "Find more information about this function in the [documentation](https://onstove-documentation.readthedocs.io/en/latest/generated/onstove.OnStove.calibrate_current_pop.html).\n",
    "\n"
   ]
  },
  {
   "cell_type": "code",
   "execution_count": 426,
   "id": "5bb5e828",
   "metadata": {
    "scrolled": true,
    "tags": []
   },
   "outputs": [],
   "source": [
    "ghs_path = os.path.join(output_directory,'Demographics','Urban_rural_divide', 'Urban_rural_divide.tif')\n",
    "country.calibrate_urban_rural_split(ghs_path)"
   ]
  },
  {
   "cell_type": "markdown",
   "id": "d9c83773",
   "metadata": {
    "tags": []
   },
   "source": [
    "## 2.4. Add wealth index GIS data and determine the value of time\n",
    "\n",
    "Here, the Relative Wealth Index (RWI) is added to the dataframe. The RWI is used to estimate the monetary value of time. The RWI can be read either as a csv-file, point, polygon or raster layer it is not read and added with the other datasets. Instead the function `extract_wealth_index` is used. \n",
    "\n",
    "Find more information about this function in the [documentation](https://onstove-documentation.readthedocs.io/en/latest/generated/onstove.OnStove.extract_wealth_index.html)"
   ]
  },
  {
   "cell_type": "code",
   "execution_count": 427,
   "id": "2dafe386",
   "metadata": {},
   "outputs": [],
   "source": [
    "wealth_index = f\"gis_data/Relative wealth index/{country.specs['country_code']}_relative_wealth_index.csv\"\n",
    "country.extract_wealth_index(wealth_index, file_type=\"csv\")"
   ]
  },
  {
   "cell_type": "markdown",
   "id": "408c3095",
   "metadata": {},
   "source": [
    "## 2.5. Calculate distance to electricity infrastructure \n",
    "\n",
    "To estimate electricity access rates in different cells across the study area the distance to electricity related infrastructure is important. The following section of the code reads the electricity related vector file(s) that was (were) processed in the data processing parts and determines the distance between every settlement (raster cell in the population map) and the closest infrastructure. This is done using a function called `distance_to_electricity`. \n",
    "\n",
    "Find more information about this function in the [documentation](https://onstove-documentation.readthedocs.io/en/latest/generated/onstove.OnStove.distance_to_electricity.html)."
   ]
  },
  {
   "cell_type": "code",
   "execution_count": 428,
   "id": "f7d37042",
   "metadata": {},
   "outputs": [],
   "source": [
    "path = os.path.join(output_directory, 'Electricity', 'MV_lines', 'MV_lines.geojson')\n",
    "mv_lines = VectorLayer('Electricity', 'MV_lines', path=path)\n",
    "country.distance_to_electricity(mv_lines=mv_lines)"
   ]
  },
  {
   "cell_type": "markdown",
   "id": "551c0bdc",
   "metadata": {},
   "source": [
    "## 2.6. Add nighttime lights data\n",
    "\n",
    "Nighttime lights are also important for the calibration of electrified population as it can give you an indication of where electricity consumption is present. The nighttime lights map should already have been processed in the [Data processing](#1.-Data-processing) section and therefore, it is only read here and added to the dataframe using the function `raster_to_dataframe`. \n",
    "\n",
    "Find out more the function in the [documentation](https://onstove-documentation.readthedocs.io/en/latest/generated/onstove.OnStove.raster_to_dataframe.html)"
   ]
  },
  {
   "cell_type": "code",
   "execution_count": 429,
   "id": "04e8464f",
   "metadata": {},
   "outputs": [],
   "source": [
    "ntl_path = os.path.join(output_directory, 'Electricity', 'Night_time_lights', 'Night_time_lights.tif')\n",
    "country.raster_to_dataframe(ntl_path, name='Night_lights', method='read')"
   ]
  },
  {
   "cell_type": "markdown",
   "id": "3098cb0a",
   "metadata": {},
   "source": [
    "## 2.7. Calibrate current electrified population\n",
    "\n",
    "Once the distance to electricity related infrastructure (transformers, MV-lines or HV-lines) is determined and the nighttime light intensity is extracted, the current electrification status for different settlements across the study area is determined. This is done in two steps. First, `current_elec` gives a binary classification of the settlements that are likely electrified (1 indicates that at least someone is likely to have access, while 0 indicates that electricity access is not present at all in the cell). \n",
    "\n",
    "For more information about the `current_elec` function, please refer to the [documentation](https://onstove-documentation.readthedocs.io/en/latest/generated/onstove.OnStove.current_elec.html)\n",
    "\n",
    "Once the binary classification is made the electrification rate in the different cells with the value 1 from the current_elec is determined. This is done using the function final_elec. This is a multi-criteria analysis taking into account the population density in each cell, the nighttime light intensity and the distance to either transformers, MV-lines or HV-lines together with weights for each one of these factors provided by the user in the socio-economic specs file.  \n",
    "\n",
    "For more information about the `final_elec` function, please refer to the [documentation](https://onstove-documentation.readthedocs.io/en/latest/generated/onstove.OnStove.final_elec.html)"
   ]
  },
  {
   "cell_type": "code",
   "execution_count": 430,
   "id": "4b87b76f",
   "metadata": {},
   "outputs": [
    {
     "name": "stdout",
     "output_type": "stream",
     "text": [
      "Calibrated grid electrified population fraction: 1.0\n"
     ]
    }
   ],
   "source": [
    "country.final_elec()\n",
    "\n",
    "print('Calibrated grid electrified population fraction:', (country.gdf['Elec_pop_calib']*country.gdf['Pop']).sum() / country.gdf['Pop'].sum())"
   ]
  },
  {
   "cell_type": "markdown",
   "id": "76132452",
   "metadata": {},
   "source": [
    "## 2.8. Read the cooking technologies data\n",
    "\n",
    "The techno-economic specification file is read. This file does two things: 1) it determines the available fuel/stove combinations used in the analysis and 2) it indicates different techno-economic parameters related to these stoves. If a stove is to be added to the analysis the first step is to add it in this file. The function `read_tech_data` creates a dictionary of technology-classes. This dictionary can be called with `country.techs`\n",
    "\n",
    "Find out more about the `read_tech_data` method [here](https://onstove-documentation.readthedocs.io/en/latest/generated/onstove.OnStove.read_tech_data.html) and about the techno-economic specification data file [here](https://onstove-documentation.readthedocs.io/en/latest/onstove_tool.html#techno-economic-data)."
   ]
  },
  {
   "cell_type": "code",
   "execution_count": 431,
   "id": "cd565793",
   "metadata": {},
   "outputs": [],
   "source": [
    "path = 'tech_specs.csv'\n",
    "country.read_tech_data(path, delimiter=',')"
   ]
  },
  {
   "cell_type": "markdown",
   "id": "ae22bad6-0964-4e4b-bd27-ab7bf716063f",
   "metadata": {},
   "source": [
    "After reading the technology data, the `OnStove` model creates a new dictionary containing all technologies specified in the tech specification file. You can check how this dictionary looks by calling the `techs` attrbute of the model:"
   ]
  },
  {
   "cell_type": "code",
   "execution_count": 432,
   "id": "89a8628a-4bf5-4481-b6ee-db7d45837b84",
   "metadata": {
    "tags": []
   },
   "outputs": [
    {
     "data": {
      "text/plain": [
       "{'Charcoal ICS': <onstove.technology.Charcoal at 0x29b12161790>,\n",
       " 'Biomass improved firewood stoves': <onstove.technology.Biomass at 0x29b08339a10>,\n",
       " 'Biomass Three stone open fire': <onstove.technology.Biomass at 0x29b05485990>,\n",
       " 'Electricity rice cooker': <onstove.technology.Electricity at 0x29b77f58590>,\n",
       " 'Kerosene': <onstove.technology.Technology at 0x29b12150650>,\n",
       " 'LPG': <onstove.technology.LPG at 0x29b0bf96050>,\n",
       " 'Metallic charcoal stoves': <onstove.technology.Charcoal at 0x29b0bfc0d10>,\n",
       " 'Electricity pressure cooker': <onstove.technology.Electricity at 0x29b12152450>,\n",
       " 'Electricity': <onstove.technology.Electricity at 0x29b12150210>,\n",
       " 'Biogas': <onstove.technology.Biogas at 0x29b121525d0>}"
      ]
     },
     "execution_count": 432,
     "metadata": {},
     "output_type": "execute_result"
    }
   ],
   "source": [
    "country.techs"
   ]
  },
  {
   "cell_type": "markdown",
   "id": "3973c694",
   "metadata": {},
   "source": [
    "## 2.9. Reading GIS data for LPG supply\n",
    "\n",
    "The LPG travel time is added to the `LPG` technology class. The original dataset gives the time in minutes, so here the values are divided by 60 to ensure that the time worked with is in hours. A factor of 2 is also multiplied with the travel time to account for the fact that the trips are two-ways. For this we use the `raster_to_dataframe` method again, but without a `name` attribute so the output is not saved in the dataframe but it is returned instead. This way we can save the traveltime information in the `travel_time` attribute of the `LPG` technology class:"
   ]
  },
  {
   "cell_type": "code",
   "execution_count": 433,
   "id": "faf02a0e",
   "metadata": {},
   "outputs": [],
   "source": [
    "traveltime_path = os.path.join(output_directory, 'LPG', 'LPG Traveltime', 'LPG Traveltime.tif')\n",
    "\n",
    "country.techs['LPG'].travel_time = pd.Series(country.raster_to_dataframe(traveltime_path, fill_nodata_method='interpolate', \n",
    "                                                               method='read') * 2 / 60)"
   ]
  },
  {
   "cell_type": "markdown",
   "id": "783b0ca2",
   "metadata": {},
   "source": [
    "## 2.10. Adding GIS data for Biogas\n",
    "\n",
    "Biogas potential is dependent on the availability of manure, the availability of manure is in turn dependent on livestock. This is calculated in three steps run in the cell bellow:\n",
    "1. Determine and add the livestock datasets to the dataframe calling the `recalibrate_livestock` method from the `Biogas` technology class, with all feedstock datasets as inputs\n",
    "1. Add the temperature layer to the `Biomass` technology class [(temperatures below 10 degrees Celsius render the biogas digesters too inefficient)](https://www.sciencedirect.com/science/article/pii/S2213138821003118)\n",
    "1. Add a friction map to the `Biomass` technlogy class (walking only friction that is also used for biomass in order to estimate the travel time for biogas collection)\n",
    "\n",
    "Find out more the calibration of livestock in the [documentation](https://onstove-documentation.readthedocs.io/en/latest/generated/onstove.Biogas.recalibrate_livestock.html)."
   ]
  },
  {
   "cell_type": "code",
   "execution_count": 434,
   "id": "26fc9c97",
   "metadata": {},
   "outputs": [],
   "source": [
    "buffaloes = os.path.join(output_directory, 'Biogas', 'Livestock', 'buffaloes', 'buffaloes.tif')\n",
    "cattles = os.path.join(output_directory, 'Biogas', 'Livestock', 'cattles', 'cattles.tif')\n",
    "poultry =os.path.join(output_directory, 'Biogas', 'Livestock', 'poultry', 'poultry.tif')\n",
    "goats = os.path.join(output_directory, 'Biogas', 'Livestock', 'goats', 'goats.tif')\n",
    "pigs = os.path.join(output_directory, 'Biogas', 'Livestock', 'pigs', 'pigs.tif')\n",
    "sheeps = os.path.join(output_directory, 'Biogas', 'Livestock', 'sheeps', 'sheeps.tif')\n",
    "\n",
    "country.techs['Biogas'].recalibrate_livestock(country, buffaloes, cattles, poultry, goats, pigs, sheeps)\n",
    "country.techs['Biogas'].temperature = os.path.join(output_directory, 'Biogas', 'Temperature', 'Temperature.tif')\n",
    "country.techs['Biogas'].friction_path = os.path.join(output_directory, 'Biomass', 'Friction', 'Friction.tif')"
   ]
  },
  {
   "cell_type": "markdown",
   "id": "647cfcf0",
   "metadata": {},
   "source": [
    "## 2.11. Adding GIS data for Biomass\n",
    "\n",
    "Biomass is assumed to be collected by the end-users themselves. In this notebook three biomass stoves are present (traditional biomass, natural draft (Collected Improved biomass) and forced draft. For each one of these stoves the forest and friction layers are added to their respective classes. The forest layer describes where the collection opportunities for biomass exist, while the friction map (only walking-friction) is used to determine the least-cost path to the different collection points on the map. The collection point with the lowest travel time is selected for biomass collection. \n",
    "\n",
    "The user can also give a condition for where collection can be carried out using the `forest_condition` call. The condition restricts certain areas based on canopy cover. This is done by using a `lambda` funcion, which defines by using a boolean expression which cell should be used. In this example no such restriction is given, as all cels above canopy cover of `0` are accounted.\n",
    "\n",
    "To define the `lambda` funcion, firs type `lamba x:` followed by the condition:\n",
    "```python\n",
    "lamba x: x > 0\n",
    "```\n",
    "If a values above `0` where used, for example `30`, then all cells with canopy cover below that number would be ignored.\n",
    "\n",
    "Find out more about how biomass is treated in the [documentation](https://onstove-documentation.readthedocs.io/en/latest/generated/onstove.Biomass.html)."
   ]
  },
  {
   "cell_type": "code",
   "execution_count": 435,
   "id": "7204607f",
   "metadata": {},
   "outputs": [],
   "source": [
    "#country.techs['Biomass Forced Draft'].friction_path = os.path.join(output_directory, 'Biomass', 'Friction', 'Friction.tif')\n",
    "#country.techs['Biomass Forced Draft'].forest_path = os.path.join(output_directory, 'Biomass', 'Forest', 'Forest.tif')\n",
    "#country.techs['Biomass Forced Draft'].forest_condition = lambda x: x > 0\n",
    "\n",
    "country.techs['Biomass improved firewood stoves'].friction_path = os.path.join(output_directory, 'Biomass', 'Friction', 'Friction.tif')\n",
    "country.techs['Biomass improved firewood stoves'].forest_path = os.path.join(output_directory, 'Biomass', 'Forest', 'Forest.tif')\n",
    "country.techs['Biomass improved firewood stoves'].forest_condition = lambda x: x > 0\n",
    "\n",
    "country.techs['Biomass Three stone open fire'].friction_path = os.path.join(output_directory, 'Biomass', 'Friction', 'Friction.tif')\n",
    "country.techs['Biomass Three stone open fire'].forest_path = os.path.join(output_directory, 'Biomass', 'Forest', 'Forest.tif')\n",
    "country.techs['Biomass Three stone open fire'].forest_condition = lambda x: x > 0"
   ]
  },
  {
   "cell_type": "markdown",
   "id": "449e4afa",
   "metadata": {},
   "source": [
    "## 2.13. Saving the prepared model inputs\n",
    "\n",
    "The cell below saves the dataframe created through the calibration-phase as a `.pkl`-file. This enables users to run several scenarios on the same file without rerunning the previous steps. "
   ]
  },
  {
   "cell_type": "code",
   "execution_count": 436,
   "id": "b23d52f5",
   "metadata": {
    "scrolled": true
   },
   "outputs": [
    {
     "name": "stdout",
     "output_type": "stream",
     "text": [
      "Execution time: 38 min 53 sec\n"
     ]
    }
   ],
   "source": [
    "country.to_pickle(\"model_inputs.pkl\")\n",
    "\n",
    "end = time.time()\n",
    "\n",
    "diff = end - start\n",
    "print('Execution time:', str(str(int(diff//60))) + ' min ' + str(int((diff)%60)) + ' sec')"
   ]
  },
  {
   "cell_type": "markdown",
   "id": "ab71fb43-9819-4ce4-8eee-c5e3ea457414",
   "metadata": {},
   "source": [
    "[Go back to the top](#OnStove-notebook)"
   ]
  },
  {
   "cell_type": "markdown",
   "id": "30799bf0",
   "metadata": {},
   "source": [
    "# 3. Model run\n",
    "\n",
    "This section runs the main-analysis and produces the results of OnStove. In this section first the cooking options currently in place are determined for urban and rural settlements. This base-line cooking mix is used in order to determine the relative benefits (reduced mortality, reduced morbidity, time saved and carbon emissions avoided), as well as the relative costs (investments, operation & maintenance, fuel and salvage costs). The benefits and costs for all stove options are combined in every cell to produce the net-benefit (defined as benefits minus costs). The stove with the highest net-benefit is selected for each cell in the study area.\n",
    "\n",
    "The first two cells in this section reads: **1)** the input model (output from the calibration phase as a `.pkl`-file) and **2)** the posibility of reading a socio-economic specification file again (first read in [step 2](#2.1.-Read-the-model-data)) to change any socio-economic specification in case different scenarios want to be run. "
   ]
  },
  {
   "cell_type": "code",
   "execution_count": 437,
   "id": "8317f52f",
   "metadata": {},
   "outputs": [],
   "source": [
    "start = time.time()\n",
    "country = OnStove.read_model(f\"{output_directory}/model_inputs.pkl\")"
   ]
  },
  {
   "cell_type": "code",
   "execution_count": 438,
   "id": "aa497357",
   "metadata": {},
   "outputs": [],
   "source": [
    "path = 'soc_specs.csv'\n",
    "country.read_scenario_data(path, delimiter = ',')"
   ]
  },
  {
   "cell_type": "markdown",
   "id": "96a88442",
   "metadata": {},
   "source": [
    "## 3.1 Calculating benefits and costs of each technology and getting the max benefit technology for each cell\n",
    "\n",
    "The cell below runs the analysis for the technologies specified in the list called `names`. **Note: the technologies in the name list also have to be present in the techno-economic file, otherwise the run will crash.**\n",
    "\n",
    "The run function calculates all benefits and costs. It also determines the net-benefit and selects the stove with the highest net-benefit. \n",
    "\n",
    "For more information on this function, refer to the [documentation](https://onstove-documentation.readthedocs.io/en/latest/generated/onstove.OnStove.run.html)"
   ]
  },
  {
   "cell_type": "code",
   "execution_count": 439,
   "id": "d23a6af3-f9df-4a25-a613-53998a60dd35",
   "metadata": {},
   "outputs": [],
   "source": [
    "#1. Salvage takes super long time - SEEMS TO BE FIXED WHEN FIXING POINT 2\n",
    "#2. Can not calibrate to 100% elec rate - FIXED, ALSO FIXES POINT 3\n",
    "#3. We have cells that have two different electricity options - FIXED BY MAKING SURE THAT MODEL.ELEC_POP IS CORRECTLY MATCHED TO THE ELECTRIFICATION RATE, THIS MAY BE A NON-ISSUE ONCE POINT TWO IS FIXED.\n",
    "#4. Time saved is NaN for some techs - SEEMS FIXED\n",
    "#5. Some of the net-benefit results look wrong"
   ]
  },
  {
   "cell_type": "code",
   "execution_count": 440,
   "id": "2a6c5e67",
   "metadata": {},
   "outputs": [
    {
     "name": "stdout",
     "output_type": "stream",
     "text": [
      "[Kenya] Calculating clean cooking access\n",
      "[Kenya] Getting value of time\n",
      "[Kenya] Calculating base fuel properties\n",
      "The rural electrification rate you provided in the tech specs is less                 \n",
      "than the share of the population cooking with electricity.                 \n",
      "The share of the population cooking with electricity has been made equal to the rural electrification rate.                 \n",
      "The remaining population share has been reallocated proportionally to dirty fuels.                \n",
      "If you are not satisfied then please adjust the rural electrification rate or tech shares accordingly in the specs.\n",
      "Charcoal ICS 0.06493699265611708\n",
      "Biomass improved firewood stoves 0.08094611257133855\n",
      "Biomass Three stone open fire 0.661476823497057\n",
      "Electricity rice cooker 0.0\n",
      "Kerosene 0.005703248969797649\n",
      "LPG 0.1391\n",
      "Metallic charcoal stoves 0.039422457791232865\n",
      "Electricity pressure cooker 0.0\n",
      "Electricity 0.006514364514456811\n",
      "Biogas 0.0027\n",
      "The urban electrification rate you provided in the tech specs is less                 \n",
      "than the share of the population cooking with electricity.                 \n",
      "The share of the population cooking with electricity has been made equal to the urban electrification rate.                 \n",
      "The remaining population share has been reallocated proportionally to dirty fuels.                \n",
      "If you are not satisfied then please adjust the rural electrificaiton rate or tech shares accordingly in the specs.\n",
      "Charcoal ICS 0.12921922666539779\n",
      "Biomass improved firewood stoves 0.019506736293738166\n",
      "Biomass Three stone open fire 0.09072180530262354\n",
      "Electricity rice cooker 0.0\n",
      "Kerosene 0.032511227156230275\n",
      "LPG 0.6279\n",
      "Metallic charcoal stoves 0.05470142981841919\n",
      "Electricity pressure cooker 0.0027\n",
      "Electricity 0.00023957476359104943\n",
      "Biogas 0.0042\n",
      "[Kenya] Getting value of time\n",
      "Execution time: 0 min 58 sec\n"
     ]
    }
   ],
   "source": [
    "start = time.time()\n",
    "names = [\"Charcoal ICS\", \"Biomass improved firewood stoves\", \n",
    "        \"Biomass Three stone open fire\", \"Electricity rice cooker\",\n",
    "        \"LPG\",\"Metallic charcoal stoves\", \"Electricity pressure cooker\",\n",
    "        \"Electricity\", \"Biogas\"]\n",
    "\n",
    "country.run(technologies=names) \n",
    "\n",
    "end = time.time()\n",
    "\n",
    "diff = end - start\n",
    "print('Execution time:', str(str(int(diff//60))) + ' min ' + str(int((diff)%60)) + ' sec')"
   ]
  },
  {
   "cell_type": "code",
   "execution_count": 423,
   "id": "1e352fc0-a6c4-4566-983b-b585f3625037",
   "metadata": {},
   "outputs": [
    {
     "name": "stdout",
     "output_type": "stream",
     "text": [
      "Charcoal ICS\n",
      "[-96.3737978  -86.54256268 -77.71422655 -69.78648217 -62.66745885\n",
      " -56.27465773 -50.53399581 -45.37894738]\n",
      "Biomass improved firewood stoves\n",
      "[-76.66081877 -68.8405341  -61.81800835 -55.51186095 -49.84901306\n",
      " -44.76384075 -40.19741447 -36.09681615]\n",
      "Biomass Three stone open fire\n",
      "[-115.71539101 -103.91109106  -93.31096539  -83.79217438  -75.24440947\n",
      "  -67.56861482  -60.67583946  -54.48620641]\n",
      "Electricity rice cooker\n",
      "[67.02282092 60.18572281 54.04608729 48.53276517 43.58186527 39.13601407\n",
      " 35.1436908  31.55863039]\n",
      "LPG\n",
      "[52.44451788 47.09457424 42.29038635 37.97628085 34.10226369 30.62344082\n",
      " 27.49949786 24.69423299]\n",
      "Metallic charcoal stoves\n",
      "[-168.05342958 -150.91004811 -135.5154886  -121.69135112 -109.27743455\n",
      "  -98.12988017  -88.11950446  -79.13030214]\n",
      "Electricity pressure cooker\n",
      "[67.12043751 60.27338138 54.12480368 48.60345158 43.64534086 39.19301442\n",
      " 35.19487646 31.60459452]\n",
      "Electricity\n",
      "[66.97208598 60.14016341 54.00517548 48.49602683 43.54887467 39.10638889\n",
      " 35.11708772 31.53474113]\n",
      "Biogas\n",
      "[68.89118809 61.86349505 55.55270748 49.88569278 44.79677872 40.22699238\n",
      " 36.12337678 32.43837714]\n"
     ]
    }
   ],
   "source": [
    "names = [\"Charcoal ICS\", \"Biomass improved firewood stoves\", \n",
    "        \"Biomass Three stone open fire\", \"Electricity rice cooker\",\n",
    "        \"LPG\", \"Metallic charcoal stoves\", \"Electricity pressure cooker\",\n",
    "        \"Electricity\", \"Biogas\"]\n",
    "\n",
    "for n in names:\n",
    "    print(n)\n",
    "    print(country.techs[n].decreased_carbon_costs[122850])"
   ]
  },
  {
   "cell_type": "code",
   "execution_count": 441,
   "id": "47f927c2-bde4-41e6-a472-5b404a82f3bf",
   "metadata": {},
   "outputs": [
    {
     "data": {
      "text/plain": [
       "array([550.,   0.,   0.,   0.,   0.,   0.,   0.,   0.])"
      ]
     },
     "execution_count": 441,
     "metadata": {},
     "output_type": "execute_result"
    }
   ],
   "source": [
    "country.techs[\"Biogas\"].investments[157229]"
   ]
  },
  {
   "cell_type": "code",
   "execution_count": 447,
   "id": "8b2caa61-0d11-4a6a-a0a3-d26d841f08fb",
   "metadata": {},
   "outputs": [
    {
     "data": {
      "text/plain": [
       "array([1.33647115, 1.33647115, 1.33647115, 1.33647115, 1.33647115,\n",
       "       1.33647115, 1.33647115, 1.33647115])"
      ]
     },
     "execution_count": 447,
     "metadata": {},
     "output_type": "execute_result"
    }
   ],
   "source": [
    "country.base_fuel.om_costs[91102]"
   ]
  },
  {
   "cell_type": "code",
   "execution_count": 311,
   "id": "7fbb15f5-99be-4664-99a6-3ac583e1c6ff",
   "metadata": {},
   "outputs": [
    {
     "name": "stdout",
     "output_type": "stream",
     "text": [
      "273.75\n",
      "______________\n",
      "0.13495624136745557\n",
      "273.75\n",
      "______________\n",
      "0.020372787235182998\n",
      "273.75\n",
      "______________\n",
      "0.09474962952235902\n",
      "273.75\n",
      "______________\n",
      "0.0\n",
      "273.75\n",
      "______________\n",
      "0.6557772101055045\n",
      "273.75\n",
      "______________\n",
      "0.057130038278555485\n",
      "273.75\n",
      "______________\n",
      "0.002819873335379618\n",
      "273.75\n",
      "______________\n",
      "0.00023957476359104946\n",
      "273.75\n",
      "______________\n",
      "0.0\n"
     ]
    }
   ],
   "source": [
    "for n in names:\n",
    "    print(country.base_fuel.total_time_yr[122850])\n",
    "    print(\"______________\")\n",
    "    print(country.techs[n].pop_sqkm[122850])"
   ]
  },
  {
   "cell_type": "code",
   "execution_count": null,
   "id": "cebb63a4-daf2-4e27-bc6a-db111810442c",
   "metadata": {},
   "outputs": [],
   "source": []
  },
  {
   "cell_type": "code",
   "execution_count": null,
   "id": "ace883a4-c4b7-43a5-8b2b-1b8f4127b867",
   "metadata": {},
   "outputs": [],
   "source": []
  },
  {
   "cell_type": "code",
   "execution_count": null,
   "id": "cfa8d4c9-4141-414d-9f0e-574b81fc7683",
   "metadata": {},
   "outputs": [],
   "source": []
  },
  {
   "cell_type": "code",
   "execution_count": null,
   "id": "da967cc7-8a4b-434c-86f2-eef7e8e85bb6",
   "metadata": {},
   "outputs": [],
   "source": []
  },
  {
   "cell_type": "code",
   "execution_count": null,
   "id": "893113c2-2388-47d1-9f80-b58dac9b4320",
   "metadata": {},
   "outputs": [],
   "source": []
  },
  {
   "cell_type": "code",
   "execution_count": null,
   "id": "436bb96d-d197-4120-9d30-1cc690e597e5",
   "metadata": {},
   "outputs": [],
   "source": []
  },
  {
   "cell_type": "code",
   "execution_count": null,
   "id": "aa0149b6-b4e0-4c52-8a13-b01e2eebce41",
   "metadata": {},
   "outputs": [],
   "source": []
  },
  {
   "cell_type": "code",
   "execution_count": null,
   "id": "2115b3e9-063e-48c7-8026-7e64901a1270",
   "metadata": {},
   "outputs": [],
   "source": []
  },
  {
   "cell_type": "code",
   "execution_count": null,
   "id": "3959878b-641a-4ce4-93f2-74412ab95a48",
   "metadata": {},
   "outputs": [],
   "source": []
  },
  {
   "cell_type": "code",
   "execution_count": null,
   "id": "093974be-ed19-44ff-b97c-b352fd3d4d67",
   "metadata": {},
   "outputs": [],
   "source": []
  },
  {
   "cell_type": "code",
   "execution_count": null,
   "id": "156cea98-7c67-4ba6-b494-bb64d81ae56e",
   "metadata": {},
   "outputs": [],
   "source": []
  },
  {
   "cell_type": "code",
   "execution_count": 118,
   "id": "45c46542-58e8-48d7-96eb-a0e12f8a7940",
   "metadata": {},
   "outputs": [
    {
     "name": "stdout",
     "output_type": "stream",
     "text": [
      "[0.00139784 0.00145115 0.00150649 0.00156395 0.00162359 0.00168551\n",
      " 0.00174979 0.00181653]\n"
     ]
    }
   ],
   "source": [
    "print(country.techs[\"Charcoal ICS\"].deaths[122850])"
   ]
  },
  {
   "cell_type": "code",
   "execution_count": 100,
   "id": "65dbdeb2-b829-42de-a222-dd7ca8d7fa53",
   "metadata": {},
   "outputs": [
    {
     "name": "stdout",
     "output_type": "stream",
     "text": [
      "0.005698647653468975\n",
      "0.06488460222984849\n",
      "0.08088080616941053\n",
      "0.6609431515277788\n",
      "0.0\n",
      "0.13898777570386495\n",
      "0.0393906522011715\n",
      "0.0\n",
      "0.006514364514456811\n",
      "0.0027\n"
     ]
    }
   ],
   "source": [
    "names = [\"Kerosene\",\"Charcoal ICS\", \"Biomass improved firewood stoves\", \n",
    "        \"Biomass Three stone open fire\", \"Electricity rice cooker\",\n",
    "        \"LPG\", \"Metallic charcoal stoves\", \"Electricity pressure cooker\",\n",
    "        \"Electricity\", \"Biogas\"]\n",
    "\n",
    "for n in names:\n",
    "    print(country.techs[n].pop_sqkm[157229])"
   ]
  },
  {
   "cell_type": "code",
   "execution_count": 107,
   "id": "b68d1130-7a64-4283-aff6-bb2bfd3585ec",
   "metadata": {},
   "outputs": [
    {
     "name": "stdout",
     "output_type": "stream",
     "text": [
      "Charcoal ICS\n",
      "alri\n",
      "[0.00290493 0.00293963 0.00297474 0.00301027 0.00304622 0.00308261\n",
      " 0.00311943 0.00315668]\n",
      "copd\n",
      "[0.00290493 0.00293963 0.00297474 0.00301027 0.00304622 0.00308261\n",
      " 0.00311943 0.00315668]\n",
      "ihd\n",
      "[0.00290493 0.00293963 0.00297474 0.00301027 0.00304622 0.00308261\n",
      " 0.00311943 0.00315668]\n",
      "lc\n",
      "[0.00290493 0.00293963 0.00297474 0.00301027 0.00304622 0.00308261\n",
      " 0.00311943 0.00315668]\n",
      "stroke\n",
      "[0.00290493 0.00293963 0.00297474 0.00301027 0.00304622 0.00308261\n",
      " 0.00311943 0.00315668]\n",
      "Biomass improved firewood stoves\n",
      "alri\n",
      "[0.0033654  0.0034056  0.00344627 0.00348743 0.00352909 0.00357124\n",
      " 0.00361389 0.00365706]\n",
      "copd\n",
      "[0.0033654  0.0034056  0.00344627 0.00348743 0.00352909 0.00357124\n",
      " 0.00361389 0.00365706]\n",
      "ihd\n",
      "[0.0033654  0.0034056  0.00344627 0.00348743 0.00352909 0.00357124\n",
      " 0.00361389 0.00365706]\n",
      "lc\n",
      "[0.0033654  0.0034056  0.00344627 0.00348743 0.00352909 0.00357124\n",
      " 0.00361389 0.00365706]\n",
      "stroke\n",
      "[0.0033654  0.0034056  0.00344627 0.00348743 0.00352909 0.00357124\n",
      " 0.00361389 0.00365706]\n",
      "Biomass Three stone open fire\n",
      "alri\n",
      "[0.00345963 0.00350095 0.00354277 0.00358508 0.0036279  0.00367123\n",
      " 0.00371508 0.00375945]\n",
      "copd\n",
      "[0.00345963 0.00350095 0.00354277 0.00358508 0.0036279  0.00367123\n",
      " 0.00371508 0.00375945]\n",
      "ihd\n",
      "[0.00345963 0.00350095 0.00354277 0.00358508 0.0036279  0.00367123\n",
      " 0.00371508 0.00375945]\n",
      "lc\n",
      "[0.00345963 0.00350095 0.00354277 0.00358508 0.0036279  0.00367123\n",
      " 0.00371508 0.00375945]\n",
      "stroke\n",
      "[0.00345963 0.00350095 0.00354277 0.00358508 0.0036279  0.00367123\n",
      " 0.00371508 0.00375945]\n",
      "Electricity rice cooker\n",
      "alri\n",
      "[0. 0. 0. 0. 0. 0. 0. 0.]\n",
      "copd\n",
      "[0. 0. 0. 0. 0. 0. 0. 0.]\n",
      "ihd\n",
      "[0. 0. 0. 0. 0. 0. 0. 0.]\n",
      "lc\n",
      "[0. 0. 0. 0. 0. 0. 0. 0.]\n",
      "stroke\n",
      "[0. 0. 0. 0. 0. 0. 0. 0.]\n",
      "LPG\n",
      "alri\n",
      "[0.00140512 0.00142191 0.00143889 0.00145608 0.00147347 0.00149107\n",
      " 0.00150887 0.0015269 ]\n",
      "copd\n",
      "[0.00140512 0.00142191 0.00143889 0.00145608 0.00147347 0.00149107\n",
      " 0.00150887 0.0015269 ]\n",
      "ihd\n",
      "[0.00140512 0.00142191 0.00143889 0.00145608 0.00147347 0.00149107\n",
      " 0.00150887 0.0015269 ]\n",
      "lc\n",
      "[0.00140512 0.00142191 0.00143889 0.00145608 0.00147347 0.00149107\n",
      " 0.00150887 0.0015269 ]\n",
      "stroke\n",
      "[0.00140512 0.00142191 0.00143889 0.00145608 0.00147347 0.00149107\n",
      " 0.00150887 0.0015269 ]\n",
      "Metallic charcoal stoves\n",
      "alri\n",
      "[0.00311303 0.00315021 0.00318783 0.00322591 0.00326444 0.00330343\n",
      " 0.00334288 0.00338281]\n",
      "copd\n",
      "[0.00311303 0.00315021 0.00318783 0.00322591 0.00326444 0.00330343\n",
      " 0.00334288 0.00338281]\n",
      "ihd\n",
      "[0.00311303 0.00315021 0.00318783 0.00322591 0.00326444 0.00330343\n",
      " 0.00334288 0.00338281]\n",
      "lc\n",
      "[0.00311303 0.00315021 0.00318783 0.00322591 0.00326444 0.00330343\n",
      " 0.00334288 0.00338281]\n",
      "stroke\n",
      "[0.00311303 0.00315021 0.00318783 0.00322591 0.00326444 0.00330343\n",
      " 0.00334288 0.00338281]\n",
      "Electricity pressure cooker\n",
      "alri\n",
      "[0. 0. 0. 0. 0. 0. 0. 0.]\n",
      "copd\n",
      "[0. 0. 0. 0. 0. 0. 0. 0.]\n",
      "ihd\n",
      "[0. 0. 0. 0. 0. 0. 0. 0.]\n",
      "lc\n",
      "[0. 0. 0. 0. 0. 0. 0. 0.]\n",
      "stroke\n",
      "[0. 0. 0. 0. 0. 0. 0. 0.]\n",
      "Electricity\n",
      "alri\n",
      "[0. 0. 0. 0. 0. 0. 0. 0.]\n",
      "copd\n",
      "[0. 0. 0. 0. 0. 0. 0. 0.]\n",
      "ihd\n",
      "[0. 0. 0. 0. 0. 0. 0. 0.]\n",
      "lc\n",
      "[0. 0. 0. 0. 0. 0. 0. 0.]\n",
      "stroke\n",
      "[0. 0. 0. 0. 0. 0. 0. 0.]\n",
      "Biogas\n",
      "alri\n",
      "[0.00140512 0.00142191 0.00143889 0.00145608 0.00147347 0.00149107\n",
      " 0.00150887 0.0015269 ]\n",
      "copd\n",
      "[0.00140512 0.00142191 0.00143889 0.00145608 0.00147347 0.00149107\n",
      " 0.00150887 0.0015269 ]\n",
      "ihd\n",
      "[0.00140512 0.00142191 0.00143889 0.00145608 0.00147347 0.00149107\n",
      " 0.00150887 0.0015269 ]\n",
      "lc\n",
      "[0.00140512 0.00142191 0.00143889 0.00145608 0.00147347 0.00149107\n",
      " 0.00150887 0.0015269 ]\n",
      "stroke\n",
      "[0.00140512 0.00142191 0.00143889 0.00145608 0.00147347 0.00149107\n",
      " 0.00150887 0.0015269 ]\n"
     ]
    }
   ],
   "source": [
    "diseases = ['alri', 'copd', 'ihd', 'lc', 'stroke']\n",
    "\n",
    "names = [\"Charcoal ICS\", \"Biomass improved firewood stoves\", \n",
    "        \"Biomass Three stone open fire\", \"Electricity rice cooker\",\n",
    "        \"LPG\",\"Metallic charcoal stoves\", \"Electricity pressure cooker\",\n",
    "        \"Electricity\", \"Biogas\"]\n",
    "\n",
    "for t in names:\n",
    "    print(country.techs[t].name)\n",
    "    for d in diseases:\n",
    "        print(d)\n",
    "        print(country.techs[t].deaths[91102])\n",
    "    "
   ]
  },
  {
   "cell_type": "code",
   "execution_count": 20,
   "id": "b2589dba-503a-44bb-ada8-9b7e952fc1a4",
   "metadata": {},
   "outputs": [
    {
     "data": {
      "text/plain": [
       "array([0.30395841, 0.30758883, 0.3112626 , 0.31498026, 0.31874232,\n",
       "       0.32254931, 0.32640177, 0.33030024])"
      ]
     },
     "execution_count": 20,
     "metadata": {},
     "output_type": "execute_result"
    }
   ],
   "source": [
    "country.base_fuel.cases[157229]"
   ]
  },
  {
   "cell_type": "code",
   "execution_count": 173,
   "id": "ad2e777d-9dbe-4500-95cf-1db160fc6c5f",
   "metadata": {},
   "outputs": [
    {
     "data": {
      "text/plain": [
       "17221.021484375"
      ]
     },
     "execution_count": 173,
     "metadata": {},
     "output_type": "execute_result"
    }
   ],
   "source": [
    "country.gdf[\"pop_init_year\"][91102]"
   ]
  },
  {
   "cell_type": "code",
   "execution_count": 38,
   "id": "3587719a-c216-4342-8668-47b00fc58d90",
   "metadata": {},
   "outputs": [
    {
     "name": "stdout",
     "output_type": "stream",
     "text": [
      "Charcoal ICS\n",
      "1435.7335221764422\n",
      "Biomass improved firewood stoves\n",
      "885.8725501189531\n",
      "Biomass Three stone open fire\n",
      "1020.407323932212\n",
      "Electricity rice cooker\n",
      "351.20683027799464\n",
      "LPG\n",
      "679.9364234181976\n",
      "Kerosene\n",
      "632.1722945003904\n",
      "Metallic charcoal stoves\n",
      "1941.4713577767543\n",
      "Electricity pressure cooker\n",
      "210.72409816679675\n",
      "Electricity\n",
      "210.72409816679675\n",
      "Biogas\n",
      "760.7648806029362\n"
     ]
    }
   ],
   "source": [
    "names = [\"Charcoal ICS\", \"Biomass improved firewood stoves\", \n",
    "        \"Biomass Three stone open fire\", \"Electricity rice cooker\",\n",
    "        \"LPG\",\"Kerosene\",\"Metallic charcoal stoves\", \"Electricity pressure cooker\",\n",
    "        \"Electricity\", \"Biogas\"]\n",
    "for tech in names:\n",
    "    print(tech)\n",
    "    print(country.techs[tech].discounted_time_value[91102])"
   ]
  },
  {
   "cell_type": "code",
   "execution_count": 11,
   "id": "4e4a767d-eb6a-4946-aaf9-4481aff40937",
   "metadata": {},
   "outputs": [
    {
     "data": {
      "text/plain": [
       "16.265035269798382"
      ]
     },
     "execution_count": 11,
     "metadata": {},
     "output_type": "execute_result"
    }
   ],
   "source": [
    "country.techs[\"Electricity\"].carbon_intensity"
   ]
  },
  {
   "cell_type": "code",
   "execution_count": 85,
   "id": "ab0bc7ae-862d-463b-868a-8ddcc38f645c",
   "metadata": {},
   "outputs": [
    {
     "data": {
      "text/plain": [
       "(array([1.1136    , 1.24010496, 1.38098088, 1.53786031, 1.71256124,\n",
       "        1.9071082 , 2.12375569, 2.36501434]),\n",
       " 8)"
      ]
     },
     "execution_count": 85,
     "metadata": {},
     "output_type": "execute_result"
    }
   ],
   "source": [
    "country.techs[\"Charcoal ICS\"].discount_factor(country.specs)"
   ]
  },
  {
   "cell_type": "code",
   "execution_count": 164,
   "id": "49048c8a-2441-4536-ae92-388a1e34fe7e",
   "metadata": {},
   "outputs": [
    {
     "data": {
      "text/plain": [
       "6.604550679524739"
      ]
     },
     "execution_count": 164,
     "metadata": {},
     "output_type": "execute_result"
    }
   ],
   "source": [
    "country.techs[\"LPG\"].travel_time[12285]"
   ]
  },
  {
   "cell_type": "code",
   "execution_count": null,
   "id": "a8595243-903a-44be-b658-d4946b4eed5c",
   "metadata": {},
   "outputs": [],
   "source": []
  },
  {
   "cell_type": "code",
   "execution_count": null,
   "id": "7d953876-c325-49bc-ad27-29ed74bd324d",
   "metadata": {},
   "outputs": [],
   "source": []
  },
  {
   "cell_type": "code",
   "execution_count": null,
   "id": "a5cf0f57-05e3-4e01-adee-61e8e6f07a1d",
   "metadata": {},
   "outputs": [],
   "source": []
  },
  {
   "cell_type": "code",
   "execution_count": null,
   "id": "8ab6ab44-06bd-4f13-92d8-975be627a246",
   "metadata": {},
   "outputs": [],
   "source": []
  },
  {
   "cell_type": "code",
   "execution_count": null,
   "id": "5bf28268-a495-4262-b69e-d9a3f1533f3b",
   "metadata": {},
   "outputs": [],
   "source": []
  },
  {
   "cell_type": "code",
   "execution_count": null,
   "id": "8cdf1c73-7e92-4c2a-876b-ef0c3fe38723",
   "metadata": {},
   "outputs": [],
   "source": []
  },
  {
   "cell_type": "code",
   "execution_count": null,
   "id": "55c0a8b0-24a0-4fb6-a7cc-13a1a4aa01c7",
   "metadata": {},
   "outputs": [],
   "source": []
  },
  {
   "cell_type": "code",
   "execution_count": null,
   "id": "a482bdaa-100a-44f9-afe9-9fd9887d8b49",
   "metadata": {},
   "outputs": [],
   "source": []
  },
  {
   "cell_type": "code",
   "execution_count": null,
   "id": "d38056bf-61c2-4346-9be9-7a0bbfc26ffc",
   "metadata": {},
   "outputs": [],
   "source": []
  },
  {
   "cell_type": "markdown",
   "id": "2440b683",
   "metadata": {},
   "source": [
    "## 3.2. Printing the summaries\n",
    "\n",
    "Prints the summary of the results. Note that the results are relative to the base-line, so in some cases costs and benefits can be negative. For each stove in the results the table includes:\n",
    "\n",
    "* Population using the stove\n",
    "* Households using the stove\n",
    "* Total net-benefit generated across the study area due to the use of the stove\n",
    "* Total number deaths avoided across the study area due to the use of the stove\n",
    "* The total health costs avoided by using the stove across the study area\n",
    "* Hours saved by adopting each stove for every household on average\n",
    "* Opportunity cost due to time saved for each stove type across the study area\n",
    "* Emissions avoided across the study area due to the use of each stove\n",
    "* Emission costs avoided across the study area due to the use of each stove\n",
    "* Total investment costs\n",
    "* Total fuel costs\n",
    "* Total O&M costs (operation and maintenance) \n",
    "* Total salvage costs\n",
    "\n",
    "Each summary statistics area also aggregated across the entire study area."
   ]
  },
  {
   "cell_type": "code",
   "execution_count": 131,
   "id": "77a30f80",
   "metadata": {},
   "outputs": [
    {
     "data": {
      "text/html": [
       "<div>\n",
       "<style scoped>\n",
       "    .dataframe tbody tr th:only-of-type {\n",
       "        vertical-align: middle;\n",
       "    }\n",
       "\n",
       "    .dataframe tbody tr th {\n",
       "        vertical-align: top;\n",
       "    }\n",
       "\n",
       "    .dataframe thead th {\n",
       "        text-align: right;\n",
       "    }\n",
       "</style>\n",
       "<table border=\"1\" class=\"dataframe\">\n",
       "  <thead>\n",
       "    <tr style=\"text-align: right;\">\n",
       "      <th></th>\n",
       "      <th>index</th>\n",
       "      <th>Max benefit technology</th>\n",
       "      <th>Population (Million)</th>\n",
       "      <th>Households (Millions)</th>\n",
       "      <th>Total net benefit (BUSD)</th>\n",
       "      <th>Total deaths avoided</th>\n",
       "      <th>Health costs avoided (BUSD)</th>\n",
       "      <th>Time saved (hours/hh.day)</th>\n",
       "      <th>Opportunity cost avoided (BUSD)</th>\n",
       "      <th>Reduced emissions (Mton CO2eq)</th>\n",
       "      <th>Emissions costs saved (BUSD)</th>\n",
       "      <th>Investment costs (BUSD)</th>\n",
       "      <th>Fuel costs (BUSD)</th>\n",
       "      <th>O&amp;M costs (BUSD)</th>\n",
       "      <th>Salvage value (BUSD)</th>\n",
       "    </tr>\n",
       "  </thead>\n",
       "  <tbody>\n",
       "    <tr>\n",
       "      <th>0</th>\n",
       "      <td>0</td>\n",
       "      <td>Biogas</td>\n",
       "      <td>0.411487</td>\n",
       "      <td>0.070946</td>\n",
       "      <td>0.008218</td>\n",
       "      <td>572.091619</td>\n",
       "      <td>0.125491</td>\n",
       "      <td>0.512755</td>\n",
       "      <td>0.010147</td>\n",
       "      <td>1.418155</td>\n",
       "      <td>0.040627</td>\n",
       "      <td>0.026664</td>\n",
       "      <td>-0.009219</td>\n",
       "      <td>0.000551</td>\n",
       "      <td>0.011351</td>\n",
       "    </tr>\n",
       "    <tr>\n",
       "      <th>1</th>\n",
       "      <td>1</td>\n",
       "      <td>Electricity pressure cooker</td>\n",
       "      <td>26.09101</td>\n",
       "      <td>5.045252</td>\n",
       "      <td>0.014256</td>\n",
       "      <td>49777.593897</td>\n",
       "      <td>11.520957</td>\n",
       "      <td>2.248704</td>\n",
       "      <td>3.757401</td>\n",
       "      <td>73.209274</td>\n",
       "      <td>2.242975</td>\n",
       "      <td>4.165374</td>\n",
       "      <td>-1.921812</td>\n",
       "      <td>-0.013875</td>\n",
       "      <td>0.01999</td>\n",
       "    </tr>\n",
       "    <tr>\n",
       "      <th>2</th>\n",
       "      <td>2</td>\n",
       "      <td>Electricity rice cooker</td>\n",
       "      <td>23.517798</td>\n",
       "      <td>4.059356</td>\n",
       "      <td>0.054479</td>\n",
       "      <td>18820.129937</td>\n",
       "      <td>4.196272</td>\n",
       "      <td>0.654768</td>\n",
       "      <td>0.575492</td>\n",
       "      <td>33.928604</td>\n",
       "      <td>0.818875</td>\n",
       "      <td>0.923672</td>\n",
       "      <td>-0.04368</td>\n",
       "      <td>0.003561</td>\n",
       "      <td>0.034198</td>\n",
       "    </tr>\n",
       "    <tr>\n",
       "      <th>3</th>\n",
       "      <td>3</td>\n",
       "      <td>LPG</td>\n",
       "      <td>10.161692</td>\n",
       "      <td>1.898883</td>\n",
       "      <td>0.00749</td>\n",
       "      <td>8225.778203</td>\n",
       "      <td>1.803911</td>\n",
       "      <td>0.761376</td>\n",
       "      <td>0.287676</td>\n",
       "      <td>21.692633</td>\n",
       "      <td>0.602677</td>\n",
       "      <td>0.054391</td>\n",
       "      <td>0.649436</td>\n",
       "      <td>0.007964</td>\n",
       "      <td>0.004355</td>\n",
       "    </tr>\n",
       "    <tr>\n",
       "      <th>4</th>\n",
       "      <td>Total</td>\n",
       "      <td>Total</td>\n",
       "      <td>60.181988</td>\n",
       "      <td>11.074437</td>\n",
       "      <td>0.084443</td>\n",
       "      <td>77395.593657</td>\n",
       "      <td>17.646631</td>\n",
       "      <td>1.398298</td>\n",
       "      <td>4.630716</td>\n",
       "      <td>130.248666</td>\n",
       "      <td>3.705155</td>\n",
       "      <td>5.1701</td>\n",
       "      <td>-1.325275</td>\n",
       "      <td>-0.001798</td>\n",
       "      <td>0.069893</td>\n",
       "    </tr>\n",
       "  </tbody>\n",
       "</table>\n",
       "</div>"
      ],
      "text/plain": [
       "   index       Max benefit technology Population (Million)  \\\n",
       "0      0                       Biogas             0.411487   \n",
       "1      1  Electricity pressure cooker             26.09101   \n",
       "2      2      Electricity rice cooker            23.517798   \n",
       "3      3                          LPG            10.161692   \n",
       "4  Total                        Total            60.181988   \n",
       "\n",
       "  Households (Millions) Total net benefit (BUSD) Total deaths avoided  \\\n",
       "0              0.070946                 0.008218           572.091619   \n",
       "1              5.045252                 0.014256         49777.593897   \n",
       "2              4.059356                 0.054479         18820.129937   \n",
       "3              1.898883                  0.00749          8225.778203   \n",
       "4             11.074437                 0.084443         77395.593657   \n",
       "\n",
       "  Health costs avoided (BUSD) Time saved (hours/hh.day)  \\\n",
       "0                    0.125491                  0.512755   \n",
       "1                   11.520957                  2.248704   \n",
       "2                    4.196272                  0.654768   \n",
       "3                    1.803911                  0.761376   \n",
       "4                   17.646631                  1.398298   \n",
       "\n",
       "  Opportunity cost avoided (BUSD) Reduced emissions (Mton CO2eq)  \\\n",
       "0                        0.010147                       1.418155   \n",
       "1                        3.757401                      73.209274   \n",
       "2                        0.575492                      33.928604   \n",
       "3                        0.287676                      21.692633   \n",
       "4                        4.630716                     130.248666   \n",
       "\n",
       "  Emissions costs saved (BUSD) Investment costs (BUSD) Fuel costs (BUSD)  \\\n",
       "0                     0.040627                0.026664         -0.009219   \n",
       "1                     2.242975                4.165374         -1.921812   \n",
       "2                     0.818875                0.923672          -0.04368   \n",
       "3                     0.602677                0.054391          0.649436   \n",
       "4                     3.705155                  5.1701         -1.325275   \n",
       "\n",
       "  O&M costs (BUSD) Salvage value (BUSD)  \n",
       "0         0.000551             0.011351  \n",
       "1        -0.013875              0.01999  \n",
       "2         0.003561             0.034198  \n",
       "3         0.007964             0.004355  \n",
       "4        -0.001798             0.069893  "
      ]
     },
     "execution_count": 131,
     "metadata": {},
     "output_type": "execute_result"
    }
   ],
   "source": [
    "country.summary()"
   ]
  },
  {
   "cell_type": "markdown",
   "id": "b2d739d6",
   "metadata": {},
   "source": [
    "## 3.3. Saving the results\n",
    "\n",
    "Saves the full results as .pkl-file. It is important to change the name each time you run a scenario to avoid overwriting your old results."
   ]
  },
  {
   "cell_type": "code",
   "execution_count": 174,
   "id": "79ca050e",
   "metadata": {},
   "outputs": [],
   "source": [
    "country.to_pickle(\"results.pkl\")"
   ]
  },
  {
   "cell_type": "markdown",
   "id": "e743e657-2088-45b5-b5ff-ee9329665225",
   "metadata": {},
   "source": [
    "[Go back to the top](#OnStove-notebook)"
   ]
  },
  {
   "cell_type": "markdown",
   "id": "43af891e",
   "metadata": {},
   "source": [
    "# 4. Visualization\n",
    "\n",
    "The section below gives an indication of what can be visualized using the OnStove results. Note that the actual result files include more information that can also be visualized and extracted for later use. "
   ]
  },
  {
   "cell_type": "markdown",
   "id": "f75fa888",
   "metadata": {},
   "source": [
    "## 4.1. Reading the results\n",
    "\n",
    "First we read in the results produced in [step 3](#3.-Model-run)."
   ]
  },
  {
   "cell_type": "code",
   "execution_count": 4,
   "id": "a068d59c",
   "metadata": {},
   "outputs": [],
   "source": [
    "results = OnStove.read_model(f\"{output_directory}/results.pkl\")"
   ]
  },
  {
   "cell_type": "code",
   "execution_count": 5,
   "id": "1866927d-6f33-4364-8b1d-85225ff1db8a",
   "metadata": {},
   "outputs": [
    {
     "data": {
      "text/plain": [
       "array([[0.30395841, 0.30758883, 0.3112626 , ..., 0.32254931, 0.32640177,\n",
       "        0.33030024],\n",
       "       [0.30395841, 0.30758883, 0.3112626 , ..., 0.32254931, 0.32640177,\n",
       "        0.33030024],\n",
       "       [0.30395841, 0.30758883, 0.3112626 , ..., 0.32254931, 0.32640177,\n",
       "        0.33030024],\n",
       "       ...,\n",
       "       [0.30395841, 0.30758883, 0.3112626 , ..., 0.32254931, 0.32640177,\n",
       "        0.33030024],\n",
       "       [0.30395841, 0.30758883, 0.3112626 , ..., 0.32254931, 0.32640177,\n",
       "        0.33030024],\n",
       "       [0.30395841, 0.30758883, 0.3112626 , ..., 0.32254931, 0.32640177,\n",
       "        0.33030024]])"
      ]
     },
     "execution_count": 5,
     "metadata": {},
     "output_type": "execute_result"
    }
   ],
   "source": [
    "results.base_fuel.cases"
   ]
  },
  {
   "cell_type": "code",
   "execution_count": null,
   "id": "1a5dc199-cd5d-40c6-a264-a6d1cd7c0888",
   "metadata": {},
   "outputs": [],
   "source": []
  },
  {
   "cell_type": "code",
   "execution_count": null,
   "id": "28ab40ef-30f0-4aa2-8711-41726c7ea82e",
   "metadata": {},
   "outputs": [],
   "source": []
  },
  {
   "cell_type": "code",
   "execution_count": null,
   "id": "fa6077b8-62e5-4e63-8479-eadcdee1b44f",
   "metadata": {},
   "outputs": [],
   "source": []
  },
  {
   "cell_type": "code",
   "execution_count": null,
   "id": "e25ac6d4-88dc-49ae-ace9-5b63f8d0fcb1",
   "metadata": {},
   "outputs": [],
   "source": []
  },
  {
   "cell_type": "code",
   "execution_count": null,
   "id": "7d599d14-e408-4349-9c9a-ff94aa88a9d8",
   "metadata": {},
   "outputs": [],
   "source": []
  },
  {
   "cell_type": "code",
   "execution_count": null,
   "id": "b2cab3f2-9665-4edb-aca6-679170f351fb",
   "metadata": {},
   "outputs": [],
   "source": []
  },
  {
   "cell_type": "code",
   "execution_count": null,
   "id": "6b8a5cd8-b3bc-46db-bf16-0a0b9c61df84",
   "metadata": {},
   "outputs": [],
   "source": []
  },
  {
   "cell_type": "code",
   "execution_count": null,
   "id": "e38e4629-6ff2-44cf-85c8-6b882961a07d",
   "metadata": {},
   "outputs": [],
   "source": []
  },
  {
   "cell_type": "code",
   "execution_count": null,
   "id": "dca8ac8e-10d5-45cc-980e-f9c23da9020f",
   "metadata": {},
   "outputs": [],
   "source": []
  },
  {
   "cell_type": "code",
   "execution_count": 11,
   "id": "d5cb8d79-c7f8-497e-b15b-4eeda43f0ee7",
   "metadata": {},
   "outputs": [],
   "source": [
    "one = results.gdf.loc[results.gdf[\"year\"]==2021]\n",
    "eight = results.gdf.loc[results.gdf[\"year\"]==2028]\n",
    "four = results.gdf.loc[results.gdf[\"year\"]==2024]"
   ]
  },
  {
   "cell_type": "code",
   "execution_count": 21,
   "id": "68a8a2a7-b4da-4b29-a1d6-5062f5bf7cf8",
   "metadata": {},
   "outputs": [],
   "source": [
    "random_index_one = one.sample().index[0]\n",
    "random_index_eight = eight.sample().index[0]\n",
    "random_index_four = four.sample().index[0]"
   ]
  },
  {
   "cell_type": "code",
   "execution_count": 22,
   "id": "888b1530-fc94-44e7-9469-1931ed24f028",
   "metadata": {},
   "outputs": [
    {
     "data": {
      "text/plain": [
       "122850"
      ]
     },
     "execution_count": 22,
     "metadata": {},
     "output_type": "execute_result"
    }
   ],
   "source": [
    "random_index_one"
   ]
  },
  {
   "cell_type": "code",
   "execution_count": 23,
   "id": "14b9fb13-cfc1-4b32-8c43-09492ea6a96a",
   "metadata": {},
   "outputs": [
    {
     "data": {
      "text/plain": [
       "91102"
      ]
     },
     "execution_count": 23,
     "metadata": {},
     "output_type": "execute_result"
    }
   ],
   "source": [
    "random_index_eight"
   ]
  },
  {
   "cell_type": "code",
   "execution_count": 24,
   "id": "e69a6829-9c4b-4a1d-8d7a-bc968c456212",
   "metadata": {},
   "outputs": [
    {
     "data": {
      "text/plain": [
       "157229"
      ]
     },
     "execution_count": 24,
     "metadata": {},
     "output_type": "execute_result"
    }
   ],
   "source": [
    "random_index_four"
   ]
  },
  {
   "cell_type": "code",
   "execution_count": 80,
   "id": "968d4c0f-6340-4096-88ea-30f49f4b4d2b",
   "metadata": {},
   "outputs": [
    {
     "name": "stdout",
     "output_type": "stream",
     "text": [
      "17221.021484375\n",
      "3587.712809244792\n",
      "74.34740447998047\n",
      "12.818518013789737\n",
      "538.2135009765625\n",
      "92.79543120285561\n"
     ]
    }
   ],
   "source": [
    "idxs = [122850, 91102, 157229]\n",
    "\n",
    "for i in idxs:\n",
    "    print(results.gdf[\"pop_init_year\"][i])\n",
    "    print(results.gdf[\"households_init\"][i])"
   ]
  },
  {
   "cell_type": "code",
   "execution_count": 53,
   "id": "9383578b-0dd6-4d3c-9e64-bcc461984681",
   "metadata": {},
   "outputs": [
    {
     "data": {
      "text/plain": [
       "['__class__',\n",
       " '__delattr__',\n",
       " '__dict__',\n",
       " '__dir__',\n",
       " '__doc__',\n",
       " '__eq__',\n",
       " '__format__',\n",
       " '__ge__',\n",
       " '__getattribute__',\n",
       " '__getitem__',\n",
       " '__getstate__',\n",
       " '__gt__',\n",
       " '__hash__',\n",
       " '__init__',\n",
       " '__init_subclass__',\n",
       " '__le__',\n",
       " '__lt__',\n",
       " '__module__',\n",
       " '__ne__',\n",
       " '__new__',\n",
       " '__reduce__',\n",
       " '__reduce_ex__',\n",
       " '__repr__',\n",
       " '__setattr__',\n",
       " '__setitem__',\n",
       " '__sizeof__',\n",
       " '__slotnames__',\n",
       " '__str__',\n",
       " '__subclasshook__',\n",
       " '__weakref__',\n",
       " '_add_admin_names',\n",
       " '_add_statistics',\n",
       " '_base_layer_from_bounds',\n",
       " '_biogas_adjustment',\n",
       " '_calibrate_urban_manual',\n",
       " '_check_scenario_data',\n",
       " '_density',\n",
       " '_ecooking_adjustment',\n",
       " '_electrified_weight',\n",
       " '_empty_raster_from_shape',\n",
       " '_get_column_functs',\n",
       " '_get_layers',\n",
       " '_histogram',\n",
       " '_plot_quantiles',\n",
       " '_points_to_raster',\n",
       " '_pop_tech',\n",
       " '_re_name',\n",
       " '_reindex_df',\n",
       " '_replace_dict',\n",
       " '_save_layers',\n",
       " '_techshare_allocation',\n",
       " '_techshare_sumtoone',\n",
       " 'add_layer',\n",
       " 'add_mask_layer',\n",
       " 'align_layers',\n",
       " 'base_fuel',\n",
       " 'base_layer',\n",
       " 'calibrate_current_pop',\n",
       " 'calibrate_future_pop',\n",
       " 'calibrate_urban_rural_split',\n",
       " 'cell_size',\n",
       " 'clean_cooking_access',\n",
       " 'clean_cooking_access_r',\n",
       " 'clean_cooking_access_u',\n",
       " 'cols',\n",
       " 'conn',\n",
       " 'create_layer',\n",
       " 'deaths_avoided_2021',\n",
       " 'deaths_avoided_2022',\n",
       " 'deaths_avoided_2023',\n",
       " 'deaths_avoided_2024',\n",
       " 'deaths_avoided_2025',\n",
       " 'deaths_avoided_2026',\n",
       " 'deaths_avoided_2027',\n",
       " 'deaths_avoided_2028',\n",
       " 'discount',\n",
       " 'distance_to_electricity',\n",
       " 'elec_pop',\n",
       " 'electrified_weight',\n",
       " 'emissions_costs_avoided_2021',\n",
       " 'emissions_costs_avoided_2022',\n",
       " 'emissions_costs_avoided_2023',\n",
       " 'emissions_costs_avoided_2024',\n",
       " 'emissions_costs_avoided_2025',\n",
       " 'emissions_costs_avoided_2026',\n",
       " 'emissions_costs_avoided_2027',\n",
       " 'emissions_costs_avoided_2028',\n",
       " 'energy_per_meal',\n",
       " 'extract_emissions_costs_saved',\n",
       " 'extract_fuel_costs',\n",
       " 'extract_health_costs_saved',\n",
       " 'extract_investment_costs',\n",
       " 'extract_lives_saved',\n",
       " 'extract_om_costs',\n",
       " 'extract_opportunity_cost',\n",
       " 'extract_reduced_emissions',\n",
       " 'extract_salvage',\n",
       " 'extract_time_saved',\n",
       " 'extract_wealth_index',\n",
       " 'final_elec',\n",
       " 'fuel_costs_2021',\n",
       " 'fuel_costs_2022',\n",
       " 'fuel_costs_2023',\n",
       " 'fuel_costs_2024',\n",
       " 'fuel_costs_2025',\n",
       " 'fuel_costs_2026',\n",
       " 'fuel_costs_2027',\n",
       " 'fuel_costs_2028',\n",
       " 'gdf',\n",
       " 'get_clean_cooking_access',\n",
       " 'get_distance_rasters',\n",
       " 'get_value_of_time',\n",
       " 'gwp',\n",
       " 'health_costs_avoided_2021',\n",
       " 'health_costs_avoided_2022',\n",
       " 'health_costs_avoided_2023',\n",
       " 'health_costs_avoided_2024',\n",
       " 'health_costs_avoided_2025',\n",
       " 'health_costs_avoided_2026',\n",
       " 'health_costs_avoided_2027',\n",
       " 'health_costs_avoided_2028',\n",
       " 'houses',\n",
       " 'i',\n",
       " 'investment_costs_2021',\n",
       " 'investment_costs_2022',\n",
       " 'investment_costs_2023',\n",
       " 'investment_costs_2024',\n",
       " 'investment_costs_2025',\n",
       " 'investment_costs_2026',\n",
       " 'investment_costs_2027',\n",
       " 'investment_costs_2028',\n",
       " 'layers',\n",
       " 'mask_layer',\n",
       " 'mask_layers',\n",
       " 'max_benefit_tech_2021',\n",
       " 'max_benefit_tech_2022',\n",
       " 'max_benefit_tech_2023',\n",
       " 'max_benefit_tech_2024',\n",
       " 'max_benefit_tech_2025',\n",
       " 'max_benefit_tech_2026',\n",
       " 'max_benefit_tech_2027',\n",
       " 'max_benefit_tech_2028',\n",
       " 'maximum_net_benefit',\n",
       " 'normalize',\n",
       " 'normalize_rasters',\n",
       " 'om_costs_2021',\n",
       " 'om_costs_2022',\n",
       " 'om_costs_2023',\n",
       " 'om_costs_2024',\n",
       " 'om_costs_2025',\n",
       " 'om_costs_2026',\n",
       " 'om_costs_2027',\n",
       " 'om_costs_2028',\n",
       " 'opportunity_cost_2021',\n",
       " 'opportunity_cost_2022',\n",
       " 'opportunity_cost_2023',\n",
       " 'opportunity_cost_2024',\n",
       " 'opportunity_cost_2025',\n",
       " 'opportunity_cost_2026',\n",
       " 'opportunity_cost_2027',\n",
       " 'opportunity_cost_2028',\n",
       " 'output_directory',\n",
       " 'plot',\n",
       " 'plot_costs_benefits',\n",
       " 'plot_distribution',\n",
       " 'plot_split',\n",
       " 'population_to_dataframe',\n",
       " 'progression',\n",
       " 'project_crs',\n",
       " 'raster_to_dataframe',\n",
       " 'read_model',\n",
       " 'read_scenario_data',\n",
       " 'read_tech_data',\n",
       " 'reduced_emissions_2021',\n",
       " 'reduced_emissions_2022',\n",
       " 'reduced_emissions_2023',\n",
       " 'reduced_emissions_2024',\n",
       " 'reduced_emissions_2025',\n",
       " 'reduced_emissions_2026',\n",
       " 'reduced_emissions_2027',\n",
       " 'reduced_emissions_2028',\n",
       " 'reproject_layers',\n",
       " 'rows',\n",
       " 'run',\n",
       " 'salvage_cost_2021',\n",
       " 'salvage_cost_2022',\n",
       " 'salvage_cost_2023',\n",
       " 'salvage_cost_2024',\n",
       " 'salvage_cost_2025',\n",
       " 'salvage_cost_2026',\n",
       " 'salvage_cost_2027',\n",
       " 'salvage_cost_2028',\n",
       " 'save_datasets',\n",
       " 'set_base_fuel',\n",
       " 'set_postgres',\n",
       " 'sfu',\n",
       " 'specs',\n",
       " 'summary',\n",
       " 'tech_separator',\n",
       " 'techs',\n",
       " 'time_saved_2021',\n",
       " 'time_saved_2022',\n",
       " 'time_saved_2023',\n",
       " 'time_saved_2024',\n",
       " 'time_saved_2025',\n",
       " 'time_saved_2026',\n",
       " 'time_saved_2027',\n",
       " 'time_saved_2028',\n",
       " 'to_csv',\n",
       " 'to_image',\n",
       " 'to_pickle',\n",
       " 'to_raster',\n",
       " 'year',\n",
       " 'yearly_pop',\n",
       " 'years']"
      ]
     },
     "execution_count": 53,
     "metadata": {},
     "output_type": "execute_result"
    }
   ],
   "source": []
  },
  {
   "cell_type": "code",
   "execution_count": null,
   "id": "6b8b9b7b-dd13-4ed8-871b-4cef946c36e3",
   "metadata": {},
   "outputs": [],
   "source": []
  },
  {
   "cell_type": "code",
   "execution_count": null,
   "id": "a6834d48-d36f-477f-87fe-a67cb16666a1",
   "metadata": {},
   "outputs": [],
   "source": []
  },
  {
   "cell_type": "code",
   "execution_count": null,
   "id": "48cd93dd-c5ab-44fb-a374-09693357d7bc",
   "metadata": {},
   "outputs": [],
   "source": []
  },
  {
   "cell_type": "code",
   "execution_count": null,
   "id": "5f745d72-0306-4d95-ae8e-06d4a9f40d1b",
   "metadata": {},
   "outputs": [],
   "source": []
  },
  {
   "cell_type": "code",
   "execution_count": 40,
   "id": "13452462-3c11-43c4-a41d-e1c3e3bb3c5b",
   "metadata": {},
   "outputs": [],
   "source": [
    "names = [\"Charcoal ICS\", \"Biomass improved firewood stoves\", \n",
    "        \"Biomass Three stone open fire\", \"Electricity rice cooker\",\n",
    "        \"LPG\",\"Metallic charcoal stoves\", \"Electricity pressure cooker\",\n",
    "        \"Electricity\", \"Biogas\"]"
   ]
  },
  {
   "cell_type": "code",
   "execution_count": null,
   "id": "ad9423ee-2441-415e-97ba-bd15b6a7c21c",
   "metadata": {},
   "outputs": [],
   "source": [
    "rr_alri, rr_copd, rr_ihd, rr_lc, rr_stroke"
   ]
  },
  {
   "cell_type": "code",
   "execution_count": 85,
   "id": "53156f33-ab49-4a66-8c0f-47d7c1fd1221",
   "metadata": {},
   "outputs": [
    {
     "name": "stdout",
     "output_type": "stream",
     "text": [
      "Charcoal ICS\n",
      "2.705794649108814 1.6289456788466175 1.6028262349863285 1.9898636259860085 2.3091454001486396\n",
      "Biomass improved firewood stoves\n",
      "3.328816774871722 2.178568862802445 1.8303722015611181 2.989973027087003 2.3139999832047664\n",
      "Biomass Three stone open fire\n",
      "3.372640740690886 2.446400138579678 1.9132979438221385 3.5031034488401804 2.313999999996934\n",
      "Electricity rice cooker\n",
      "1 1 1 1 1\n",
      "LPG\n",
      "1.3736124038523267 1.1983935494085711 1.3091783051858492 1.2774195016533403 1.6348220474538735\n",
      "Metallic charcoal stoves\n",
      "3.022913306142031 1.7939319903049529 1.6819110035203662 2.2815846468830725 2.3137705390601777\n",
      "Electricity pressure cooker\n",
      "1 1 1 1 1\n",
      "Electricity\n",
      "1 1 1 1 1\n",
      "Biogas\n",
      "1.3736124038523267 1.1983935494085711 1.3091783051858492 1.2774195016533403 1.6348220474538735\n"
     ]
    }
   ],
   "source": [
    "for tech in names:\n",
    "    results.techs[tech].relative_risk()"
   ]
  },
  {
   "cell_type": "code",
   "execution_count": null,
   "id": "13e34b86-d2c5-47fe-aa69-66e32c70c5c4",
   "metadata": {},
   "outputs": [],
   "source": []
  },
  {
   "cell_type": "code",
   "execution_count": null,
   "id": "2b9462ea-accc-4562-a319-c3d556e9bb0a",
   "metadata": {},
   "outputs": [],
   "source": []
  },
  {
   "cell_type": "code",
   "execution_count": 38,
   "id": "ea77d48d-b299-47d6-8796-d03d359666e4",
   "metadata": {},
   "outputs": [
    {
     "data": {
      "text/plain": [
       "geometry                   POINT (3950297.5362832975 -87312.82616245048)\n",
       "Pop                                                           591.841887\n",
       "IsUrban                                                             13.0\n",
       "pop_init_year                                                 538.213501\n",
       "households_init                                                92.795431\n",
       "                                               ...                      \n",
       "emissions_costs_avoided                                     41090.931619\n",
       "investment_costs                                             3130.136684\n",
       "fuel_costs                                                  47350.305565\n",
       "om_costs                                                      662.697236\n",
       "salvage_cost                                                  549.595811\n",
       "Name: 157229, Length: 66, dtype: object"
      ]
     },
     "execution_count": 38,
     "metadata": {},
     "output_type": "execute_result"
    }
   ],
   "source": [
    "results.gdf.loc[157229]"
   ]
  },
  {
   "cell_type": "code",
   "execution_count": null,
   "id": "89604863-6f39-478c-aee4-59b1a0b236dd",
   "metadata": {},
   "outputs": [],
   "source": []
  },
  {
   "cell_type": "code",
   "execution_count": null,
   "id": "45b47ef4-6980-4e1d-a9c3-f6185e22f405",
   "metadata": {},
   "outputs": [],
   "source": []
  },
  {
   "cell_type": "code",
   "execution_count": null,
   "id": "d660f0a1-d91d-42bc-b930-6840cdd41ef1",
   "metadata": {},
   "outputs": [],
   "source": []
  },
  {
   "cell_type": "code",
   "execution_count": null,
   "id": "db66a889-56ac-46db-a5c4-2db1c186bf34",
   "metadata": {},
   "outputs": [],
   "source": []
  },
  {
   "cell_type": "code",
   "execution_count": null,
   "id": "492d2c00-d763-4f6d-83d9-bad5ac63300d",
   "metadata": {},
   "outputs": [],
   "source": []
  },
  {
   "cell_type": "markdown",
   "id": "5174e431",
   "metadata": {},
   "source": [
    "## 4.2. Add a country mask layer\n",
    "\n",
    "We read the administrative boundaries polygon. This will be used as a backdrop for the maps. "
   ]
  },
  {
   "cell_type": "code",
   "execution_count": 176,
   "id": "8b1ed161",
   "metadata": {},
   "outputs": [],
   "source": [
    "path = os.path.join(output_directory,'Administrative','Country_boundaries', 'Country_boundaries.geojson')\n",
    "mask_layer = VectorLayer('admin', 'adm_0', path=path)\n",
    "results.mask_layer = mask_layer"
   ]
  },
  {
   "cell_type": "markdown",
   "id": "8385e3ad",
   "metadata": {},
   "source": [
    "## 4.3. Setting the color palette and label names\n",
    "\n",
    "Setting the color palette for visualization of the maps and graphs. These are dictionaries containing all the stoves included in the analysis and their html-coded colors."
   ]
  },
  {
   "cell_type": "code",
   "execution_count": 177,
   "id": "ec54827b-8c44-4e80-a899-eed6fdf0c82c",
   "metadata": {},
   "outputs": [],
   "source": [
    "cmap = {\"Electricity pressure cooker\": '#6F4070', \"LPG\": '#66C5CC', \"Biomass improved firewood stoves\": '#FFB6C1',\n",
    "        \"Biomass Three stone open fire\": '#af04b3', \"Electricity rice cooker\": '#ef02f5',\n",
    "        \"Metallic charcoal stoves\": '#364135', \"Charcoal ICS\": '#d4bdc5',\n",
    "        \"Biogas\": '#73AF48', \"Biogas and Biomass ICS (ND)\": \"#F6029E\",\n",
    "        \"Biogas and Biomass ICS (FD)\": \"#F6029E\",\n",
    "        \"Biogas and Pellets ICS (FD)\": \"#F6029E\",\n",
    "        \"Biogas and LPG\": \"#0F8554\", \"Biogas and Biomass\": \"#266AA6\",\n",
    "        \"Biogas and Charcoal\": \"#3B05DF\",\n",
    "        \"Biogas and Charcoal ICS\": \"#3B59DF\",\n",
    "        \"Electricity\": '#CC503E', \"Electricity pressure cooker and Biogas\": \"#B497E7\",\n",
    "        \"Electricity rice cooker and Electricity pressure cooker\": \"#B497E7\",\n",
    "        \"Biogas and Electricity pressure cooker\": \"#B497E7\",\n",
    "        \"Electricity pressure cooker and LPG\": \"#E17C05\", \"Electricity pressure cooker and Electricity rice cooker\": \"#FFC107\",\n",
    "        \"Electricity and Charcoal ICS\": \"#660000\",\n",
    "        \"Electricity and Biogas\": \"#f97b72\",\n",
    "        \"Electricity and Charcoal\": \"#FF0000\"}\n",
    "\n",
    "labels = {\"Biogas and Electricity\": \"Electricity and Biogas\",\n",
    "          'Collected Traditional Biomass': 'Biomass',\n",
    "          'Collected Improved Biomass': 'Biomass ICS (ND)',\n",
    "          'Traditional Charcoal': 'Charcoal',\n",
    "          'Biomass Forced Draft': 'Biomass ICS (FD)',\n",
    "          'Pellets Forced Draft': 'Pellets ICS (FD)'}"
   ]
  },
  {
   "cell_type": "code",
   "execution_count": 102,
   "id": "2d2e806d",
   "metadata": {},
   "outputs": [],
   "source": [
    "cmap = {\"Biomass ICS (ND)\": '#6F4070', \"LPG\": '#66C5CC', \"Biomass\": '#FFB6C1',\n",
    "        \"Biomass ICS (FD)\": '#af04b3', \"Pellets ICS (FD)\": '#ef02f5',\n",
    "        \"Charcoal\": '#364135', \"Charcoal ICS\": '#d4bdc5',\n",
    "        \"Biogas\": '#73AF48', \"Biogas and Biomass ICS (ND)\": \"#F6029E\",\n",
    "        \"Biogas and Biomass ICS (FD)\": \"#F6029E\",\n",
    "        \"Biogas and Pellets ICS (FD)\": \"#F6029E\",\n",
    "        \"Biogas and LPG\": \"#0F8554\", \"Biogas and Biomass\": \"#266AA6\",\n",
    "        \"Biogas and Charcoal\": \"#3B05DF\",\n",
    "        \"Biogas and Charcoal ICS\": \"#3B59DF\",\n",
    "        \"Electricity\": '#CC503E', \"Electricity and Biomass ICS (ND)\": \"#B497E7\",\n",
    "        \"Electricity and Biomass ICS (FD)\": \"#B497E7\",\n",
    "        \"Electricity and Pellets ICS (FD)\": \"#B497E7\",\n",
    "        \"Electricity and LPG\": \"#E17C05\", \"Electricity and Biomass\": \"#FFC107\",\n",
    "        \"Electricity and Charcoal ICS\": \"#660000\",\n",
    "        \"Electricity and Biogas\": \"#f97b72\",\n",
    "        \"Electricity and Charcoal\": \"#FF0000\"}\n",
    "\n",
    "labels = {\"Biogas and Electricity\": \"Electricity and Biogas\",\n",
    "          'Collected Traditional Biomass': 'Biomass',\n",
    "          'Collected Improved Biomass': 'Biomass ICS (ND)',\n",
    "          'Traditional Charcoal': 'Charcoal',\n",
    "          'Biomass Forced Draft': 'Biomass ICS (FD)',\n",
    "          'Pellets Forced Draft': 'Pellets ICS (FD)'}"
   ]
  },
  {
   "cell_type": "markdown",
   "id": "8fe22ae8",
   "metadata": {},
   "source": [
    "## 4.4. Printing map with stoves with highest net-benefit in each settlement\n",
    "\n",
    "Visualize maps of the stoves with the highest net-benefits together with some important summary results. \n",
    "\n",
    "Find out more about this function in the [documentation](https://onstove-documentation.readthedocs.io/en/latest/generated/onstove.OnStove.plot.html).\n"
   ]
  },
  {
   "cell_type": "code",
   "execution_count": 178,
   "id": "6758e8d8",
   "metadata": {},
   "outputs": [
    {
     "data": {
      "text/plain": [
       "<Axes: title={'left': 'Maximum net-benefit cooking technology'}>"
      ]
     },
     "execution_count": 178,
     "metadata": {},
     "output_type": "execute_result"
    },
    {
     "data": {
      "image/png": "[encoded data removed]",
      "text/plain": [
       "<Figure size 500x500 with 1 Axes>"
      ]
     },
     "metadata": {},
     "output_type": "display_data"
    }
   ],
   "source": [
    "results.plot('max_benefit_tech', cmap=cmap, \n",
    "             title=f'Maximum net-benefit cooking technology', \n",
    "             figsize=(5, 5), \n",
    "             labels=labels, legend=True, legend_title='Maximum benefit\\ncooking technology', \n",
    "             legend_position=(0.4, 0.6),\n",
    "             legend_prop={'title': {'size': 10, 'weight': 'bold'}, 'size': 9},\n",
    "             rasterized=True, stats=False, \n",
    "             dpi=300, \n",
    "             save_as='map.png'\n",
    "            )"
   ]
  },
  {
   "cell_type": "markdown",
   "id": "4b5ee671",
   "metadata": {},
   "source": [
    "## 4.5. Printing population split in the study area\n",
    "\n",
    "Prints the population split describing the percentage of population cooking with different stoves.\n",
    "\n",
    "Find out more about this function in the [documentation](https://onstove-documentation.readthedocs.io/en/latest/generated/onstove.OnStove.plot_split.html)."
   ]
  },
  {
   "cell_type": "code",
   "execution_count": 179,
   "id": "57ce1806",
   "metadata": {},
   "outputs": [
    {
     "data": {
      "image/png": "[encoded data removed]",
      "text/plain": [
       "<Figure size 640x480 with 1 Axes>"
      ]
     },
     "metadata": {
      "image/png": {
       "height": 480,
       "width": 640
      },
      "needs_background": "light"
     },
     "output_type": "display_data"
    },
    {
     "data": {
      "text/plain": [
       "<Figure Size: (640 x 480)>"
      ]
     },
     "execution_count": 179,
     "metadata": {},
     "output_type": "execute_result"
    }
   ],
   "source": [
    "results.plot_split(cmap=cmap, labels=labels, year = 2028)"
   ]
  },
  {
   "cell_type": "markdown",
   "id": "62e5d116",
   "metadata": {},
   "source": [
    "## 4.6. Printing the costs and benefits for each stove category selected\n",
    "\n",
    "Prints the costs and benefits of each stove type.\n",
    "\n",
    "Find out more about this function in the [documentation](https://onstove-documentation.readthedocs.io/en/latest/generated/onstove.OnStove.plot_costs_benefits.html)."
   ]
  },
  {
   "cell_type": "code",
   "execution_count": 127,
   "id": "9e58c0aa",
   "metadata": {},
   "outputs": [
    {
     "data": {
      "image/png": "[encoded data removed]",
      "text/plain": [
       "<Figure size 640x480 with 1 Axes>"
      ]
     },
     "metadata": {
      "image/png": {
       "height": 480,
       "width": 640
      },
      "needs_background": "light"
     },
     "output_type": "display_data"
    },
    {
     "data": {
      "text/plain": [
       "<Figure Size: (640 x 480)>"
      ]
     },
     "execution_count": 127,
     "metadata": {},
     "output_type": "execute_result"
    }
   ],
   "source": [
    "results.plot_costs_benefits(labels=labels, height=1.5, width=3)"
   ]
  },
  {
   "cell_type": "markdown",
   "id": "6a0f8865",
   "metadata": {},
   "source": [
    "## 4.7. Printing stove shares in relation to wealth\n",
    "\n",
    "Prints the range of net-benefit for each stove included in the results.\n",
    "\n",
    "Find out more about this function in the [documentation](https://onstove-documentation.readthedocs.io/en/latest/generated/onstove.OnStove.plot_benefit_distribution.html)."
   ]
  },
  {
   "cell_type": "code",
   "execution_count": 132,
   "id": "e9747a92",
   "metadata": {},
   "outputs": [
    {
     "ename": "KeyError",
     "evalue": "\"['opportunity_cost_gained', 'emissions_costs_saved', 'salvage_value'] not in index\"",
     "output_type": "error",
     "traceback": [
      "\u001b[1;31m---------------------------------------------------------------------------\u001b[0m",
      "\u001b[1;31mKeyError\u001b[0m                                  Traceback (most recent call last)",
      "Cell \u001b[1;32mIn[132], line 1\u001b[0m\n\u001b[1;32m----> 1\u001b[0m \u001b[43mresults\u001b[49m\u001b[38;5;241;43m.\u001b[39;49m\u001b[43mplot_distribution\u001b[49m\u001b[43m(\u001b[49m\u001b[38;5;28;43mtype\u001b[39;49m\u001b[38;5;241;43m=\u001b[39;49m\u001b[38;5;124;43m'\u001b[39;49m\u001b[38;5;124;43mhistogram\u001b[39;49m\u001b[38;5;124;43m'\u001b[39;49m\u001b[43m,\u001b[49m\u001b[43m \u001b[49m\u001b[43mgroupby\u001b[49m\u001b[38;5;241;43m=\u001b[39;49m\u001b[38;5;124;43m'\u001b[39;49m\u001b[38;5;124;43mNone\u001b[39;49m\u001b[38;5;124;43m'\u001b[39;49m\u001b[43m,\u001b[49m\u001b[43m \u001b[49m\u001b[43mcmap\u001b[49m\u001b[38;5;241;43m=\u001b[39;49m\u001b[43mcmap\u001b[49m\u001b[43m,\u001b[49m\u001b[43m \u001b[49m\u001b[43mlabels\u001b[49m\u001b[38;5;241;43m=\u001b[39;49m\u001b[43mlabels\u001b[49m\u001b[43m,\u001b[49m\u001b[43m \u001b[49m\n\u001b[0;32m      2\u001b[0m \u001b[43m                          \u001b[49m\u001b[43mhh_divider\u001b[49m\u001b[38;5;241;43m=\u001b[39;49m\u001b[38;5;241;43m1000\u001b[39;49m\u001b[43m,\u001b[49m\u001b[43m \u001b[49m\u001b[43my_title\u001b[49m\u001b[38;5;241;43m=\u001b[39;49m\u001b[38;5;124;43m'\u001b[39;49m\u001b[38;5;124;43mHouseholds (k)\u001b[39;49m\u001b[38;5;124;43m'\u001b[39;49m\u001b[43m,\u001b[49m\n\u001b[0;32m      3\u001b[0m \u001b[43m                          \u001b[49m\u001b[43mquantiles\u001b[49m\u001b[38;5;241;43m=\u001b[39;49m\u001b[38;5;28;43;01mTrue\u001b[39;49;00m\u001b[43m,\u001b[49m\n\u001b[0;32m      4\u001b[0m \u001b[43m                          \u001b[49m\u001b[43mheight\u001b[49m\u001b[38;5;241;43m=\u001b[39;49m\u001b[38;5;241;43m1.5\u001b[39;49m\u001b[43m,\u001b[49m\u001b[43m \u001b[49m\u001b[43mwidth\u001b[49m\u001b[38;5;241;43m=\u001b[39;49m\u001b[38;5;241;43m3.5\u001b[39;49m\u001b[43m,\u001b[49m\u001b[43m \u001b[49m\u001b[43mdpi\u001b[49m\u001b[38;5;241;43m=\u001b[39;49m\u001b[38;5;241;43m300\u001b[39;49m\u001b[43m,\u001b[49m\u001b[43m \u001b[49m\u001b[43msave_as\u001b[49m\u001b[38;5;241;43m=\u001b[39;49m\u001b[38;5;124;43m'\u001b[39;49m\u001b[38;5;124;43mdist.png\u001b[39;49m\u001b[38;5;124;43m'\u001b[39;49m\u001b[43m)\u001b[49m\n",
      "File \u001b[1;32m~\\OneDrive - KTH\\onstove\\example\\..\\onstove\\model.py:4313\u001b[0m, in \u001b[0;36mOnStove.plot_distribution\u001b[1;34m(self, type, fill, groupby, variable, best_mix, hh_divider, var_divider, labels, cmap, x_title, y_title, groupby_kwargs, quantiles, kwargs, font_args, theme_name, height, width, save_as, dpi)\u001b[0m\n\u001b[0;32m   4310\u001b[0m     df\u001b[38;5;241m.\u001b[39mreset_index(inplace\u001b[38;5;241m=\u001b[39m\u001b[38;5;28;01mTrue\u001b[39;00m)\n\u001b[0;32m   4312\u001b[0m \u001b[38;5;28;01mif\u001b[39;00m best_mix:\n\u001b[1;32m-> 4313\u001b[0m     df \u001b[38;5;241m=\u001b[39m \u001b[38;5;28;43mself\u001b[39;49m\u001b[38;5;241;43m.\u001b[39;49m\u001b[43mgdf\u001b[49m\u001b[43m[\u001b[49m\u001b[43m[\u001b[49m\u001b[43mfill\u001b[49m\u001b[43m,\u001b[49m\u001b[43m \u001b[49m\u001b[38;5;124;43m'\u001b[39;49m\u001b[38;5;124;43mPop\u001b[39;49m\u001b[38;5;124;43m'\u001b[39;49m\u001b[43m,\u001b[49m\u001b[43m \u001b[49m\u001b[38;5;124;43m'\u001b[39;49m\u001b[38;5;124;43mHouseholds\u001b[39;49m\u001b[38;5;124;43m'\u001b[39;49m\u001b[43m,\u001b[49m\u001b[43m \u001b[49m\u001b[38;5;124;43m'\u001b[39;49m\u001b[38;5;124;43mmaximum_net_benefit\u001b[39;49m\u001b[38;5;124;43m'\u001b[39;49m\u001b[43m,\u001b[49m\n\u001b[0;32m   4314\u001b[0m \u001b[43m                   \u001b[49m\u001b[38;5;124;43m'\u001b[39;49m\u001b[38;5;124;43mhealth_costs_avoided\u001b[39;49m\u001b[38;5;124;43m'\u001b[39;49m\u001b[43m,\u001b[49m\u001b[43m \u001b[49m\u001b[38;5;124;43m'\u001b[39;49m\u001b[38;5;124;43mopportunity_cost_gained\u001b[39;49m\u001b[38;5;124;43m'\u001b[39;49m\u001b[43m,\u001b[49m\u001b[43m \u001b[49m\u001b[38;5;124;43m'\u001b[39;49m\u001b[38;5;124;43memissions_costs_saved\u001b[39;49m\u001b[38;5;124;43m'\u001b[39;49m\u001b[43m,\u001b[49m\n\u001b[0;32m   4315\u001b[0m \u001b[43m                   \u001b[49m\u001b[38;5;124;43m'\u001b[39;49m\u001b[38;5;124;43minvestment_costs\u001b[39;49m\u001b[38;5;124;43m'\u001b[39;49m\u001b[43m,\u001b[49m\u001b[43m \u001b[49m\u001b[38;5;124;43m'\u001b[39;49m\u001b[38;5;124;43msalvage_value\u001b[39;49m\u001b[38;5;124;43m'\u001b[39;49m\u001b[43m,\u001b[49m\u001b[43m \u001b[49m\u001b[38;5;124;43m'\u001b[39;49m\u001b[38;5;124;43mfuel_costs\u001b[39;49m\u001b[38;5;124;43m'\u001b[39;49m\u001b[43m,\u001b[49m\u001b[43m \u001b[49m\u001b[38;5;124;43m'\u001b[39;49m\u001b[38;5;124;43mom_costs\u001b[39;49m\u001b[38;5;124;43m'\u001b[39;49m\u001b[43m,\u001b[49m\u001b[43m \u001b[49m\u001b[38;5;124;43m'\u001b[39;49m\u001b[38;5;124;43mrelative_wealth\u001b[39;49m\u001b[38;5;124;43m'\u001b[39;49m\u001b[43m,\u001b[49m\n\u001b[0;32m   4316\u001b[0m \u001b[43m                   \u001b[49m\u001b[38;5;124;43m'\u001b[39;49m\u001b[38;5;124;43mvalue_of_time\u001b[39;49m\u001b[38;5;124;43m'\u001b[39;49m\u001b[43m]\u001b[49m\u001b[43m]\u001b[49m\u001b[38;5;241m.\u001b[39mcopy()\n\u001b[0;32m   4318\u001b[0m     df \u001b[38;5;241m=\u001b[39m \u001b[38;5;28mself\u001b[39m\u001b[38;5;241m.\u001b[39m_re_name(df, labels, fill)\n\u001b[0;32m   4319\u001b[0m     cat \u001b[38;5;241m=\u001b[39m fill\n",
      "File \u001b[1;32m~\\Anaconda3\\envs\\onstove_dev\\Lib\\site-packages\\geopandas\\geodataframe.py:1475\u001b[0m, in \u001b[0;36mGeoDataFrame.__getitem__\u001b[1;34m(self, key)\u001b[0m\n\u001b[0;32m   1469\u001b[0m \u001b[38;5;28;01mdef\u001b[39;00m \u001b[38;5;21m__getitem__\u001b[39m(\u001b[38;5;28mself\u001b[39m, key):\n\u001b[0;32m   1470\u001b[0m \u001b[38;5;250m    \u001b[39m\u001b[38;5;124;03m\"\"\"\u001b[39;00m\n\u001b[0;32m   1471\u001b[0m \u001b[38;5;124;03m    If the result is a column containing only 'geometry', return a\u001b[39;00m\n\u001b[0;32m   1472\u001b[0m \u001b[38;5;124;03m    GeoSeries. If it's a DataFrame with any columns of GeometryDtype,\u001b[39;00m\n\u001b[0;32m   1473\u001b[0m \u001b[38;5;124;03m    return a GeoDataFrame.\u001b[39;00m\n\u001b[0;32m   1474\u001b[0m \u001b[38;5;124;03m    \"\"\"\u001b[39;00m\n\u001b[1;32m-> 1475\u001b[0m     result \u001b[38;5;241m=\u001b[39m \u001b[38;5;28;43msuper\u001b[39;49m\u001b[43m(\u001b[49m\u001b[43m)\u001b[49m\u001b[38;5;241;43m.\u001b[39;49m\u001b[38;5;21;43m__getitem__\u001b[39;49m\u001b[43m(\u001b[49m\u001b[43mkey\u001b[49m\u001b[43m)\u001b[49m\n\u001b[0;32m   1476\u001b[0m     \u001b[38;5;66;03m# Custom logic to avoid waiting for pandas GH51895\u001b[39;00m\n\u001b[0;32m   1477\u001b[0m     \u001b[38;5;66;03m# result is not geometry dtype for multi-indexes\u001b[39;00m\n\u001b[0;32m   1478\u001b[0m     \u001b[38;5;28;01mif\u001b[39;00m (\n\u001b[0;32m   1479\u001b[0m         pd\u001b[38;5;241m.\u001b[39mapi\u001b[38;5;241m.\u001b[39mtypes\u001b[38;5;241m.\u001b[39mis_scalar(key)\n\u001b[0;32m   1480\u001b[0m         \u001b[38;5;129;01mand\u001b[39;00m key \u001b[38;5;241m==\u001b[39m \u001b[38;5;124m\"\u001b[39m\u001b[38;5;124m\"\u001b[39m\n\u001b[1;32m   (...)\u001b[0m\n\u001b[0;32m   1483\u001b[0m         \u001b[38;5;129;01mand\u001b[39;00m \u001b[38;5;129;01mnot\u001b[39;00m is_geometry_type(result)\n\u001b[0;32m   1484\u001b[0m     ):\n",
      "File \u001b[1;32m~\\Anaconda3\\envs\\onstove_dev\\Lib\\site-packages\\pandas\\core\\frame.py:3767\u001b[0m, in \u001b[0;36mDataFrame.__getitem__\u001b[1;34m(self, key)\u001b[0m\n\u001b[0;32m   3765\u001b[0m     \u001b[38;5;28;01mif\u001b[39;00m is_iterator(key):\n\u001b[0;32m   3766\u001b[0m         key \u001b[38;5;241m=\u001b[39m \u001b[38;5;28mlist\u001b[39m(key)\n\u001b[1;32m-> 3767\u001b[0m     indexer \u001b[38;5;241m=\u001b[39m \u001b[38;5;28;43mself\u001b[39;49m\u001b[38;5;241;43m.\u001b[39;49m\u001b[43mcolumns\u001b[49m\u001b[38;5;241;43m.\u001b[39;49m\u001b[43m_get_indexer_strict\u001b[49m\u001b[43m(\u001b[49m\u001b[43mkey\u001b[49m\u001b[43m,\u001b[49m\u001b[43m \u001b[49m\u001b[38;5;124;43m\"\u001b[39;49m\u001b[38;5;124;43mcolumns\u001b[39;49m\u001b[38;5;124;43m\"\u001b[39;49m\u001b[43m)\u001b[49m[\u001b[38;5;241m1\u001b[39m]\n\u001b[0;32m   3769\u001b[0m \u001b[38;5;66;03m# take() does not accept boolean indexers\u001b[39;00m\n\u001b[0;32m   3770\u001b[0m \u001b[38;5;28;01mif\u001b[39;00m \u001b[38;5;28mgetattr\u001b[39m(indexer, \u001b[38;5;124m\"\u001b[39m\u001b[38;5;124mdtype\u001b[39m\u001b[38;5;124m\"\u001b[39m, \u001b[38;5;28;01mNone\u001b[39;00m) \u001b[38;5;241m==\u001b[39m \u001b[38;5;28mbool\u001b[39m:\n",
      "File \u001b[1;32m~\\Anaconda3\\envs\\onstove_dev\\Lib\\site-packages\\pandas\\core\\indexes\\base.py:5877\u001b[0m, in \u001b[0;36mIndex._get_indexer_strict\u001b[1;34m(self, key, axis_name)\u001b[0m\n\u001b[0;32m   5874\u001b[0m \u001b[38;5;28;01melse\u001b[39;00m:\n\u001b[0;32m   5875\u001b[0m     keyarr, indexer, new_indexer \u001b[38;5;241m=\u001b[39m \u001b[38;5;28mself\u001b[39m\u001b[38;5;241m.\u001b[39m_reindex_non_unique(keyarr)\n\u001b[1;32m-> 5877\u001b[0m \u001b[38;5;28;43mself\u001b[39;49m\u001b[38;5;241;43m.\u001b[39;49m\u001b[43m_raise_if_missing\u001b[49m\u001b[43m(\u001b[49m\u001b[43mkeyarr\u001b[49m\u001b[43m,\u001b[49m\u001b[43m \u001b[49m\u001b[43mindexer\u001b[49m\u001b[43m,\u001b[49m\u001b[43m \u001b[49m\u001b[43maxis_name\u001b[49m\u001b[43m)\u001b[49m\n\u001b[0;32m   5879\u001b[0m keyarr \u001b[38;5;241m=\u001b[39m \u001b[38;5;28mself\u001b[39m\u001b[38;5;241m.\u001b[39mtake(indexer)\n\u001b[0;32m   5880\u001b[0m \u001b[38;5;28;01mif\u001b[39;00m \u001b[38;5;28misinstance\u001b[39m(key, Index):\n\u001b[0;32m   5881\u001b[0m     \u001b[38;5;66;03m# GH 42790 - Preserve name from an Index\u001b[39;00m\n",
      "File \u001b[1;32m~\\Anaconda3\\envs\\onstove_dev\\Lib\\site-packages\\pandas\\core\\indexes\\base.py:5941\u001b[0m, in \u001b[0;36mIndex._raise_if_missing\u001b[1;34m(self, key, indexer, axis_name)\u001b[0m\n\u001b[0;32m   5938\u001b[0m     \u001b[38;5;28;01mraise\u001b[39;00m \u001b[38;5;167;01mKeyError\u001b[39;00m(\u001b[38;5;124mf\u001b[39m\u001b[38;5;124m\"\u001b[39m\u001b[38;5;124mNone of [\u001b[39m\u001b[38;5;132;01m{\u001b[39;00mkey\u001b[38;5;132;01m}\u001b[39;00m\u001b[38;5;124m] are in the [\u001b[39m\u001b[38;5;132;01m{\u001b[39;00maxis_name\u001b[38;5;132;01m}\u001b[39;00m\u001b[38;5;124m]\u001b[39m\u001b[38;5;124m\"\u001b[39m)\n\u001b[0;32m   5940\u001b[0m not_found \u001b[38;5;241m=\u001b[39m \u001b[38;5;28mlist\u001b[39m(ensure_index(key)[missing_mask\u001b[38;5;241m.\u001b[39mnonzero()[\u001b[38;5;241m0\u001b[39m]]\u001b[38;5;241m.\u001b[39munique())\n\u001b[1;32m-> 5941\u001b[0m \u001b[38;5;28;01mraise\u001b[39;00m \u001b[38;5;167;01mKeyError\u001b[39;00m(\u001b[38;5;124mf\u001b[39m\u001b[38;5;124m\"\u001b[39m\u001b[38;5;132;01m{\u001b[39;00mnot_found\u001b[38;5;132;01m}\u001b[39;00m\u001b[38;5;124m not in index\u001b[39m\u001b[38;5;124m\"\u001b[39m)\n",
      "\u001b[1;31mKeyError\u001b[0m: \"['opportunity_cost_gained', 'emissions_costs_saved', 'salvage_value'] not in index\""
     ]
    }
   ],
   "source": [
    "results.plot_distribution(type='histogram', groupby='None', cmap=cmap, labels=labels, \n",
    "                          hh_divider=1000, y_title='Households (k)',\n",
    "                          quantiles=True,\n",
    "                          height=1.5, width=3.5, dpi=300, save_as='dist.png')"
   ]
  },
  {
   "cell_type": "code",
   "execution_count": 131,
   "id": "00b6a091-61ea-44ce-a91c-08ce4a92aa6c",
   "metadata": {},
   "outputs": [
    {
     "data": {
      "text/plain": [
       "Index(['geometry', 'Pop', 'IsUrban', 'pop_init_year', 'households_init',\n",
       "       'pop_end_year', 'households_end', 'relative_wealth', 'MV_lines_dist',\n",
       "       'Night_lights', 'Current_elec', 'Elec_dist', 'Elec_pop_calib',\n",
       "       'Buffaloes', 'Cattles', 'Poultry', 'Goats', 'Pigs', 'Sheeps',\n",
       "       'value_of_time', 'available_biogas', 'Temperature', 'biogas_energy',\n",
       "       'baseline_benefits', 'baseline_costs', 'year', 'Households',\n",
       "       'costs_Charcoal ICS', 'benefits_Charcoal ICS',\n",
       "       'net_benefit_Charcoal ICS', 'costs_Biomass improved firewood stoves',\n",
       "       'benefits_Biomass improved firewood stoves',\n",
       "       'net_benefit_Biomass improved firewood stoves',\n",
       "       'costs_Biomass Three stone open fire',\n",
       "       'benefits_Biomass Three stone open fire',\n",
       "       'net_benefit_Biomass Three stone open fire',\n",
       "       'costs_Electricity rice cooker', 'benefits_Electricity rice cooker',\n",
       "       'net_benefit_Electricity rice cooker', 'costs_LPG', 'benefits_LPG',\n",
       "       'net_benefit_LPG', 'costs_Metallic charcoal stoves',\n",
       "       'benefits_Metallic charcoal stoves',\n",
       "       'net_benefit_Metallic charcoal stoves',\n",
       "       'costs_Electricity pressure cooker',\n",
       "       'benefits_Electricity pressure cooker',\n",
       "       'net_benefit_Electricity pressure cooker', 'costs_Electricity',\n",
       "       'benefits_Electricity', 'net_benefit_Electricity', 'costs_Biogas',\n",
       "       'benefits_Biogas', 'net_benefit_Biogas', 'max_benefit_tech',\n",
       "       'maximum_net_benefit', 'deaths_avoided', 'health_costs_avoided',\n",
       "       'time_saved', 'opportunity_cost', 'reduced_emissions',\n",
       "       'emissions_costs_avoided', 'investment_costs', 'fuel_costs', 'om_costs',\n",
       "       'salvage_cost'],\n",
       "      dtype='object')"
      ]
     },
     "execution_count": 131,
     "metadata": {},
     "output_type": "execute_result"
    }
   ],
   "source": [
    "country.gdf.columns"
   ]
  },
  {
   "cell_type": "markdown",
   "id": "b9c1d77d",
   "metadata": {},
   "source": [
    "## 4.8. Printing the maximum net-benefit across the study area\n",
    "\n",
    "Visualize the maximum net-benefit spatially. \n",
    "\n",
    "Find out more about this function in the [documentation](https://onstove-documentation.readthedocs.io/en/latest/generated/onstove.OnStove.plot.html)."
   ]
  },
  {
   "cell_type": "code",
   "execution_count": null,
   "id": "5b1bd561",
   "metadata": {},
   "outputs": [],
   "source": [
    "results.plot('maximum_net_benefit', cmap='magma', metric='per_household')"
   ]
  },
  {
   "cell_type": "markdown",
   "id": "d5404b10",
   "metadata": {},
   "source": [
    "## 4.9. Printing the total costs across the study area\n",
    "\n",
    "Visualize the total costs spatially.\n",
    "\n",
    "Find out more about this function in the [documentation](https://onstove-documentation.readthedocs.io/en/latest/generated/onstove.OnStove.plot.html)."
   ]
  },
  {
   "cell_type": "code",
   "execution_count": null,
   "id": "7a877598",
   "metadata": {},
   "outputs": [],
   "source": [
    "results.gdf['total_costs'] = results.gdf['investment_costs'] - results.gdf['salvage_value'] + results.gdf['fuel_costs'] + results.gdf['om_costs']\n",
    "results.plot('total_costs', cmap='magma', metric='per_household')"
   ]
  },
  {
   "cell_type": "markdown",
   "id": "d7da1cc3",
   "metadata": {},
   "source": [
    "## 4.10. Saving selected results\n",
    "\n",
    "Saving selected results as rasters.\n",
    "\n",
    "Find out more about this function in the [documentation](https://onstove-documentation.readthedocs.io/en/latest/generated/onstove.OnStove.to_raster.html)."
   ]
  },
  {
   "cell_type": "code",
   "execution_count": null,
   "id": "4574f0d1",
   "metadata": {},
   "outputs": [],
   "source": [
    "results.to_raster('max_benefit_tech', cmap=cmap, labels=labels)\n",
    "results.to_raster('maximum_net_benefit', metric='per_household')\n",
    "results.to_raster('maximum_net_benefit', metric='total')\n",
    "results.to_raster('net_benefit_LPG', metric='per_household')\n",
    "results.to_raster('net_benefit_Biogas', metric='per_household')\n",
    "results.to_raster('net_benefit_Collected_Improved_Biomass', metric='per_household')\n",
    "results.to_raster('total_costs', metric='per_household')\n",
    "results.to_raster('investment_costs', metric='total')\n",
    "results.to_raster('deaths_avoided', metric='per_100k')\n",
    "results.to_raster('time_saved', metric='per_household')\n",
    "results.to_raster('reduced_emissions', metric='total')\n",
    "results.to_raster('health_costs_avoided', metric='total')\n",
    "results.to_raster('Households', metric='sum')"
   ]
  },
  {
   "cell_type": "markdown",
   "id": "9f267f51-4c24-4051-9c8e-855fc0190fa8",
   "metadata": {},
   "source": [
    "[Go back to the top](#OnStove-notebook)"
   ]
  }
 ],
 "metadata": {
  "kernelspec": {
   "display_name": "Python 3 (ipykernel)",
   "language": "python",
   "name": "python3"
  },
  "language_info": {
   "codemirror_mode": {
    "name": "ipython",
    "version": 3
   },
   "file_extension": ".py",
   "mimetype": "text/x-python",
   "name": "python",
   "nbconvert_exporter": "python",
   "pygments_lexer": "ipython3",
   "version": "3.11.4"
  }
 },
 "nbformat": 4,
 "nbformat_minor": 5
}
