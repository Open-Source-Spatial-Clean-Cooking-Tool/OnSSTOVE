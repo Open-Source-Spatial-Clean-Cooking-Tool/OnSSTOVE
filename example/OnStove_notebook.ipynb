{
 "cells": [
  {
   "cell_type": "markdown",
   "id": "f1c43914-a80d-40f4-9fd3-600ee4483a33",
   "metadata": {
    "tags": []
   },
   "source": [
    "# OnStove notebook\n",
    "This is the OnStove notebook. The purpose of the notebook is to give users the ability to run through the analysis with example data and it can therefore act as a complement to the [scientific publication](https://www.nature.com/articles/s41893-022-01039-8) and [read-the-docs documentation](https://onstove-documentation.readthedocs.io/en/latest/index.html).\n",
    "\n",
    "The notebook is divided into 4 major parts: \n",
    "1. [**Data processing**](#1.-Data-processing) - In this part of the analysis different geospatial datasets are read and processed (reprojecting, cliping, masking, aligning, resampling, etc.). The datasets from this step are saved on the users computer. For future runs on the same area of interest this step can consequently be skipped unless datasets are switched. \n",
    "1. [**Calibration**](#2.-Calibration) - In this part, the area of interest is calibrated. Raster cells are classified as either urban or rural, the electrification rate in different cells is determined and the rates of different cooking fuels across settlements are calibrated. The calibrated data is saved in a `.pkl-file`. Unless data related to these steps are changed from one run to another, this step only needs to be ran once. \n",
    "1. [**Model run**](#3.-Model-run) - The net-benefit for different stoves is determined in different parts of the study area. Once all stoves have a net-benefit calculated the stoves will be compared and the stove with the highest net-benefit in each settlement is selected. Summaries of the results documenting the benefits and costs of each stove type across the entire study area are produced. The results are saved as a `.pkl-file`.  \n",
    "1. [**Visualization**](#4.-Visualization) - Visualizing and saving different maps related to the results.\n",
    "\n",
    "Each part of the notebook is divided into several different cells and each cell is described more in depth. \n",
    "\n",
    "**Always run the imports first and do not edit these cells**"
   ]
  },
  {
   "cell_type": "code",
   "execution_count": 1,
   "id": "dfc36ae0",
   "metadata": {
    "tags": []
   },
   "outputs": [],
   "source": [
    "import os, time\n",
    "import geopandas as gpd\n",
    "\n",
    "from onstove import OnStove, DataProcessor, RasterLayer, VectorLayer\n",
    "from utils import download_data"
   ]
  },
  {
   "cell_type": "markdown",
   "id": "73889e10-e9b3-4fe2-a24f-724220be398d",
   "metadata": {},
   "source": [
    "### Defining the output directory\n",
    "In the next cell we define the output directory of the analysis. This directory will be used to write all results of the [data processing](#1.-Data-processing), [calibration](#2.-Calibration), [model run](#3.-Model-run) and [visualization](#4.-Visualization) steps."
   ]
  },
  {
   "cell_type": "code",
   "execution_count": 2,
   "id": "9f05b6cb-3189-4725-b62f-85bfa6aa5969",
   "metadata": {
    "tags": []
   },
   "outputs": [],
   "source": [
    "output_directory = 'SLE'"
   ]
  },
  {
   "cell_type": "markdown",
   "id": "54f7078f",
   "metadata": {},
   "source": [
    "# Downloading example data from the Mendeley database"
   ]
  },
  {
   "cell_type": "markdown",
   "id": "bad09b30",
   "metadata": {},
   "source": [
    "First the datasets need to be downloaded. The datasets needed for your analysis are saved on a Mendeley database. To know which datasets to download you need to enter the name of the country in the cell below. Available options are:\n",
    "* Ghana\n",
    "* Kenya\n",
    "* Liberia\n",
    "* Madagascar\n",
    "* Malawi\n",
    "* Nigeria\n",
    "* Rwanda\n",
    "* Zambia"
   ]
  },
  {
   "cell_type": "code",
   "execution_count": null,
   "id": "d265840d",
   "metadata": {
    "tags": []
   },
   "outputs": [],
   "source": [
    "country = 'Ghana'\n",
    "download_data(country)"
   ]
  },
  {
   "cell_type": "markdown",
   "id": "4ed4c26c",
   "metadata": {},
   "source": [
    "# 1. Data processing"
   ]
  },
  {
   "cell_type": "markdown",
   "id": "dfceb859",
   "metadata": {},
   "source": [
    "### Create a data processor\n",
    "\n",
    "This cell creates your `DataProcessor`. The `DataProcessor` will process all raw input GIS datasets and will set the base for your model. OnStove is a raster-based model, hence the spatial resolution of the analysis becomes important. We specify the resolution (`cell_size` in projection units) when creating the `DataProcessor` together with the coordinate system (`project_crs`). This will ensure that all rasters are resampled to the correct resolution and all datasets (vectors and rasters) are reprojected to the target coordinate system.\n",
    "\n",
    "In this example we use the world mercator coordinate system (EPSG:3395) and a spatial resolution of 1 sq. km. (1000x1000 meters, currently the OnStove model can only be run in this resolution). To find a coordinate system suitable for your study area you can use [epsg.io](https://epsg.io/)"
   ]
  },
  {
   "cell_type": "code",
   "execution_count": null,
   "id": "06c618a9",
   "metadata": {
    "tags": []
   },
   "outputs": [],
   "source": [
    "start = time.time()\n",
    "\n",
    "data = DataProcessor(project_crs=3395, cell_size=(1000, 1000))\n",
    "data.output_directory = output_directory"
   ]
  },
  {
   "cell_type": "markdown",
   "id": "88c6c4be",
   "metadata": {},
   "source": [
    "## 1.1. Add a mask and base \n",
    "\n",
    "The mask layer dictates what falls within your area of interest and what is excluded from your analysis. For mask layer we use the administrative boundaries of the country.\n",
    "\n",
    "For this a function called `add_mask_layer` is used. `add_mask_layer` takes four inputs:\n",
    "1. `category`- referencing the category of the layer\n",
    "2. `name` - referencing the name of the layer\n",
    "3. `path` - from where to read the data\n",
    "4. `query` - string that can be used to filter the data\n",
    "5. `postgres` - boolean determining whether the data is read from disc or from a PostgreSQL database. Default is `False`, meaning the dataset is read from disc.\n",
    "6. `save_layer` -  determines whether the dataset is saved to disc or not. Default is `False`.\n",
    "\n",
    "For more information about this function refer to the [documentation](https://onstove-documentation.readthedocs.io/en/latest/generated/onstove.DataProcessor.add_mask_layer.html)"
   ]
  },
  {
   "cell_type": "code",
   "execution_count": null,
   "id": "aa56ba93",
   "metadata": {
    "tags": []
   },
   "outputs": [],
   "source": [
    "adm_path = r\"gis_data/Administrative/Country_boundaries/Country_boundaries.geojson\"\n",
    "data.add_mask_layer(category='Administrative', name='Country_boundaries', path=adm_path)"
   ]
  },
  {
   "cell_type": "markdown",
   "id": "69f46476",
   "metadata": {},
   "source": [
    "## 1.2. Add GIS layers"
   ]
  },
  {
   "cell_type": "markdown",
   "id": "d1a23dd9",
   "metadata": {},
   "source": [
    "Similarly, we can add data layers using the `add_layer` method. A layer `name` and a `path` need ot be provided. In addition, the following arguments can be passed:\n",
    "1. `category` - this is used to group all datasets into a category in the final output, e.g. `demand` or `supply`. \n",
    "2. `layer_type` - this argument is required with two possible options `raster` or `vector`, you should pass either one according to the dataset you are adding. \n",
    "3. `query` - string that can be used to filter the data (available only for `vector` layers)\n",
    "4. `postgres` - boolean determining whether the data is read from disc or from a PostgreSQL database (available only for `vector` layers). Default is `False`, meaning the dataset is read from disc.\n",
    "5. `base_layer` - boolean determining whether the layer should be used as a `base_layer` for the data processing. Default is `False`. \n",
    "6. `resample` - this defines what resampling method to use when changing the resolution of the raster. The change of resolution happens when the layer gets aligned with the base layer (only applicable for rasters).\n",
    "7. `normalization` - Set the method used for normalization if relevant at a later stage. Currently, the only availabl option is `MinMax`, which will normalize the layer using a MinMax approach. If the layer is of type vector the normalization method will be passed to any raster created using the vector.\n",
    "8. `inverse` - Sets the default mode for the normalization algorithm. Default is `False`. If `False`, then the raster will be normalized (if `normalize_rasters` method is called) setting 1 as the high value and 0 as the low. If `True`, then the raster will be normalized setting the high value as 0 and the low values as 1.\n",
    "9. `distance_method` - Sets the default distance algorithm to use when calling the `get_distance_raster` method for the layer.\n",
    "10. `distance_limit` - Defines a distance limit or range to consider when calculating the distance raster.\n",
    "11. `window` - A window or bounding box to read in the data if ``layer_type`` is `raster` or `vector` respectively\n",
    "12. `rescale` - Sets the default value for the ``rescale`` attribute. Default `False`. This attribute is used in the `align` method to rescale the values of a cell proportionally to the change in size of the cell. This is useful when aligning rasters that have different cell sizes and their values can be scaled proportionally.\n",
    "\n",
    "\n",
    "Find more information about this function in the [documentation](https://onstove-documentation.readthedocs.io/en/latest/generated/onstove.DataProcessor.add_layer.html).\n",
    "\n",
    "**In the cells below we read  and process all relevant datasets:**"
   ]
  },
  {
   "cell_type": "markdown",
   "id": "d8d62164",
   "metadata": {},
   "source": [
    "### 1.2.1. Demographics\n",
    "* **Population** - a raster layer describing the spatial distribution of people across the study area\n",
    "* **Urban-rural split** - a raster layer describing which areas that can be considered urban and rural respectively "
   ]
  },
  {
   "cell_type": "code",
   "execution_count": null,
   "id": "af1ef16b",
   "metadata": {},
   "outputs": [],
   "source": [
    "pop_path = r\"gis_data/Population/Population.tif\"\n",
    "data.add_layer(category='Demographics', name='Population', \n",
    "               path=pop_path, layer_type='raster', resample='sum')\n",
    "\n",
    "urban_path = r\"gis_data/Urban/Urban.tif\"\n",
    "data.add_layer(category='Demographics', name='Urban_rural_divide', \n",
    "               path=urban_path, layer_type='raster', resample='nearest')"
   ]
  },
  {
   "cell_type": "markdown",
   "id": "2ee96f83",
   "metadata": {},
   "source": [
    "### 1.2.2. Biomass\n",
    "* **Forest** - a raster layer describing where forest is available and where it is not. This is used to estimate biomass collection time together with the friction layer.\n",
    "* **Friction** - a raster layer describing the walking-only friction across the study area (the time it takes to travel across different cells of the study area by foot). This is used in order to determine the collection time of manure (for biogas) and biomass. "
   ]
  },
  {
   "cell_type": "code",
   "execution_count": null,
   "id": "744cde58",
   "metadata": {},
   "outputs": [],
   "source": [
    "forest_path = r\"gis_data/Forest/Forest.tif\"\n",
    "data.add_layer(category='Biomass', name='Forest', \n",
    "               path=forest_path, layer_type='raster', resample='average')\n",
    "\n",
    "friction_path = r\"gis_data/Friction/Friction.tif\"\n",
    "data.add_layer(category='Biomass', name='Friction', path=friction_path, \n",
    "               layer_type='raster', resample='average')"
   ]
  },
  {
   "cell_type": "markdown",
   "id": "fb9d0d50",
   "metadata": {},
   "source": [
    "### 1.2.3. Electricity\n",
    "* **Medium voltage lines** - a line vector showing the availability of medium voltage lines. This is used to estimate which settlements are electrified and which ones are not. Users can also use either transformers or high-voltage lines if available. \n",
    "* **Nighttime lights** - a raster showing the intensity of anthropogenic light. Used as proxy for determining who may have electricity and who does not. "
   ]
  },
  {
   "cell_type": "code",
   "execution_count": null,
   "id": "ebc1371f",
   "metadata": {},
   "outputs": [],
   "source": [
    "mv_path = r\"gis_data/MV lines/MV_lines.geojson\"\n",
    "data.add_layer(category='Electricity', name='MV_lines', \n",
    "               path=mv_path, layer_type='vector')\n",
    "\n",
    "ntl_path = r\"gis_data/Night time lights/Night_time_lights.tif\"\n",
    "data.add_layer(category='Electricity', name='Night_time_lights', \n",
    "               path=ntl_path, layer_type='raster', resample='average')"
   ]
  },
  {
   "cell_type": "markdown",
   "id": "21abac21",
   "metadata": {},
   "source": [
    "### 1.2.4. LPG\n",
    "* **Travel time** - a map showing the time it takes to travel to the closest city of at least 50,000 people with motorized transport. This is used to estimate transportation cost of LPG. A user can also provide LPG supply points (as a point layer) and a motorized friction map to determine the travel time directly to the supply points."
   ]
  },
  {
   "cell_type": "code",
   "execution_count": null,
   "id": "6792937a",
   "metadata": {},
   "outputs": [],
   "source": [
    "lpg_path = r\"gis_data/Traveltime/Traveltime.tif\"\n",
    "data.add_layer(category='LPG', name='LPG Traveltime', \n",
    "               path=lpg_path, layer_type='raster', resample='average')"
   ]
  },
  {
   "cell_type": "markdown",
   "id": "9c5f95a1",
   "metadata": {},
   "source": [
    "### 1.2.5. Biogas\n",
    "* **Livestock** - raster layers showing the headcounts of different livestock (buffaloes, cattle, poultry, goats, pigs and sheep). This is used to assess the availability of manure in different cells of the study area. \n",
    "* **Temperature** - raster layer describing the temperature across the study area. This is to assess the suitability of using biogas. [If the average temperature decreases below 10 degrees Celsius the conversion of small scale biogas digesters reduces significantly making them unviable](https://www.sciencedirect.com/science/article/pii/S2213138821003118)."
   ]
  },
  {
   "cell_type": "code",
   "execution_count": null,
   "id": "31d3dd77",
   "metadata": {},
   "outputs": [],
   "source": [
    "buffaloes = r\"gis_data/Livestock/buffaloes/buffaloes.tif\"\n",
    "cattles = r\"gis_data/Livestock/cattles/cattles.tif\"\n",
    "poultry = r\"gis_data/Livestock/poultry/poultry.tif\"\n",
    "goats = r\"gis_data/Livestock/goats/goats.tif\"\n",
    "pigs = r\"gis_data/Livestock/pigs/pigs.tif\"\n",
    "sheeps = r\"gis_data/Livestock/sheeps/sheeps.tif\"\n",
    "\n",
    "for key, path in {'buffaloes': buffaloes,\n",
    "                  'cattles': cattles,\n",
    "                  'poultry': poultry,\n",
    "                  'goats': goats,\n",
    "                  'pigs': pigs,\n",
    "                  'sheeps': sheeps}.items():\n",
    "    data.add_layer(category='Biogas/Livestock', name=key, path=path,\n",
    "                   layer_type='raster', resample='nearest', rescale=True)\n",
    "    \n",
    "temperature = r\"gis_data/Temperature/Temperature.tif\"\n",
    "data.add_layer(category='Biogas', name='Temperature', path=temperature,\n",
    "               layer_type='raster', resample='average')\n",
    "data.layers['Biogas']['Temperature'].save(f'{data.output_directory}/Biogas/Temperature')"
   ]
  },
  {
   "cell_type": "markdown",
   "id": "523cfa9f",
   "metadata": {},
   "source": [
    "### 1.2.6. Base layer (population layer)\n",
    "\n",
    "Lastly a raster base layer is needed to make every output match its grid and extent. For this, we also use the `add_layer` function passing the `base_layer` parameters a `True`. We use the populaion layer for this application. The layer will be processed to mathc the cordinate system and resolution of the project."
   ]
  },
  {
   "cell_type": "code",
   "execution_count": null,
   "id": "9280ca7a",
   "metadata": {},
   "outputs": [],
   "source": [
    "data.add_layer(category='Base', name='Base', path=r\"gis_data/Population/Population.tif\",\n",
    "               layer_type='raster', base_layer=True, resample='nearest')"
   ]
  },
  {
   "cell_type": "markdown",
   "id": "86d63091",
   "metadata": {},
   "source": [
    "## 1.3. Mask, reproject, align and save all required layers"
   ]
  },
  {
   "cell_type": "markdown",
   "id": "7e1428a5",
   "metadata": {},
   "source": [
    "All raster datasets are aligned with the base layer selected in [cell 1.2.6](#1.2.6.-Base-layer-(forest-layer)). As the based layer has been previously processed, the aligning function also ensures that the coordinate system and resolution of all rasters are the same as the project's (defined when [creating the data processor](#Create-a-data-processor)). \n",
    "\n",
    "Find more information about this function in the [documentation](https://onstove-documentation.readthedocs.io/en/latest/generated/onstove.DataProcessor.align_layers.html)."
   ]
  },
  {
   "cell_type": "code",
   "execution_count": null,
   "id": "ca33cc5c",
   "metadata": {},
   "outputs": [],
   "source": [
    "data.align_layers(datasets='all')"
   ]
  },
  {
   "cell_type": "markdown",
   "id": "a3961fcd",
   "metadata": {},
   "source": [
    "Next, all vector files (apart from the mask layer) are reprojected. This is done using the `reprojected_layers` function. The source coordinate system does not influence the process and the target coordinate system is the same as the one entered by the user when [creating the data processor](#Create-a-data-processor). \n",
    "\n",
    "Find more information about this function in the [documentation](https://onstove-documentation.readthedocs.io/en/latest/generated/onstove.DataProcessor.reproject_layers.html)."
   ]
  },
  {
   "cell_type": "code",
   "execution_count": null,
   "id": "f87b244f",
   "metadata": {},
   "outputs": [],
   "source": [
    "data.reproject_layers(datasets={'Electricity': ['MV_lines']})"
   ]
  },
  {
   "cell_type": "markdown",
   "id": "ed50b256",
   "metadata": {},
   "source": [
    "Lastly, all processed layers (rasters, vectors, the base layer and the mask layer) are saved. This is done using the `save_datasets` function, eith the option `'all'`."
   ]
  },
  {
   "cell_type": "code",
   "execution_count": null,
   "id": "735a4a5b",
   "metadata": {},
   "outputs": [],
   "source": [
    "data.save_datasets('all')"
   ]
  },
  {
   "cell_type": "code",
   "execution_count": null,
   "id": "3ffdf378",
   "metadata": {},
   "outputs": [],
   "source": [
    "end = time.time()\n",
    "\n",
    "diff = end - start\n",
    "print('Execution time:', str(str(int(diff//60))) + ' min ' + str(int((diff)%60)) + ' sec')"
   ]
  },
  {
   "cell_type": "markdown",
   "id": "5f2a6c46-f315-484b-94f9-ac8287628992",
   "metadata": {},
   "source": [
    "[Go back to the top](#OnStove-notebook)"
   ]
  },
  {
   "cell_type": "markdown",
   "id": "e462599d",
   "metadata": {},
   "source": [
    "# 2. Calibration\n",
    "\n",
    "The calibration step does two things 1) it adds the datasets processed in the previous step to a settlement file that will be used in [step 3](#3.-Model-run) for determining the net-benefit in different settlements and 2) calibrates the file with regards to total population, urban-rural split and electrification rate. \n",
    "\n",
    "**Note:** Similar to the data processing step, this step is only needed once unless you change anything in the inputs"
   ]
  },
  {
   "cell_type": "markdown",
   "id": "7a74dfc6",
   "metadata": {},
   "source": [
    "## 2.1. Read the model data"
   ]
  },
  {
   "cell_type": "markdown",
   "id": "3e90be48",
   "metadata": {},
   "source": [
    "The cell below creates an `OnStove` model (calling the `OnStove()` class) and reads the socio-economic specification file (with `country.read_scenario_data(path, delimiter=',')`). This file is a `csv` file that contains the electrification and urban rates and the actual population in the study area (often the GIS datasets of populations have slightly outdated values of population), among other information. For a complete list of parameters and an example of how this file looks see the [documentation](https://onstove-documentation.readthedocs.io/en/latest/onstove_tool.html#socio-economic-data). The scenario data is saved as a [dictionary](https://www.w3schools.com/python/python_dictionaries.asp) that can be called upon with `country.specs`"
   ]
  },
  {
   "cell_type": "code",
   "execution_count": 13,
   "id": "6a2d1074",
   "metadata": {},
   "outputs": [],
   "source": [
    "country = OnStove(project_crs=3395)\n",
    "path = 'soc_specs.csv'\n",
    "country.output_directory = output_directory\n",
    "country.read_scenario_data(path, delimiter=',')"
   ]
  },
  {
   "cell_type": "markdown",
   "id": "b220bd4c",
   "metadata": {},
   "source": [
    "## 2.2. Add a population base layer\n",
    "\n",
    "The population layer is read with `add_layer` and is turned into a [dataframe](https://www.w3schools.com/python/pandas/pandas_dataframes.asp) with a column for population using the `population_to_dataframe` method. This dataframe will be used to add all the other geospatial datasets and calculate the results on.\n",
    "\n",
    "Find more information about these function in the [documentation](https://onstove-documentation.readthedocs.io/en/latest/generated/onstove.OnStove.population_to_dataframe.html)"
   ]
  },
  {
   "cell_type": "code",
   "execution_count": 14,
   "id": "42ada266",
   "metadata": {},
   "outputs": [],
   "source": [
    "path = os.path.join(output_directory,'Demographics','Population', 'Population.tif')\n",
    "country.add_layer(category='Demographics', name='Population', path=path, layer_type='raster', base_layer=True)\n",
    "country.population_to_dataframe()"
   ]
  },
  {
   "cell_type": "markdown",
   "id": "51c5eba9",
   "metadata": {},
   "source": [
    "## 2.3. Calibrate urban/rural split\n",
    "\n",
    "The function `calibrate_urban_rural_split` is used to classify different rows in of the dataframe produced in the previous step as either urban or rural. This is based on the [GHS dataset](https://ghsl.jrc.ec.europa.eu/download.php?ds=smod). This is important for the base year calculations as urban and rural shares of different stoves (and electrification rates) tend to differ.\n",
    "\n",
    "Find more information about this function in the [documentation](https://onstove-documentation.readthedocs.io/en/latest/generated/onstove.OnStove.calibrate_urban_rural_split.html?highlight=GHS#onstove.OnStove.calibrate_urban_rural_split)\n",
    "\n",
    "This function also calls on the `calibrate_current_pop` fuction to calibrate the population of the dataframe to the value entered in the socio-economic file.\n",
    "\n",
    "Find more information about this function in the [documentation](https://onstove-documentation.readthedocs.io/en/latest/generated/onstove.OnStove.calibrate_current_pop.html).\n",
    "\n"
   ]
  },
  {
   "cell_type": "code",
   "execution_count": 15,
   "id": "5bb5e828",
   "metadata": {
    "scrolled": true,
    "tags": []
   },
   "outputs": [],
   "source": [
    "ghs_path = os.path.join(output_directory,'Demographics','Urban', 'Urban.tif')\n",
    "country.calibrate_urban_rural_split(ghs_path)"
   ]
  },
  {
   "cell_type": "markdown",
   "id": "d9c83773",
   "metadata": {
    "tags": []
   },
   "source": [
    "## 2.4. Add wealth index GIS data and determine the value of time\n",
    "\n",
    "Here, the Relative Wealth Index (RWI) is added to the dataframe. The RWI is used to estimate the monetary value of time. The RWI can be read either as a csv-file, point, polygon or raster layer it is not read and added with the other datasets. Instead the function `extract_wealth_index` is used. \n",
    "\n",
    "Find more information about this function in the [documentation](https://onstove-documentation.readthedocs.io/en/latest/generated/onstove.OnStove.extract_wealth_index.html)"
   ]
  },
  {
   "cell_type": "code",
   "execution_count": 16,
   "id": "2dafe386",
   "metadata": {},
   "outputs": [],
   "source": [
    "wealth_index = f\"SLE_relative_wealth_index.csv\"\n",
    "country.extract_wealth_index(wealth_index, file_type=\"csv\")"
   ]
  },
  {
   "cell_type": "markdown",
   "id": "408c3095",
   "metadata": {},
   "source": [
    "## 2.5. Calculate distance to electricity infrastructure \n",
    "\n",
    "To estimate electricity access rates in different cells across the study area the distance to electricity related infrastructure is important. The following section of the code reads the electricity related vector file(s) that was (were) processed in the data processing parts and determines the distance between every settlement (raster cell in the population map) and the closest infrastructure. This is done using a function called `distance_to_electricity`. \n",
    "\n",
    "Find more information about this function in the [documentation](https://onstove-documentation.readthedocs.io/en/latest/generated/onstove.OnStove.distance_to_electricity.html)."
   ]
  },
  {
   "cell_type": "code",
   "execution_count": 17,
   "id": "f7d37042",
   "metadata": {},
   "outputs": [],
   "source": [
    "path = os.path.join(output_directory, 'Electricity', 'MV_lines', 'MV_lines.geojson')\n",
    "mv_lines = VectorLayer('Electricity', 'MV_lines', path=path)\n",
    "country.distance_to_electricity(mv_lines=mv_lines)"
   ]
  },
  {
   "cell_type": "markdown",
   "id": "551c0bdc",
   "metadata": {},
   "source": [
    "## 2.6. Add nighttime lights data\n",
    "\n",
    "Nighttime lights are also important for the calibration of electrified population as it can give you an indication of where electricity consumption is present. The nighttime lights map should already have been processed in the [Data processing](#1.-Data-processing) section and therefore, it is only read here and added to the dataframe using the function `raster_to_dataframe`. \n",
    "\n",
    "Find out more the function in the [documentation](https://onstove-documentation.readthedocs.io/en/latest/generated/onstove.OnStove.raster_to_dataframe.html)"
   ]
  },
  {
   "cell_type": "code",
   "execution_count": 18,
   "id": "04e8464f",
   "metadata": {},
   "outputs": [],
   "source": [
    "ntl_path = os.path.join(output_directory, 'Electricity', 'Night_time_lights', 'Night_time_lights.tif')\n",
    "country.raster_to_dataframe(ntl_path, name='Night_lights', method='read')"
   ]
  },
  {
   "cell_type": "markdown",
   "id": "3098cb0a",
   "metadata": {},
   "source": [
    "## 2.7. Calibrate current electrified population\n",
    "\n",
    "Once the distance to electricity related infrastructure (transformers, MV-lines or HV-lines) is determined and the nighttime light intensity is extracted, the current electrification status for different settlements across the study area is determined. This is done in two steps. First, `current_elec` gives a binary classification of the settlements that are likely electrified (1 indicates that at least someone is likely to have access, while 0 indicates that electricity access is not present at all in the cell). \n",
    "\n",
    "For more information about the `current_elec` function, please refer to the [documentation](https://onstove-documentation.readthedocs.io/en/latest/generated/onstove.OnStove.current_elec.html)\n",
    "\n",
    "Once the binary classification is made the electrification rate in the different cells with the value 1 from the current_elec is determined. This is done using the function final_elec. This is a multi-criteria analysis taking into account the population density in each cell, the nighttime light intensity and the distance to either transformers, MV-lines or HV-lines together with weights for each one of these factors provided by the user in the socio-economic specs file.  \n",
    "\n",
    "For more information about the `final_elec` function, please refer to the [documentation](https://onstove-documentation.readthedocs.io/en/latest/generated/onstove.OnStove.final_elec.html)"
   ]
  },
  {
   "cell_type": "code",
   "execution_count": 19,
   "id": "4b87b76f",
   "metadata": {},
   "outputs": [
    {
     "name": "stdout",
     "output_type": "stream",
     "text": [
      "Calibrated grid electrified population fraction: 0.9899999630380021\n"
     ]
    }
   ],
   "source": [
    "country.current_elec()\n",
    "country.final_elec()\n",
    "\n",
    "print('Calibrated grid electrified population fraction:', country.gdf['Elec_pop_calib'].sum() / country.gdf['Calibrated_pop'].sum())"
   ]
  },
  {
   "cell_type": "markdown",
   "id": "76132452",
   "metadata": {},
   "source": [
    "## 2.8. Read the cooking technologies data\n",
    "\n",
    "The techno-economic specification file is read. This file does two things: 1) it determines the available fuel/stove combinations used in the analysis and 2) it indicates different techno-economic parameters related to these stoves. If a stove is to be added to the analysis the first step is to add it in this file. The function `read_tech_data` creates a dictionary of technology-classes. This dictionary can be called with `country.techs`\n",
    "\n",
    "Find out more about the `read_tech_data` method [here](https://onstove-documentation.readthedocs.io/en/latest/generated/onstove.OnStove.read_tech_data.html) and about the techno-economic specification data file [here](https://onstove-documentation.readthedocs.io/en/latest/onstove_tool.html#techno-economic-data)."
   ]
  },
  {
   "cell_type": "code",
   "execution_count": 20,
   "id": "cd565793",
   "metadata": {},
   "outputs": [],
   "source": [
    "path = 'tech_specs.csv'\n",
    "country.read_tech_data(path, delimiter=',')"
   ]
  },
  {
   "cell_type": "markdown",
   "id": "ae22bad6-0964-4e4b-bd27-ab7bf716063f",
   "metadata": {},
   "source": [
    "After reading the technology data, the `OnStove` model creates a new dictionary containing all technologies specified in the tech specification file. You can check how this dictionary looks by calling the `techs` attrbute of the model:"
   ]
  },
  {
   "cell_type": "code",
   "execution_count": 21,
   "id": "89a8628a-4bf5-4481-b6ee-db7d45837b84",
   "metadata": {
    "tags": []
   },
   "outputs": [
    {
     "data": {
      "text/plain": [
       "{'Biogas': <onstove.technology.Biogas at 0x234c688ef00>,\n",
       " 'Biomass Forced Draft': <onstove.technology.Biomass at 0x234c688ef30>,\n",
       " 'Charcoal ICS': <onstove.technology.Charcoal at 0x234c688f1d0>,\n",
       " 'Collected_Improved_Biomass': <onstove.technology.Biomass at 0x234c688f2c0>,\n",
       " 'Collected_Traditional_Biomass': <onstove.technology.Biomass at 0x234c688f440>,\n",
       " 'Electricity': <onstove.technology.Electricity at 0x234c688f590>,\n",
       " 'Kerosene': <onstove.technology.Technology at 0x234c688f950>,\n",
       " 'LPG': <onstove.technology.LPG at 0x234c3322060>,\n",
       " 'Pellets Forced Draft': <onstove.technology.Biomass at 0x234c50e0740>,\n",
       " 'Traditional_Charcoal': <onstove.technology.Charcoal at 0x234c688fc80>}"
      ]
     },
     "execution_count": 21,
     "metadata": {},
     "output_type": "execute_result"
    }
   ],
   "source": [
    "country.techs"
   ]
  },
  {
   "cell_type": "markdown",
   "id": "49739eb6",
   "metadata": {},
   "source": [
    "## 2.9. Calculating grid added capacity cost\n",
    "\n",
    "The following cell is used in order to determine the cost of added electricity generation capacity. For each new household cooking with electricity there is a need to invest in added capacity. The method `get_capacity_cost` determines this cost by taking into account the different power plants costs and the current electricity mix in the study area (both from the techno-economic specification file). The method is called from the `Electricity` technology class, that was created when reading the technology data in the previous step. Any technology class can be accessed by calling the `techs` dictionary with the technology name as a string in square brackets.\n",
    "\n",
    "Find out more about this function in the [documentation](https://onstove-documentation.readthedocs.io/en/latest/generated/onstove.Electricity.get_capacity_cost.html)."
   ]
  },
  {
   "cell_type": "code",
   "execution_count": 22,
   "id": "8908fb95",
   "metadata": {},
   "outputs": [],
   "source": [
    "country.techs['Electricity'].get_capacity_cost(country)"
   ]
  },
  {
   "cell_type": "markdown",
   "id": "3973c694",
   "metadata": {},
   "source": [
    "## 2.10. Reading GIS data for LPG supply\n",
    "\n",
    "The LPG travel time is added to the `LPG` technology class. The original dataset gives the time in minutes, so here the values are divided by 60 to ensure that the time worked with is in hours. A factor of 2 is also multiplied with the travel time to account for the fact that the trips are two-ways. For this we use the `raster_to_dataframe` method again, but without a `name` attribute so the output is not saved in the dataframe but it is returned instead. This way we can save the traveltime information in the `travel_time` attribute of the `LPG` technology class:"
   ]
  },
  {
   "cell_type": "code",
   "execution_count": 24,
   "id": "faf02a0e",
   "metadata": {},
   "outputs": [],
   "source": [
    "traveltime_path = os.path.join(output_directory, 'LPG', 'Traveltime', 'Traveltime.tif')\n",
    "\n",
    "country.techs['LPG'].travel_time = country.raster_to_dataframe(traveltime_path, fill_nodata_method='interpolate', \n",
    "                                                               method='read') * 2 / 60"
   ]
  },
  {
   "cell_type": "markdown",
   "id": "783b0ca2",
   "metadata": {},
   "source": [
    "## 2.11. Adding GIS data for Biogas\n",
    "\n",
    "Biogas potential is dependent on the availability of manure, the availability of manure is in turn dependent on livestock. This is calculated in three steps run in the cell bellow:\n",
    "1. Determine and add the livestock datasets to the dataframe calling the `recalibrate_livestock` method from the `Biogas` technology class, with all feedstock datasets as inputs\n",
    "1. Add the temperature layer to the `Biomass` technology class [(temperatures below 10 degrees Celsius render the biogas digesters too inefficient)](https://www.sciencedirect.com/science/article/pii/S2213138821003118)\n",
    "1. Add a friction map to the `Biomass` technlogy class (walking only friction that is also used for biomass in order to estimate the travel time for biogas collection)\n",
    "\n",
    "Find out more the calibration of livestock in the [documentation](https://onstove-documentation.readthedocs.io/en/latest/generated/onstove.Biogas.recalibrate_livestock.html)."
   ]
  },
  {
   "cell_type": "code",
   "execution_count": 25,
   "id": "26fc9c97",
   "metadata": {},
   "outputs": [],
   "source": [
    "buffaloes = os.path.join(output_directory, 'Biogas', 'Livestock', 'buffaloes', 'buffaloes.tif')\n",
    "cattles = os.path.join(output_directory, 'Biogas', 'Livestock', 'cattles', 'cattles.tif')\n",
    "poultry =os.path.join(output_directory, 'Biogas', 'Livestock', 'poultry', 'poultry.tif')\n",
    "goats = os.path.join(output_directory, 'Biogas', 'Livestock', 'goats', 'goats.tif')\n",
    "pigs = os.path.join(output_directory, 'Biogas', 'Livestock', 'pigs', 'pigs.tif')\n",
    "sheeps = os.path.join(output_directory, 'Biogas', 'Livestock', 'sheeps', 'sheeps.tif')\n",
    "\n",
    "country.techs['Biogas'].recalibrate_livestock(country, buffaloes, cattles, poultry, goats, pigs, sheeps)\n",
    "country.techs['Biogas'].temperature = os.path.join(output_directory, 'Biogas', 'Temperature', 'Temperature.tif')\n",
    "country.techs['Biogas'].friction_path = os.path.join(output_directory, 'Biomass', 'Friction', 'Friction.tif')"
   ]
  },
  {
   "cell_type": "markdown",
   "id": "647cfcf0",
   "metadata": {},
   "source": [
    "## 2.12. Adding GIS data for Biomass\n",
    "\n",
    "Biomass is assumed to be collected by the end-users themselves. In this notebook three biomass stoves are present (traditional biomass, natural draft (Collected Improved biomass) and forced draft. For each one of these stoves the forest and friction layers are added to their respective classes. The forest layer describes where the collection opportunities for biomass exist, while the friction map (only walking-friction) is used to determine the least-cost path to the different collection points on the map. The collection point with the lowest travel time is selected for biomass collection. \n",
    "\n",
    "The user can also give a condition for where collection can be carried out using the `forest_condition` call. The condition restricts certain areas based on canopy cover. This is done by using a `lambda` funcion, which defines by using a boolean expression which cell should be used. In this example no such restriction is given, as all cels above canopy cover of `0` are accounted.\n",
    "\n",
    "To define the `lambda` funcion, firs type `lamba x:` followed by the condition:\n",
    "```python\n",
    "lamba x: x > 0\n",
    "```\n",
    "If a values above `0` where used, for example `30`, then all cells with canopy cover below that number would be ignored.\n",
    "\n",
    "Find out more about how biomass is treated in the [documentation](https://onstove-documentation.readthedocs.io/en/latest/generated/onstove.Biomass.html)."
   ]
  },
  {
   "cell_type": "code",
   "execution_count": 26,
   "id": "7204607f",
   "metadata": {},
   "outputs": [],
   "source": [
    "country.techs['Biomass Forced Draft'].friction_path = os.path.join(output_directory, 'Biomass', 'Friction', 'Friction.tif')\n",
    "country.techs['Biomass Forced Draft'].forest_path = os.path.join(output_directory, 'Biomass', 'Forest', 'Forest.tif')\n",
    "country.techs['Biomass Forced Draft'].forest_condition = lambda x: x > 0\n",
    "\n",
    "country.techs['Collected_Improved_Biomass'].friction_path = os.path.join(output_directory, 'Biomass', 'Friction', 'Friction.tif')\n",
    "country.techs['Collected_Improved_Biomass'].forest_path = os.path.join(output_directory, 'Biomass', 'Forest', 'Forest.tif')\n",
    "country.techs['Collected_Improved_Biomass'].forest_condition = lambda x: x > 0\n",
    "\n",
    "country.techs['Collected_Traditional_Biomass'].friction_path = os.path.join(output_directory, 'Biomass', 'Friction', 'Friction.tif')\n",
    "country.techs['Collected_Traditional_Biomass'].forest_path = os.path.join(output_directory, 'Biomass', 'Forest', 'Forest.tif')\n",
    "country.techs['Collected_Traditional_Biomass'].forest_condition = lambda x: x > 0"
   ]
  },
  {
   "cell_type": "markdown",
   "id": "449e4afa",
   "metadata": {},
   "source": [
    "## 2.13. Saving the prepared model inputs\n",
    "\n",
    "The cell below saves the dataframe created through the calibration-phase as a `.pkl`-file. This enables users to run several scenarios on the same file without rerunning the previous steps. "
   ]
  },
  {
   "cell_type": "code",
   "execution_count": 29,
   "id": "b23d52f5",
   "metadata": {
    "scrolled": true
   },
   "outputs": [],
   "source": [
    "country.to_pickle(\"model_inputs.pkl\")\n",
    "\n",
    "end = time.time()\n",
    "\n",
    "#diff = end - start\n",
    "#print('Execution time:', str(str(int(diff//60))) + ' min ' + str(int((diff)%60)) + ' sec')"
   ]
  },
  {
   "cell_type": "markdown",
   "id": "ab71fb43-9819-4ce4-8eee-c5e3ea457414",
   "metadata": {},
   "source": [
    "[Go back to the top](#OnStove-notebook)"
   ]
  },
  {
   "cell_type": "markdown",
   "id": "30799bf0",
   "metadata": {},
   "source": [
    "# 3. Model run\n",
    "\n",
    "This section runs the main-analysis and produces the results of OnStove. In this section first the cooking options currently in place are determined for urban and rural settlements. This base-line cooking mix is used in order to determine the relative benefits (reduced mortality, reduced morbidity, time saved and carbon emissions avoided), as well as the relative costs (investments, operation & maintenance, fuel and salvage costs). The benefits and costs for all stove options are combined in every cell to produce the net-benefit (defined as benefits minus costs). The stove with the highest net-benefit is selected for each cell in the study area.\n",
    "\n",
    "The first two cells in this section reads: **1)** the input model (output from the calibration phase as a `.pkl`-file) and **2)** the posibility of reading a socio-economic specification file again (first read in [step 2](#2.1.-Read-the-model-data)) to change any socio-economic specification in case different scenarios want to be run. "
   ]
  },
  {
   "cell_type": "code",
   "execution_count": 30,
   "id": "8317f52f",
   "metadata": {},
   "outputs": [],
   "source": [
    "start = time.time()\n",
    "country = OnStove.read_model(f\"{output_directory}/model_inputs.pkl\")"
   ]
  },
  {
   "cell_type": "code",
   "execution_count": 31,
   "id": "aa497357",
   "metadata": {},
   "outputs": [],
   "source": [
    "path = 'soc_specs.csv'\n",
    "country.read_scenario_data(path)"
   ]
  },
  {
   "cell_type": "markdown",
   "id": "96a88442",
   "metadata": {},
   "source": [
    "## 3.1 Calculating benefits and costs of each technology and getting the max benefit technology for each cell\n",
    "\n",
    "The cell below runs the analysis for the technologies specified in the list called `names`. **Note: the technologies in the name list also have to be present in the techno-economic file, otherwise the run will crash.**\n",
    "\n",
    "The run function calculates all benefits and costs. It also determines the net-benefit and selects the stove with the highest net-benefit. \n",
    "\n",
    "For more information on this function, refer to the [documentation](https://onstove-documentation.readthedocs.io/en/latest/generated/onstove.OnStove.run.html)"
   ]
  },
  {
   "cell_type": "code",
   "execution_count": null,
   "id": "2a6c5e67",
   "metadata": {},
   "outputs": [
    {
     "name": "stdout",
     "output_type": "stream",
     "text": [
      "[Sierra Leone] Calculating clean cooking access\n",
      "[Sierra Leone] Getting value of time\n",
      "[Sierra Leone] Calculating base fuel properties\n",
      "\n",
      "The sum of rural technology shares you provided in the tech specs does not equal 1.0.\n",
      "The shares have been adjusted to make the sum 1.0 as follows.\n",
      "If you are not satisfied then please adjust the shares to your liking manually in the tech specs file:\n",
      "      - Collected_Traditional_Biomass 94.880 %\n",
      "      - Kerosene 0.001 %\n",
      "      - LPG 0.012 %\n",
      "      - Traditional_Charcoal 5.107 %\n",
      "\n",
      "\n",
      "The sum of urban technology shares you provided in the tech specs does not equal 1.0.\n",
      "The shares have been adjusted to make the sum 1.0 as follows.\n",
      "If you are not satisfied then please adjust the shares to your liking manually in the tech specs file:\n",
      "      - Collected_Traditional_Biomass 21.130 %\n",
      "      - Electricity 0.016 %\n",
      "      - Kerosene 0.087 %\n",
      "      - LPG 0.364 %\n",
      "      - Traditional_Charcoal 78.403 %\n",
      "\n"
     ]
    }
   ],
   "source": [
    "names = ['Electricity','Traditional_Charcoal' ,'Charcoal ICS' ,\n",
    "         'LPG', 'Biogas', 'Collected_Traditional_Biomass', \n",
    "         'Collected_Improved_Biomass', 'Biomass Forced Draft', 'Pellets Forced Draft']\n",
    "country.run(technologies=names) "
   ]
  },
  {
   "cell_type": "markdown",
   "id": "2440b683",
   "metadata": {},
   "source": [
    "## 3.2. Printing the summaries\n",
    "\n",
    "Prints the summary of the results. Note that the results are relative to the base-line, so in some cases costs and benefits can be negative. For each stove in the results the table includes:\n",
    "\n",
    "* Population using the stove\n",
    "* Households using the stove\n",
    "* Total net-benefit generated across the study area due to the use of the stove\n",
    "* Total number deaths avoided across the study area due to the use of the stove\n",
    "* The total health costs avoided by using the stove across the study area\n",
    "* Hours saved by adopting each stove for every household on average\n",
    "* Opportunity cost due to time saved for each stove type across the study area\n",
    "* Emissions avoided across the study area due to the use of each stove\n",
    "* Emission costs avoided across the study area due to the use of each stove\n",
    "* Total investment costs\n",
    "* Total fuel costs\n",
    "* Total O&M costs (operation and maintenance) \n",
    "* Total salvage costs\n",
    "\n",
    "Each summary statistics area also aggregated across the entire study area."
   ]
  },
  {
   "cell_type": "code",
   "execution_count": null,
   "id": "77a30f80",
   "metadata": {},
   "outputs": [],
   "source": [
    "country.summary()"
   ]
  },
  {
   "cell_type": "markdown",
   "id": "b2d739d6",
   "metadata": {},
   "source": [
    "## 3.3. Saving the results\n",
    "\n",
    "Saves the full results as .pkl-file. It is important to change the name each time you run a scenario to avoid overwriting your old results."
   ]
  },
  {
   "cell_type": "code",
   "execution_count": null,
   "id": "79ca050e",
   "metadata": {},
   "outputs": [],
   "source": [
    "country.to_pickle(\"results.pkl\")"
   ]
  },
  {
   "cell_type": "markdown",
   "id": "e743e657-2088-45b5-b5ff-ee9329665225",
   "metadata": {},
   "source": [
    "[Go back to the top](#OnStove-notebook)"
   ]
  },
  {
   "cell_type": "markdown",
   "id": "43af891e",
   "metadata": {},
   "source": [
    "# 4. Visualization\n",
    "\n",
    "The section below gives an indication of what can be visualized using the OnStove results. Note that the actual result files include more information that can also be visualized and extracted for later use. "
   ]
  },
  {
   "cell_type": "code",
   "execution_count": 5,
   "id": "ce4344b9-f9ca-432c-b7fe-cf5e12a0592b",
   "metadata": {},
   "outputs": [],
   "source": [
    "from onstove import MCA"
   ]
  },
  {
   "cell_type": "code",
   "execution_count": 6,
   "id": "a068d59c",
   "metadata": {},
   "outputs": [],
   "source": [
    "results = OnStove.read_model(f\"{output_directory}/results.pkl\")"
   ]
  },
  {
   "cell_type": "code",
   "execution_count": 34,
   "id": "f9dfc10c-1487-46a6-8616-eb3ec5ed75ae",
   "metadata": {},
   "outputs": [],
   "source": [
    "def set_weights(model, index):\n",
    "    w = model.raster_to_dataframe(index, method='read')\n",
    "    indices = np.where(~np.isnan(w))\n",
    "    return model.gdf.index.map(pd.Series(w, index=[x for x in range(len(w))]))\n",
    "\n",
    "def prioritize_households(model, index, technology, goal):\n",
    "    if 'Prioritized_hh' not in model.gdf.columns:\n",
    "        model.gdf['Prioritized_hh'] = 'None'\n",
    "        \n",
    "    model.gdf['weights'] = 0\n",
    "    model.gdf['weights'] = set_weights(model, index)\n",
    "\n",
    "    households = 0\n",
    "    step = 0.01\n",
    "    i = 1\n",
    "    \n",
    "    if isinstance(technology, list):\n",
    "        tech = technology[0]\n",
    "    else:\n",
    "        tech = technology\n",
    "        technology = [technology]\n",
    "\n",
    "    while households < goal:\n",
    "        bool_vec = (model.gdf['weights'] >= i)# & (model.gdf['max_benefit_tech'].isin(technology))\n",
    "        _households = model.gdf.loc[bool_vec, \"Households\"].sum()\n",
    "\n",
    "        if _households <= (goal * 1.01):\n",
    "            households = _households\n",
    "            model.gdf.loc[bool_vec, 'Prioritized_hh'] = tech\n",
    "        else:\n",
    "            i += step\n",
    "            step *= 0.1\n",
    "\n",
    "        if i == 0:\n",
    "            break\n",
    "        i -= step\n",
    "        if i < 0:\n",
    "            i = 0\n",
    "    if households >= goal:\n",
    "        print(f'Households using {\" or \".join(technology)}:', f'{households:.0f}', 'Goal:', f'{goal:.0f}')\n",
    "    else:\n",
    "        print(f'Goal not reached for {\" or \".join(technology)}, households:', f'{households:.0f}', 'Goal:', f'{goal:.0f}')\n",
    "\n",
    "    model.gdf.drop('weights', axis=1, inplace=True)"
   ]
  },
  {
   "cell_type": "code",
   "execution_count": 9,
   "id": "22d300f5-adee-4cdc-a0f4-d0c1a57f3bda",
   "metadata": {},
   "outputs": [],
   "source": [
    "def available_layers(d, indent=0):\n",
    "    for key, values in d.items():\n",
    "        print(' ' * 4 * indent + '\\033[1m' + str(key) + ':\\033[0m' )\n",
    "        for name in values.keys():\n",
    "            print(' ' * 4 * (indent+1)+ str(name))"
   ]
  },
  {
   "cell_type": "code",
   "execution_count": 10,
   "id": "91213d8d-f49b-42ec-bd41-889289ef0726",
   "metadata": {},
   "outputs": [],
   "source": [
    "import pandas as pd\n",
    "import plotnine as p9\n",
    "from plotnine.stats.stat_boxplot import weighted_percentile\n",
    "import numpy as np"
   ]
  },
  {
   "cell_type": "markdown",
   "id": "f75fa888",
   "metadata": {},
   "source": [
    "## 4.1. Reading the results\n",
    "\n",
    "First we read in the results produced in [step 3](#3.-Model-run)."
   ]
  },
  {
   "cell_type": "code",
   "execution_count": 11,
   "id": "5b9f5fde-94da-4651-a795-d7e08da70b4d",
   "metadata": {
    "scrolled": true
   },
   "outputs": [],
   "source": [
    "#results.to_raster('net_benefit_Electricity', cmap=cmap, labels=labels)\n",
    "res2 = MCA(project_crs=3857, cell_size=(1000, 1000))"
   ]
  },
  {
   "cell_type": "code",
   "execution_count": 12,
   "id": "a480d864-a682-44f3-9104-63590c8ed2f1",
   "metadata": {},
   "outputs": [],
   "source": [
    "adm_path = r\"C:\\Users\\babak\\Documents\\GitHub\\OnStove\\example\\SLE\\Administrative\\Country_boundaries\\Country_boundaries.geojson\"\n",
    "res2.add_mask_layer(category='Administrative', name='Country_boundaries', path=adm_path)"
   ]
  },
  {
   "cell_type": "code",
   "execution_count": 13,
   "id": "087d038b-241f-4956-8dca-fcff756a66d1",
   "metadata": {},
   "outputs": [],
   "source": [
    "path = os.path.join(output_directory,'Demographics','Population', 'Population.tif')\n",
    "res2.add_layer(category='Demographics', name='Population', path=path, layer_type='raster', base_layer=True)"
   ]
  },
  {
   "cell_type": "code",
   "execution_count": 14,
   "id": "37f6168f-775d-478e-82e2-9542cb67f28e",
   "metadata": {},
   "outputs": [
    {
     "name": "stdout",
     "output_type": "stream",
     "text": [
      "\u001b[1mDemographics:\u001b[0m\n",
      "    Population\n",
      "\u001b[1mRasters:\u001b[0m\n",
      "    net_benefit_Electricity_mean\n"
     ]
    }
   ],
   "source": [
    "res2.add_layer(category='Rasters', name='net_benefit_Electricity_mean', \n",
    "                path=os.path.join(output_directory, 'Rasters', 'net_benefit_Electricity_mean.tif'),\n",
    "                layer_type='raster', normalization='MinMax', distance_method=\"proximity\", inverse=False)\n",
    "\n",
    "res2.layers['Rasters']['net_benefit_Electricity_mean'].meta = res2.layers['Demographics']['Population'].meta\n",
    "\n",
    "res2.get_distance_rasters(datasets='all')\n",
    "res2.align_layers(datasets='all')\n",
    "available_layers(res2.layers, indent=0)"
   ]
  },
  {
   "cell_type": "code",
   "execution_count": 15,
   "id": "1304aec8-0ad2-460c-bc2c-fadfd4934e9d",
   "metadata": {},
   "outputs": [],
   "source": [
    "elec_index = res2.get_index(datasets={'Rasters': ['net_benefit_Electricity_mean'], 'Demographics': ['Population']},buffer=False, name='net_benefit_Electricity_mean')"
   ]
  },
  {
   "cell_type": "code",
   "execution_count": 16,
   "id": "02121046-f873-4314-82e4-1ee0db653c74",
   "metadata": {},
   "outputs": [
    {
     "data": {
      "text/plain": [
       "<Axes: >"
      ]
     },
     "execution_count": 16,
     "metadata": {},
     "output_type": "execute_result"
    },
    {
     "data": {
      "image/png": "[encoded data removed]",
      "text/plain": [
       "<Figure size 1600x900 with 2 Axes>"
      ]
     },
     "metadata": {},
     "output_type": "display_data"
    }
   ],
   "source": [
    "scale_bar_prop = dict(size=100000, style='double', textprops=dict(size=11), location=(0.5, 0.02),\n",
    "                      linekw=dict(lw=1, color='black'), extent=0.01, loc='lower center')\n",
    "north_arrow_prop = dict(size=30, location=(0.92, 0.92), linewidth=0.5)\n",
    "elec_index.plot(cmap='magma', ticks=[0, 0.5, 1], tick_labels=['Low', 'Medium', 'High'],\n",
    "                       admin_layer=res2.mask_layer, figsize=(16,9),\n",
    "                       scale_bar=scale_bar_prop, \n",
    "                       north_arrow=north_arrow_prop,\n",
    "                       colorbar_kwargs=dict(orientation='horizontal', x=0.05, y=0.1, width=0.3, height=0.05,\n",
    "                                            title_prop=dict(loc='left', labelpad=-55, fontweight='normal'))\n",
    "                       )"
   ]
  },
  {
   "cell_type": "code",
   "execution_count": 17,
   "id": "a8f18506-c686-436e-9c70-19eb487c03f8",
   "metadata": {},
   "outputs": [
    {
     "data": {
      "text/plain": [
       "499206.83545825316"
      ]
     },
     "execution_count": 17,
     "metadata": {},
     "output_type": "execute_result"
    }
   ],
   "source": [
    "goal = results.gdf['Households'].sum() * 0.25\n",
    "goal"
   ]
  },
  {
   "cell_type": "code",
   "execution_count": 35,
   "id": "c1e189b6-18f5-4dcb-8b74-99ee0110df4e",
   "metadata": {},
   "outputs": [
    {
     "name": "stdout",
     "output_type": "stream",
     "text": [
      "Households using Electricity: 500989 Goal: 499207\n"
     ]
    }
   ],
   "source": [
    "prioritize_households(results, elec_index, 'Electricity', goal)"
   ]
  },
  {
   "cell_type": "code",
   "execution_count": 58,
   "id": "da3fcb63-60ac-4eb1-a3b7-31e690bc8dfc",
   "metadata": {},
   "outputs": [],
   "source": [
    "results.gdf['Prioritized_hh'] = results.gdf.apply(lambda row: row['max_benefit_tech'] if row['Prioritized_hh'] == \"None\" else row['Prioritized_hh'], axis=1)"
   ]
  },
  {
   "cell_type": "code",
   "execution_count": 67,
   "id": "2302bf60-e778-4e73-b3f5-c0a5dfbbe066",
   "metadata": {},
   "outputs": [
    {
     "data": {
      "text/plain": [
       "<Axes: >"
      ]
     },
     "execution_count": 67,
     "metadata": {},
     "output_type": "execute_result"
    },
    {
     "data": {
      "image/png": "[encoded data removed]",
      "text/plain": [
       "<Figure size 1300x900 with 1 Axes>"
      ]
     },
     "metadata": {},
     "output_type": "display_data"
    }
   ],
   "source": [
    "results.plot('Prioritized_hh', cmap=cmap,\n",
    "                   labels=labels,\n",
    "                   legend_position=(1, 0.5), \n",
    "                   figsize=(13, 9),  \n",
    "                   legend_title='Prioritized areas',\n",
    "                   stats=True, \n",
    "                   scale_bar=scale_bar_prop, north_arrow=north_arrow_prop)"
   ]
  },
  {
   "cell_type": "code",
   "execution_count": 45,
   "id": "f65790ed-793e-42bc-b099-3a7ab7e9ee4d",
   "metadata": {},
   "outputs": [],
   "source": [
    "results.extract_lives_saved(column='Prioritized_hh')\n",
    "results.extract_health_costs_saved(column='Prioritized_hh')\n",
    "results.extract_time_saved(column='Prioritized_hh')\n",
    "results.extract_opportunity_cost(column='Prioritized_hh')\n",
    "results.extract_reduced_emissions(column='Prioritized_hh')\n",
    "results.extract_emissions_costs_saved(column='Prioritized_hh')\n",
    "results.extract_investment_costs(column='Prioritized_hh')\n",
    "results.extract_fuel_costs(column='Prioritized_hh')\n",
    "results.extract_om_costs(column='Prioritized_hh')\n",
    "results.extract_salvage(column='Prioritized_hh')"
   ]
  },
  {
   "cell_type": "code",
   "execution_count": 41,
   "id": "82240ac6-5c7d-4c0a-8244-4a929dfbfb6d",
   "metadata": {},
   "outputs": [],
   "source": [
    "results.extract_lives_saved(column='Prioritized_hh')"
   ]
  },
  {
   "cell_type": "markdown",
   "id": "5174e431",
   "metadata": {},
   "source": [
    "## 4.2. Add a country mask layer\n",
    "\n",
    "We read the administrative boundaries polygon. This will be used as a backdrop for the maps. "
   ]
  },
  {
   "cell_type": "code",
   "execution_count": null,
   "id": "8b1ed161",
   "metadata": {},
   "outputs": [],
   "source": [
    "path = os.path.join(output_directory,'Administrative','Country_boundaries', 'Country_boundaries.geojson')\n",
    "mask_layer = VectorLayer('admin', 'adm_0', path=path)\n",
    "results.mask_layer = mask_layer"
   ]
  },
  {
   "cell_type": "markdown",
   "id": "8385e3ad",
   "metadata": {},
   "source": [
    "## 4.3. Setting the color palette and label names\n",
    "\n",
    "Setting the color palette for visualization of the maps and graphs. These are dictionaries containing all the stoves included in the analysis and their html-coded colors."
   ]
  },
  {
   "cell_type": "code",
   "execution_count": 64,
   "id": "2d2e806d",
   "metadata": {},
   "outputs": [],
   "source": [
    "cmap = {\"Biomass ICS (ND)\": '#6F4070', \"LPG\": '#66C5CC', \"Biomass\": '#FFB6C1',\n",
    "        \"Biomass ICS (FD)\": '#af04b3', \"Pellets ICS (FD)\": '#ef02f5',\n",
    "        \"Charcoal\": '#364135', \"Charcoal ICS\": '#d4bdc5',\n",
    "        \"Biogas\": '#73AF48', \"Biogas and Biomass ICS (ND)\": \"#F6029E\",\n",
    "        \"Biogas and Biomass ICS (FD)\": \"#F6029E\",\n",
    "        \"Biogas and Pellets ICS (FD)\": \"#F6029E\",\n",
    "        \"Biogas and LPG\": \"#0F8554\", \"Biogas and Biomass\": \"#266AA6\",\n",
    "        \"Biogas and Charcoal\": \"#3B05DF\",\n",
    "        \"Biogas and Charcoal ICS\": \"#3B59DF\",\n",
    "        \"Electricity\": '#CC503E', \"Electricity and Biomass ICS (ND)\": \"#B497E7\",\n",
    "        \"Electricity and Biomass ICS (FD)\": \"#B497E7\",\n",
    "        \"Electricity and Pellets ICS (FD)\": \"#B497E7\",\n",
    "        \"Electricity and LPG\": \"#E17C05\", \"Electricity and Biomass\": \"#FFC107\",\n",
    "        \"Electricity and Charcoal ICS\": \"#660000\",\n",
    "        \"Electricity and Biogas\": \"#f97b72\",\n",
    "        \"Electricity and Charcoal\": \"#FF0000\"}\n",
    "\n",
    "labels = {\"Biogas and Electricity\": \"Electricity and Biogas\",\n",
    "          \"Electricity and Electricity\": \"Electricity\",\n",
    "          'Collected Traditional Biomass': 'Biomass',\n",
    "          'Collected Improved Biomass': 'Biomass ICS (ND)',\n",
    "          'Traditional Charcoal': 'Charcoal',\n",
    "          'Biomass Forced Draft': 'Biomass ICS (FD)',\n",
    "          'Pellets Forced Draft': 'Pellets ICS (FD)'}"
   ]
  },
  {
   "cell_type": "markdown",
   "id": "8fe22ae8",
   "metadata": {},
   "source": [
    "## 4.4. Printing map with stoves with highest net-benefit in each settlement\n",
    "\n",
    "Visualize maps of the stoves with the highest net-benefits together with some important summary results. \n",
    "\n",
    "Find out more about this function in the [documentation](https://onstove-documentation.readthedocs.io/en/latest/generated/onstove.OnStove.plot.html).\n"
   ]
  },
  {
   "cell_type": "code",
   "execution_count": null,
   "id": "6758e8d8",
   "metadata": {},
   "outputs": [],
   "source": [
    "results.plot('max_benefit_tech', cmap=cmap, \n",
    "             title=f'Maximum net-benefit cooking technology', \n",
    "             figsize=(5, 7),\n",
    "             labels=labels, legend=True, legend_title='Maximum benefit\\ncooking technology', \n",
    "             legend_position=(1, 0.6),\n",
    "             legend_prop={'title': {'size': 10, 'weight': 'bold'}, 'size': 9},\n",
    "             rasterized=True, stats=True, \n",
    "             # stats_kwargs={'extra_stats': None, 'fontsize': 10, 'stats_position': (1, 0.9), 'pad': 2, 'sep': 0, 'fontcolor': 'black', 'fontweight': 'normal',\n",
    "             #               'box_props': dict(facecolor='lightyellow', edgecolor='black', alpha=1, boxstyle=\"sawtooth\")},\n",
    "             dpi=300, \n",
    "             save_as='map.png'\n",
    "            )"
   ]
  },
  {
   "cell_type": "markdown",
   "id": "4b5ee671",
   "metadata": {},
   "source": [
    "## 4.5. Printing population split in the study area\n",
    "\n",
    "Prints the population split describing the percentage of population cooking with different stoves.\n",
    "\n",
    "Find out more about this function in the [documentation](https://onstove-documentation.readthedocs.io/en/latest/generated/onstove.OnStove.plot_split.html)."
   ]
  },
  {
   "cell_type": "code",
   "execution_count": 69,
   "id": "57ce1806",
   "metadata": {},
   "outputs": [
    {
     "data": {
      "image/png": "[encoded data removed]",
      "text/plain": [
       "<Figure size 250x150 with 1 Axes>"
      ]
     },
     "execution_count": 69,
     "metadata": {
      "image/png": {
       "height": 150,
       "width": 250
      }
     },
     "output_type": "execute_result"
    }
   ],
   "source": [
    "results.plot_split(fill = \"Prioritized_hh\", cmap=cmap, labels=labels, dpi=300, save_as=\"pop_split.png\")"
   ]
  },
  {
   "cell_type": "markdown",
   "id": "62e5d116",
   "metadata": {},
   "source": [
    "## 4.6. Printing the costs and benefits for each stove category selected\n",
    "\n",
    "Prints the costs and benefits of each stove type.\n",
    "\n",
    "Find out more about this function in the [documentation](https://onstove-documentation.readthedocs.io/en/latest/generated/onstove.OnStove.plot_costs_benefits.html)."
   ]
  },
  {
   "cell_type": "code",
   "execution_count": null,
   "id": "9e58c0aa",
   "metadata": {},
   "outputs": [],
   "source": [
    "results.plot_costs_benefits(labels=labels, height=1.5, width=3, dpi=300, save_as='benefits.png',\n",
    "                            legend_args=dict(legend_position=(0.5, -0.25), legend_direction='horizontal', ncol=2))"
   ]
  },
  {
   "cell_type": "markdown",
   "id": "6a0f8865",
   "metadata": {},
   "source": [
    "## 4.7. Printing stove shares in relation to wealth\n",
    "\n",
    "Prints the range of net-benefit for each stove included in the results.\n",
    "\n",
    "Find out more about this function in the [documentation](https://onstove-documentation.readthedocs.io/en/latest/generated/onstove.OnStove.plot_benefit_distribution.html)."
   ]
  },
  {
   "cell_type": "code",
   "execution_count": null,
   "id": "e9747a92",
   "metadata": {},
   "outputs": [],
   "source": [
    "results.plot_distribution(type='histogram', groupby='None', cmap=cmap, labels=labels, \n",
    "                          hh_divider=1000, y_title='Households (k)',\n",
    "                          quantiles=True,\n",
    "                          height=1.5, width=3.5, dpi=300, save_as='dist.png')"
   ]
  },
  {
   "cell_type": "markdown",
   "id": "b9c1d77d",
   "metadata": {},
   "source": [
    "## 4.8. Printing the maximum net-benefit across the study area\n",
    "\n",
    "Visualize the maximum net-benefit spatially. \n",
    "\n",
    "Find out more about this function in the [documentation](https://onstove-documentation.readthedocs.io/en/latest/generated/onstove.OnStove.plot.html)."
   ]
  },
  {
   "cell_type": "code",
   "execution_count": null,
   "id": "5b1bd561",
   "metadata": {},
   "outputs": [],
   "source": [
    "results.plot('maximum_net_benefit', cmap='magma', metric='per_household')"
   ]
  },
  {
   "cell_type": "markdown",
   "id": "d5404b10",
   "metadata": {},
   "source": [
    "## 4.9. Printing the total costs across the study area\n",
    "\n",
    "Visualize the total costs spatially.\n",
    "\n",
    "Find out more about this function in the [documentation](https://onstove-documentation.readthedocs.io/en/latest/generated/onstove.OnStove.plot.html)."
   ]
  },
  {
   "cell_type": "code",
   "execution_count": null,
   "id": "7a877598",
   "metadata": {},
   "outputs": [],
   "source": [
    "results.gdf['total_costs'] = results.gdf['investment_costs'] - results.gdf['salvage_value'] + results.gdf['fuel_costs'] + results.gdf['om_costs']\n",
    "results.plot('total_costs', cmap='magma', metric='per_household')"
   ]
  },
  {
   "cell_type": "markdown",
   "id": "d7da1cc3",
   "metadata": {},
   "source": [
    "## 4.10. Saving selected results\n",
    "\n",
    "Saving selected results as rasters.\n",
    "\n",
    "Find out more about this function in the [documentation](https://onstove-documentation.readthedocs.io/en/latest/generated/onstove.OnStove.to_raster.html)."
   ]
  },
  {
   "cell_type": "code",
   "execution_count": null,
   "id": "4574f0d1",
   "metadata": {},
   "outputs": [],
   "source": [
    "results.to_raster('max_benefit_tech', cmap=cmap, labels=labels)\n",
    "results.to_raster('maximum_net_benefit', metric='per_household')\n",
    "results.to_raster('maximum_net_benefit', metric='total')\n",
    "results.to_raster('net_benefit_LPG', metric='per_household')\n",
    "results.to_raster('net_benefit_Biogas', metric='per_household')\n",
    "results.to_raster('net_benefit_Collected_Improved_Biomass', metric='per_household')\n",
    "results.to_raster('total_costs', metric='per_household')\n",
    "results.to_raster('investment_costs', metric='total')\n",
    "results.to_raster('deaths_avoided', metric='per_100k')\n",
    "results.to_raster('time_saved', metric='per_household')\n",
    "results.to_raster('reduced_emissions', metric='total')\n",
    "results.to_raster('health_costs_avoided', metric='total')\n",
    "results.to_raster('Households', metric='sum')"
   ]
  },
  {
   "cell_type": "markdown",
   "id": "9f267f51-4c24-4051-9c8e-855fc0190fa8",
   "metadata": {},
   "source": [
    "[Go back to the top](#OnStove-notebook)"
   ]
  }
 ],
 "metadata": {
  "kernelspec": {
   "display_name": "Python 3 (ipykernel)",
   "language": "python",
   "name": "python3"
  },
  "language_info": {
   "codemirror_mode": {
    "name": "ipython",
    "version": 3
   },
   "file_extension": ".py",
   "mimetype": "text/x-python",
   "name": "python",
   "nbconvert_exporter": "python",
   "pygments_lexer": "ipython3",
   "version": "3.12.2"
  }
 },
 "nbformat": 4,
 "nbformat_minor": 5
}
