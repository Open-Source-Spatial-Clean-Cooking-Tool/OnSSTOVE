{
 "cells": [
  {
   "cell_type": "markdown",
   "id": "4886a6f1",
   "metadata": {},
   "source": [
    "# OnStove notebook\n",
    "\n",
    "This is the OnStove notebook. The purpose of the notebook is to give users the ability to run through the analysis with example data and it can therefore act as a complement to the publication and read the docs documentation.\n",
    "\n",
    "The notebook is divded into 4 major parts: \n",
    "* **Data processing** - In this part of the analysis different geospatial datasets are read and processed to be used in the analysis. The datasets from this step are saved on the users computer. For future runs on the same area of interest this step can consquently be skipped unless datasets are switched. \n",
    "* **Calibration** - In this part the area of interest is calibrated. Raster cells are classified as either urban or rural, the electrification rate in different cells are determined and the rates of differet cooking fuels across settlements are calibrated. The calibrated data is saved in .pkl-file   \n",
    "* **Model run** - The net-benefit for different stoves are determined in different parts of the study area. Summaries of the results documenting the benefits and costs of each stove type across the entire study area are produced. The results are saved as .pkl-file.  \n",
    "* **Visualization** - Visulizing and saving different maps related to the results.\n",
    "\n",
    "Each part of the notebook is divided into several different cells and each cell is described more in depth."
   ]
  },
  {
   "cell_type": "code",
   "execution_count": 1,
   "id": "f971720a",
   "metadata": {},
   "outputs": [],
   "source": [
    "import os, sys, requests, zipfile\n",
    "import geopandas as gpd\n",
    "import pandas as pd\n",
    "sys.path.append(\"..\")"
   ]
  },
  {
   "cell_type": "code",
   "execution_count": 2,
   "id": "17d50723",
   "metadata": {},
   "outputs": [],
   "source": [
    "%load_ext autoreload"
   ]
  },
  {
   "cell_type": "code",
   "execution_count": 3,
   "id": "dfc36ae0",
   "metadata": {},
   "outputs": [],
   "source": [
    "%autoreload 2\n",
    "from onstove import OnStove, DataProcessor, RasterLayer, VectorLayer\n",
    "# from onstove.raster import interpolate\n",
    "import time"
   ]
  },
  {
   "cell_type": "markdown",
   "id": "dfceb859",
   "metadata": {},
   "source": [
    "## Create a data processor\n",
    "\n",
    "This cell creates your dataprocessor. The dataprocessor is your model and will set the base for your model. OnStove is a raster-based model, hence the resolution becomes important. We specify the resolution when creating the dataprocessor together with the coordinate sytsem. This will ensure that all rasters are resampled to the correct resolution and all datasets (vectors and rasters) are reprojected to the target coordinate system.\n",
    "\n",
    "In this example we use the world mercator coordinate system (EPSG:3395) and a spatial resolution of 1 sq. km. \n",
    "\n",
    "**Note:** This section of the code the user only needs to run once unless the geospatial datasets do not change in between runs. "
   ]
  },
  {
   "cell_type": "code",
   "execution_count": 4,
   "id": "06c618a9",
   "metadata": {},
   "outputs": [],
   "source": [
    "start = time.time()\n",
    "\n",
    "data = DataProcessor(project_crs=3857, cell_size=(1000, 1000))\n",
    "output_directory = '../example/results'\n",
    "data.output_directory = output_directory"
   ]
  },
  {
   "cell_type": "markdown",
   "id": "ff486094",
   "metadata": {},
   "source": [
    "**Downloading and saving the techno-economic specification file**"
   ]
  },
  {
   "cell_type": "markdown",
   "id": "54f7078f",
   "metadata": {},
   "source": [
    "# Downloading example data from the Mendeley database"
   ]
  },
  {
   "cell_type": "code",
   "execution_count": 12,
   "id": "0a50019a",
   "metadata": {},
   "outputs": [
    {
     "data": {
      "text/plain": [
       "8081"
      ]
     },
     "execution_count": 12,
     "metadata": {},
     "output_type": "execute_result"
    }
   ],
   "source": [
    "tech_specs = r\"https://data.mendeley.com/public-files/datasets/7y943f6wf8/files/9129fac1-826b-451d-9c7d-808082e34d23/file_downloaded\"\n",
    "response = requests.get(tech_specs)\n",
    "open(\"tech_specs.csv\", \"wb\").write(response.content)"
   ]
  },
  {
   "cell_type": "markdown",
   "id": "f927de1e",
   "metadata": {},
   "source": [
    "**Downloading and saving the socio-economic specification file**"
   ]
  },
  {
   "cell_type": "code",
   "execution_count": 13,
   "id": "80d868c5",
   "metadata": {},
   "outputs": [
    {
     "data": {
      "text/plain": [
       "1426"
      ]
     },
     "execution_count": 13,
     "metadata": {},
     "output_type": "execute_result"
    }
   ],
   "source": [
    "soc_specs = r\"https://data.mendeley.com/public-files/datasets/7y943f6wf8/files/a8ab09e4-e561-4df9-b78e-3ea0718dbcd7/file_downloaded\"\n",
    "response = requests.get(soc_specs)\n",
    "open(\"soc_specs.csv\", \"wb\").write(response.content)"
   ]
  },
  {
   "cell_type": "markdown",
   "id": "bfadf48d",
   "metadata": {},
   "source": [
    "**Downloading, saving and unzipping the GIS data**"
   ]
  },
  {
   "cell_type": "code",
   "execution_count": 14,
   "id": "6048ecb3",
   "metadata": {},
   "outputs": [],
   "source": [
    "gis_data = r\"https://data.mendeley.com/public-files/datasets/7y943f6wf8/files/58507d24-8996-4857-b528-6543165bbe13/file_downloaded\"\n",
    "response = requests.get(gis_data)\n",
    "open(\"gis_data.zip\", \"wb\").write(response.content)\n",
    "\n",
    "with zipfile.ZipFile(\"gis_data.zip\",\"r\") as zip_ref:\n",
    "    zip_ref.extractall(\"gis_data\")"
   ]
  },
  {
   "cell_type": "markdown",
   "id": "4ed4c26c",
   "metadata": {},
   "source": [
    "# 1. Data processing"
   ]
  },
  {
   "cell_type": "markdown",
   "id": "88c6c4be",
   "metadata": {},
   "source": [
    "## 1.1. Add a mask and base \n",
    "\n",
    "The mask layer dictates what falls within your area of interest and what is excluded from your analysis. For mask layer we use the administrative boundaries of the country.\n",
    "\n",
    "For this a function called *add_mask_layer*. *add_mask_layer* takes four inputs:\n",
    "1. `category`- referencing the cateogry of the layer\n",
    "2. `name` - referencing the name of the layer\n",
    "3. `layer_path` - from where to read the data\n",
    "4. `postgres` - boolean determining indicating whether the data is saved on disc or in a PostgreSQL database. Default is `False`, meaning the dataset is saved on the disc.\n",
    "\n",
    "Find more information about this function in the [documentation](https://onstove-documentation.readthedocs.io/en/latest/generated/onstove.onstove.DataProcessor.add_mask_layer.html)"
   ]
  },
  {
   "cell_type": "code",
   "execution_count": 16,
   "id": "aa56ba93",
   "metadata": {},
   "outputs": [],
   "source": [
    "adm_path = r\"../example/gis_data/Administrative/Country_boundaries/Country_boundaries.geojson\"\n",
    "data.add_mask_layer(category='Administrative', name='Country_boundaries', path=adm_path)"
   ]
  },
  {
   "cell_type": "markdown",
   "id": "69f46476",
   "metadata": {},
   "source": [
    "## 1.2. Add GIS layers"
   ]
  },
  {
   "cell_type": "markdown",
   "id": "d1a23dd9",
   "metadata": {},
   "source": [
    "Similarly, we can add data layers using the `add_layer` method. A layer `name`, `layer_path` and `postgres` conection also need to be provided (the `postgres` conection defaults to `False`). In addition, the following arguments can be passed:\n",
    "* `category`: this is used to group all datasets into a category in the final output, e.g. `demand` or `supply`. \n",
    "* `layer_type`: this argument is required with two possible options `raster` or `vector`, we should pass either one according to the dataset you are adding. \n",
    "* `resample`: this defines what resampling method to use when changing the resolution of the raster. The change of resolution happens when the layer gets aligned with the base layer.\n",
    "\n",
    "Find more information about this function in the [documentation](https://onstove-documentation.readthedocs.io/en/latest/generated/onstove.onstove.DataProcessor.add_layer.html).\n",
    "\n",
    "In the cells below the following datasets are read:\n",
    "\n",
    "* **Population raster** - a raster layer describing the spatial distribution of peoeple acorss the study area\n",
    "* **Urban-rural split raster** - a raster layer describing which areas that can be considered urban and rural respectively \n",
    "* **Forest raster** - a raster layer describing where forest is availble and where it is not. This is used in order to estimate how far people have to travel in order to collect biomass.\n",
    "* **Friction raster** - a raster layer describing the walking-only friction across the study area (the time it takes to travel across different cells of the study area by foot). This is used in order to determine the collection time of manure (for biogas) and biomass. \n",
    "* **Medium voltage line vector file** - a line vector layer showing the availability of medium voltage lines. This is used in order to estimate which settlements are electrified and which ones are not. Users can also use either transformers or high-voltage lines if available. \n",
    "* **Nighttime lights raster** - a raster showing the intensity of anthropogenic light sources. This is used as a proxy for determinig who may have electricity and how does not. \n",
    "* **Traveltime raster** - a map showing the time it takes to travel to the closest city with motorized transport. This is used in order to estimate transportation cost of LPG. A user can also provide LPG suppliers (as a point layer) and a motorized friction map to determine the travel time instead of a traveltime map.\n",
    "* **Livestock rasters** - raster layers showing the headcounts of different livestock (buffaloes, cattles, poultry, goats, pigs and sheeps). This is used in order to assess the availability of manure in different cells of the study area. \n",
    "* **Temperature raster** - raster layer describing the temperature across the study area. This is used in order to assess the possibility of using biogas. [If the average temperature decreases below 10 degrees celsius the conversion of small scale biogas digesters reduces significantly making them unviable](https://www.sciencedirect.com/science/article/pii/S2213138821003118)."
   ]
  },
  {
   "cell_type": "markdown",
   "id": "d8d62164",
   "metadata": {},
   "source": [
    "### 1.2.1. Demographics"
   ]
  },
  {
   "cell_type": "code",
   "execution_count": 17,
   "id": "af1ef16b",
   "metadata": {},
   "outputs": [],
   "source": [
    "pop_path = r\"../example/gis_data/Population/Population.tif\"\n",
    "data.add_layer(category='Demographics', name='Population', \n",
    "               path=pop_path, layer_type='raster', resample='sum')\n",
    "\n",
    "urban_path = r\"../example/gis_data/Urban/Urban.tif\"\n",
    "data.add_layer(category='Demographics', name='Urban_rural_divide', \n",
    "               path=urban_path, layer_type='raster', resample='nearest')"
   ]
  },
  {
   "cell_type": "markdown",
   "id": "2ee96f83",
   "metadata": {},
   "source": [
    "### 1.2.2. Biomass"
   ]
  },
  {
   "cell_type": "code",
   "execution_count": 18,
   "id": "744cde58",
   "metadata": {},
   "outputs": [],
   "source": [
    "forest_path = r\"../example/gis_data/Forest/Forest.tif\"\n",
    "data.add_layer(category='Biomass', name='Forest', \n",
    "               path=forest_path, layer_type='raster', resample='average')\n",
    "\n",
    "friction_path = r\"../example/gis_data/Friction/Friction.tif\"\n",
    "data.add_layer(category='Biomass', name='Friction', path=friction_path, \n",
    "               layer_type='raster', resample='average')"
   ]
  },
  {
   "cell_type": "markdown",
   "id": "fb9d0d50",
   "metadata": {},
   "source": [
    "### 1.2.3. Electricity"
   ]
  },
  {
   "cell_type": "code",
   "execution_count": 19,
   "id": "ebc1371f",
   "metadata": {},
   "outputs": [],
   "source": [
    "mv_path = r\"../example/gis_data/MV lines/MV_lines.geojson\"\n",
    "data.add_layer(category='Electricity', name='MV_lines', \n",
    "               path=mv_path, layer_type='vector')\n",
    "\n",
    "ntl_path = r\"../example/gis_data/Night time lights/Night_time_lights.tif\"\n",
    "data.add_layer(category='Electricity', name='Night_time_lights', \n",
    "               path=ntl_path, layer_type='raster', resample='average')"
   ]
  },
  {
   "cell_type": "markdown",
   "id": "21abac21",
   "metadata": {},
   "source": [
    "### 1.2.4. LPG"
   ]
  },
  {
   "cell_type": "code",
   "execution_count": 20,
   "id": "6792937a",
   "metadata": {},
   "outputs": [],
   "source": [
    "lpg_path = r\"../example/gis_data/Traveltime/Traveltime.tif\"\n",
    "data.add_layer(category='LPG', name='LPG Traveltime', \n",
    "               path=lpg_path, layer_type='raster', resample='average')"
   ]
  },
  {
   "cell_type": "markdown",
   "id": "9c5f95a1",
   "metadata": {},
   "source": [
    "### 1.2.5. Biogas"
   ]
  },
  {
   "cell_type": "code",
   "execution_count": 21,
   "id": "31d3dd77",
   "metadata": {},
   "outputs": [],
   "source": [
    "buffaloes = r\"../example/gis_data/Livestock/buffaloes/buffaloes.tif\"\n",
    "cattles = r\"../example/gis_data/Livestock/cattles/cattles.tif\"\n",
    "poultry = r\"../example/gis_data/Livestock/poultry/poultry.tif\"\n",
    "goats = r\"../example/gis_data/Livestock/goats/goats.tif\"\n",
    "pigs = r\"../example/gis_data/Livestock/pigs/pigs.tif\"\n",
    "sheeps = r\"../example/gis_data/Livestock/sheeps/sheeps.tif\"\n",
    "\n",
    "for key, path in {'buffaloes': buffaloes,\n",
    "                  'cattles': cattles,\n",
    "                  'poultry': poultry,\n",
    "                  'goats': goats,\n",
    "                  'pigs': pigs,\n",
    "                  'sheeps': sheeps}.items():\n",
    "    data.add_layer(category='Biogas/Livestock', name=key, path=path,\n",
    "                   layer_type='raster', resample='nearest', rescale=True)"
   ]
  },
  {
   "cell_type": "code",
   "execution_count": 22,
   "id": "b8d4106a",
   "metadata": {},
   "outputs": [],
   "source": [
    "temperature = r\"../example/gis_data/Temperature/Temperature.tif\"\n",
    "data.add_layer(category='Biogas', name='Temperature', path=temperature,\n",
    "               layer_type='raster', resample='average')\n",
    "data.layers['Biogas']['Temperature'].save(f'{data.output_directory}/Biogas/Temperature')"
   ]
  },
  {
   "cell_type": "markdown",
   "id": "523cfa9f",
   "metadata": {},
   "source": [
    "Lastly a raster base layer is needed to make every output match its grid and extent. For this, two additional options need to be passed to the `add_layer` method:\n",
    "* `base_layer`: if `True` the added layer will be considered as the base layer. \n",
    "* `resample`: this is the resampling method to be used when resampling this layer to the desired `cell_size` if a `cell_size` is provided.\n",
    "\n",
    "Find more information about this function in the [documentation](https://onstove-documentation.readthedocs.io/en/latest/generated/onstove.onstove.DataProcessor.add_layer.html)."
   ]
  },
  {
   "cell_type": "code",
   "execution_count": 23,
   "id": "9280ca7a",
   "metadata": {},
   "outputs": [],
   "source": [
    "data.add_layer(category='Base', name='Base', path=r\"../example/gis_data/Forest/Forest.tif\",\n",
    "               layer_type='raster', base_layer=True, resample='nearest')"
   ]
  },
  {
   "cell_type": "markdown",
   "id": "86d63091",
   "metadata": {},
   "source": [
    "## 1.3. Mask reproject and align all required layers"
   ]
  },
  {
   "cell_type": "markdown",
   "id": "cbe1815b",
   "metadata": {},
   "source": [
    "The cell below masks all of the read datasets (rasters and vectors) and categorizes them in different groups. Each dataset that is clipped here is saved in their respective subfolder (e.g. Demographics) under the output_directory specified in [cell 1.1](#1.1.-Create-a-data-processor).\n",
    "\n",
    "Find more information about this function in the [documenation](https://onstove-documentation.readthedocs.io/en/latest/generated/onstove.onstove.DataProcessor.mask_layers.html)."
   ]
  },
  {
   "cell_type": "code",
   "execution_count": 24,
   "id": "78ca05b5",
   "metadata": {},
   "outputs": [],
   "source": [
    "data.mask_layers(datasets={'Demographics': ['Population', 'Urban_rural_divide'],\n",
    "                           'Biomass': ['Forest', 'Friction'],\n",
    "                           'Electricity': ['Night_time_lights', 'MV_lines'],\n",
    "                           'LPG': ['LPG Traveltime'],\n",
    "                           'Biogas': ['Temperature']})"
   ]
  },
  {
   "cell_type": "markdown",
   "id": "7e1428a5",
   "metadata": {},
   "source": [
    "Next, all raster datasets are aligned with the base layer selected in [cell 1.2](#1.2.-Add-a-mask-and-base). When aligning the function ensures that the coordinate sysmtem and resolution of all rasters are the same as the user specifies in [cell 1.1](#1.1.-Create-a-data-processor). \n",
    "\n",
    "Find more information about this function in the [documentation](https://onstove-documentation.readthedocs.io/en/latest/generated/onstove.onstove.DataProcessor.align_layers.html)."
   ]
  },
  {
   "cell_type": "code",
   "execution_count": 25,
   "id": "ca33cc5c",
   "metadata": {},
   "outputs": [],
   "source": [
    "data.align_layers(datasets='all')"
   ]
  },
  {
   "cell_type": "markdown",
   "id": "a3961fcd",
   "metadata": {},
   "source": [
    "Lastly, the vector files (apart from the mask layer) are reprojected. This is done using the `reprojected_layers` function. The source coordinate system does not influence the process and the target coordinate system is the same as the one entered by the user in [cell 1.1](#1.1.-Create-a-data-processor). \n",
    "\n",
    "Find more information about this function in the [documentation](https://onstove-documentation.readthedocs.io/en/latest/generated/onstove.onstove.DataProcessor.reproject_layers.html)."
   ]
  },
  {
   "cell_type": "code",
   "execution_count": 26,
   "id": "f87b244f",
   "metadata": {},
   "outputs": [],
   "source": [
    "data.reproject_layers(datasets={'Electricity': ['MV_lines']})"
   ]
  },
  {
   "cell_type": "code",
   "execution_count": 27,
   "id": "3ffdf378",
   "metadata": {},
   "outputs": [
    {
     "name": "stdout",
     "output_type": "stream",
     "text": [
      "Execution time: 0 min 41 sec\n"
     ]
    }
   ],
   "source": [
    "end = time.time()\n",
    "\n",
    "diff = end - start\n",
    "print('Execution time:', str(str(int(diff//60))) + ' min ' + str(int((diff)%60)) + ' sec')"
   ]
  },
  {
   "cell_type": "markdown",
   "id": "e462599d",
   "metadata": {},
   "source": [
    "# 2. Calibration\n",
    "\n",
    "The calibration step does two things 1) it adds the datasets processed in the previous step to a settlement file that will be used in [step 3](#3.-Model-run) for determining the net-benefit in different settlements and 2) calibrating the file with regards to total population, urban-rural split and electrification rate. \n",
    "\n",
    "**Note:** Similar to the data processing step, this step is only needed once unless you change anything in the inputs"
   ]
  },
  {
   "cell_type": "markdown",
   "id": "7a74dfc6",
   "metadata": {},
   "source": [
    "## 2.1. Read the model data"
   ]
  },
  {
   "cell_type": "markdown",
   "id": "3e90be48",
   "metadata": {},
   "source": [
    "The cell below reads the socio-economic specification file. This file is needed as it contains the electrificaiton and urban rates and the actual population in the study area (often the GIS datasets of populations have slighlty outdated values of population). The scenario data is saved in dictionary that can be called upon with `country.specs`"
   ]
  },
  {
   "cell_type": "code",
   "execution_count": 125,
   "id": "6a2d1074",
   "metadata": {},
   "outputs": [],
   "source": [
    "country = OnStove()\n",
    "path = os.path.join('..', 'example','soc_specs.csv')\n",
    "country.read_scenario_data(path, delimiter=',')"
   ]
  },
  {
   "cell_type": "code",
   "execution_count": 126,
   "id": "518e0fb6",
   "metadata": {},
   "outputs": [],
   "source": [
    "country.specs[\"end_year_target\"] = 1\n",
    "country.specs[\"population_start_year\"]=30733755\n",
    "country.specs[\"population_end_year\"]=32833000\n",
    "country.specs[\"end_year\"]=2022\n",
    "country.specs[\"urban_end\"]=0.579"
   ]
  },
  {
   "cell_type": "markdown",
   "id": "b220bd4c",
   "metadata": {},
   "source": [
    "## 2.2. Add a population base layer\n",
    "\n",
    "The population layer is read with `add_layer` and is turned into a dataframe with a column for population using the `population_to_dataframe`. This dataframe will be used to add all the other geospatial datasets and calculate the results on.\n",
    "\n",
    "Lastly, the population of the dataframe is calibrated to the current population added in the socio-economic specification file using the `calibrate_current_pop` function\n",
    "\n",
    "Find more information about these function in [here](https://onstove-documentation.readthedocs.io/en/latest/generated/onstove.onstove.OnStove.population_to_dataframe.html) and [here](https://onstove-documentation.readthedocs.io/en/latest/generated/onstove.onstove.OnStove.calibrate_current_pop.html)."
   ]
  },
  {
   "cell_type": "code",
   "execution_count": 127,
   "id": "42ada266",
   "metadata": {},
   "outputs": [],
   "source": [
    "path = os.path.join(output_directory,'Demographics','Population', 'Population.tif')\n",
    "country.add_layer(category='Demographics', name='Population', path=path, layer_type='raster', base_layer=True)\n",
    "country.population_to_dataframe()"
   ]
  },
  {
   "cell_type": "markdown",
   "id": "51c5eba9",
   "metadata": {},
   "source": [
    "## 2.3. Calibrate urban/rural split\n",
    "\n",
    "The function `calibrate_urban_current_and_future_GHS` is used to classify different rows in of the dataframe produced in the previous step as either urban or rural. This is based on the [GHS dataset](https://ghsl.jrc.ec.europa.eu/download.php?ds=smod). This is important for the baseyear calculations as urban and rural shares of different stoves (and electrification rates) tend to differ.\n",
    "\n",
    "Find more information about this function in the [documentation](https://onstove-documentation.readthedocs.io/en/latest/generated/onstove.onstove.OnStove.calibrate_urban_current_and_future_GHS.html)"
   ]
  },
  {
   "cell_type": "code",
   "execution_count": 128,
   "id": "5bb5e828",
   "metadata": {
    "scrolled": true
   },
   "outputs": [],
   "source": [
    "ghs_path = output_directory + r\"/Demographics/Urban_rural_divide/Urban_rural_divide.tif\"\n",
    "country.calibrate_urban_rural_split(ghs_path)"
   ]
  },
  {
   "cell_type": "markdown",
   "id": "d9c83773",
   "metadata": {},
   "source": [
    "## 2.4. Add wealth index GIS data and determine the value of time\n",
    "\n",
    "Next, the Relative Wealth Index (RWI) is added to the dataframe and used in order to estimate the monetary value of time. As the RWI in this example is a csv-file it is not read and added with the other datasets. Instead the function `extract_wealth_index` is used. \n",
    "\n",
    "Find more information about this function in the [documentation](https://onstove-documentation.readthedocs.io/en/latest/generated/onstove.onstove.OnStove.extract_wealth_index.html)\n",
    "\n",
    "The extracted RWI is then transformed to value of time using the function `get_value_of_time`. \n",
    "\n",
    "Find more information about this function in the [documentation](https://onstove-documentation.readthedocs.io/en/latest/generated/onstove.onstove.OnStove.get_value_of_time.html)"
   ]
  },
  {
   "cell_type": "code",
   "execution_count": 129,
   "id": "2dafe386",
   "metadata": {},
   "outputs": [],
   "source": [
    "wealth_index = r\"../example/gis_data/Relative wealth index/GHA_relative_wealth_index.csv\"\n",
    "country.extract_wealth_index(wealth_index, file_type=\"csv\")\n",
    "country.get_value_of_time()"
   ]
  },
  {
   "cell_type": "markdown",
   "id": "408c3095",
   "metadata": {},
   "source": [
    "## 2.5. Calculate distance to electricity infrastructure \n",
    "\n",
    "To estimate electricity access rates in different cells across the study area the distance to electricity related infrastructure is important. The following section of the code reads the MV-lines that were processed in the data processing parts and determines the distance between every settlement (raster cell in the population map) and the closest MV-line. This is done using a function called `distance_to_electricity`. \n",
    "\n",
    "**Note**: in the following example MV-lines were used for this, but transformers or HV-lines can also be used if available.\n",
    "\n",
    "Find more information about this function in the [documentation](https://onstove-documentation.readthedocs.io/en/latest/generated/onstove.onstove.OnStove.distance_to_electricity.html)."
   ]
  },
  {
   "cell_type": "code",
   "execution_count": 130,
   "id": "f7d37042",
   "metadata": {},
   "outputs": [],
   "source": [
    "path = os.path.join(output_directory, 'Electricity', 'MV_lines', 'MV_lines.geojson')\n",
    "mv_lines = VectorLayer('Electricity', 'MV_lines', path=path)\n",
    "country.distance_to_electricity(mv_lines=mv_lines)"
   ]
  },
  {
   "cell_type": "markdown",
   "id": "551c0bdc",
   "metadata": {},
   "source": [
    "## 2.6. Add nighttime lights data\n",
    "\n",
    "Nighttime lights are also important for the electrification calibration as it can give you an idication of where electricity consumption is present. The nighttime light map should already have been processed in the [Data processing](#1.-Data-processing) section and therefore, it is only read here and added to the dataframe using the function `raster_to_dataframe`. \n",
    "\n",
    "Find out more the function in the [documentation](https://onstove-documentation.readthedocs.io/en/latest/generated/onstove.onstove.OnStove.raster_to_dataframe.html)"
   ]
  },
  {
   "cell_type": "code",
   "execution_count": 131,
   "id": "04e8464f",
   "metadata": {},
   "outputs": [],
   "source": [
    "path = os.path.join(output_directory, 'Electricity', 'Night_time_lights', 'Night_time_lights.tif')\n",
    "ntl = RasterLayer('Electricity', 'Night_time_lights', path=path)\n",
    "\n",
    "country.raster_to_dataframe(ntl, name='Night_lights', method='read')"
   ]
  },
  {
   "cell_type": "markdown",
   "id": "3098cb0a",
   "metadata": {},
   "source": [
    "## 2.7. Calibrate current electrified population\n",
    "\n",
    "Once the distance to electricity related infrastructure (transformers, MV-lines or HV-lines) is determined and the nighttime light intensity is extracted, the current electrification status for different settlements across the study area is determined. This is done in two steps. First, `current_elec` gives a binary classification of the settlements that are likely electrified (1 indicates that at least someone is likely to have access, while 0 indicates that electricity access is not present at all in the cell). \n",
    "\n",
    "For more information about the `current_elec` function, please refer to the [documentation](https://onstove-documentation.readthedocs.io/en/latest/generated/onstove.onstove.OnStove.current_elec.html)\n",
    "\n",
    "Once the binary classification is made the electrification rate in the different cells with the value 1 from the current_elec is determined. This is done using the function final_elec. This is an multi-criteria analysis taking into account the population density in each cell, the nighttime light intensity and the distance to either transformers, MV-lines or HV-lines together with weights for each one of these factors supplied by the user in the socio-economic specs file.  \n",
    "\n",
    "For more information about the `final_elec` function, please refer to the [documentation](https://onstove-documentation.readthedocs.io/en/latest/generated/onstove.onstove.OnStove.final_elec.html)"
   ]
  },
  {
   "cell_type": "code",
   "execution_count": 132,
   "id": "4b87b76f",
   "metadata": {},
   "outputs": [
    {
     "name": "stdout",
     "output_type": "stream",
     "text": [
      "Calibrated grid electrified population fraction: 0.0016858592373966816\n"
     ]
    }
   ],
   "source": [
    "country.final_elec()\n",
    "\n",
    "print('Calibrated grid electrified population fraction:', country.gdf['Elec_pop_calib'].sum() / country.gdf['pop_init_year'].sum())"
   ]
  },
  {
   "cell_type": "markdown",
   "id": "76132452",
   "metadata": {},
   "source": [
    "## 2.8. Read the cooking technologies data\n",
    "\n",
    "The techno-economic specification file is read. This file does two things: 1) it determines the available fuel/stove combinations used in the analysis and 2) it idicate different techno-economic parameters related to these stoves. If a stove is to be added to the analysis the first step is to add it in this file. The fucntion `read_tech_data` creates a dictionary of technology-classes. This dictionary can be called with `country.techs`\n",
    "\n",
    "Find out more about this function in the [documentation](https://onstove-documentation.readthedocs.io/en/latest/generated/onstove.onstove.OnStove.read_tech_data.html)."
   ]
  },
  {
   "cell_type": "code",
   "execution_count": 133,
   "id": "cd565793",
   "metadata": {},
   "outputs": [],
   "source": [
    "path = os.path.join('..', 'example', 'tech_specs.csv')\n",
    "country.read_tech_data(path, delimiter=',')\n",
    "\n",
    "#country.techs[\"Kerosene\"].tech_life = 4\n",
    "#country.techs[\"Electricity\"].capacities[\"biofuels_and_waste\"] = 0\n",
    "#country.techs[\"Electricity\"].capacities[\"coal\"] = 0\n",
    "#country.techs[\"Electricity\"].capacities[\"geothermal\"] = 0\n",
    "##country.techs[\"Electricity\"].capacities[\"hydro\"] = 0\n",
    "#country.techs[\"Electricity\"].capacities[\"natural_gas\"] = 0\n",
    "#country.techs[\"Electricity\"].capacities[\"nuclear\"] = 0\n",
    "#country.techs[\"Electricity\"].capacities[\"oil\"] = 0\n",
    "#country.techs[\"Electricity\"].capacities[\"solar\"] = 0\n",
    "#country.techs[\"Electricity\"].capacities[\"wind\"] = 0\n",
    "#country.techs[\"Electricity\"].generation[\"biofuels_and_waste\"] = 0\n",
    "#country.techs[\"Electricity\"].generation[\"coal\"] = 0\n",
    "#country.techs[\"Electricity\"].generation[\"geothermal\"] = 0\n",
    "##country.techs[\"Electricity\"].generation[\"hydro\"] = 0\n",
    "#country.techs[\"Electricity\"].generation[\"natural_gas\"] = 0\n",
    "#country.techs[\"Electricity\"].generation[\"oil\"] = 0\n",
    "#country.techs[\"Electricity\"].generation[\"solar\"] = 0\n",
    "#country.techs[\"Electricity\"].generation[\"wind\"] = 0\n",
    "#country.techs[\"Electricity\"].generation[\"nuclear\"] = 0"
   ]
  },
  {
   "cell_type": "markdown",
   "id": "3973c694",
   "metadata": {},
   "source": [
    "## 2.9. Reading GIS data for LPG supply\n",
    "\n",
    "The LPG traveltime is added to the dataframe. The original dataset gives the time in minutes, so here the values are divided by 60 to ensure that the time worked with is in hours. A factor of 2 is also multiplied with the traveltime to account for the fact that the trips are two-ways. "
   ]
  },
  {
   "cell_type": "code",
   "execution_count": 134,
   "id": "faf02a0e",
   "metadata": {},
   "outputs": [],
   "source": [
    "path = os.path.join(output_directory, 'LPG', 'LPG Traveltime', 'LPG Traveltime.tif')\n",
    "lpg = RasterLayer('LPG', 'LPG Traveltime', path = path)\n",
    "\n",
    "travel_time = country.raster_to_dataframe(lpg, fill_nodata_method='interpolate', method = 'read') * 2 / 60\n",
    "country.techs['LPG'].travel_time = pd.Series(travel_time, index = country.gdf.index) \n",
    "#added this\n",
    "#country.raster_to_dataframe(lpg, name='travel_time', method='read', fill_nodata_method='interpolate')"
   ]
  },
  {
   "cell_type": "markdown",
   "id": "783b0ca2",
   "metadata": {},
   "source": [
    "## 2.10. Adding GIS data for Biogas\n",
    "\n",
    "Biogas potential is dependent on the availability of manure, the availability of manure is in turn dependent on livestock. The cell below determines and adds the livestocks and manure to the dataframe. Apart from adding the livestock datasets to the dataframe, the cell below also takes into account the temperature [(temperatures below 10 degrees celsius render the biogas digesters too inefficient)](https://www.sciencedirect.com/science/article/pii/S2213138821003118) and adds a friction map (walking only friction that is also used for biomass in order to estimate the traveltime for biogas collection). \n",
    "\n",
    "Find out more the calibration of livestock in the [documentation](https://onstove-documentation.readthedocs.io/en/latest/generated/onstove.technology.Biogas.recalibrate_livestock)."
   ]
  },
  {
   "cell_type": "code",
   "execution_count": 135,
   "id": "26fc9c97",
   "metadata": {},
   "outputs": [],
   "source": [
    "amin = gpd.read_file(os.path.join(output_directory, 'Administrative', 'Country_boundaries', 'Country_boundaries.geojson'))\n",
    "buffaloes = os.path.join(output_directory, 'Biogas', 'Livestock', 'buffaloes', 'buffaloes.tif')\n",
    "cattles = os.path.join(output_directory, 'Biogas', 'Livestock', 'cattles', 'cattles.tif')\n",
    "poultry =os.path.join(output_directory, 'Biogas', 'Livestock', 'poultry', 'poultry.tif')\n",
    "goats = os.path.join(output_directory, 'Biogas', 'Livestock', 'goats', 'goats.tif')\n",
    "pigs = os.path.join(output_directory, 'Biogas', 'Livestock', 'pigs', 'pigs.tif')\n",
    "sheeps = os.path.join(output_directory, 'Biogas', 'Livestock', 'sheeps', 'sheeps.tif')\n",
    "\n",
    "country.techs['Biogas'].temperature = os.path.join(output_directory, 'Biogas', 'Temperature', 'Temperature.tif')\n",
    "country.techs['Biogas'].recalibrate_livestock(country, buffaloes, cattles, poultry, goats, pigs, sheeps)\n",
    "country.techs['Biogas'].friction_path = os.path.join(output_directory, 'Biomass', 'Friction', 'Friction.tif')"
   ]
  },
  {
   "cell_type": "markdown",
   "id": "647cfcf0",
   "metadata": {},
   "source": [
    "## 2.11. Adding GIS data for Biomass\n",
    "\n",
    "Biomass is assumed to be collected by the end-users themselves. In this example notebook three biomass stoves are present (traditional biomass, natural draft (Collected Improved biomass) and forced draft. For each one of these stove types the forest and friction layers are added to their respective classes. The forest layer describes where the collection opportunities for biomass exist, while the friction map (only walking-friction) describes is used to determine the least-cost path to the different collection points on the map. The collection point with the lowest traveltime is selected for biomass collection. The user can also give a condition for where collection can be carried out using the `forest_condition` call. The condition restricts certain areas based on canopy cover. In this example no such restriction is given.\n",
    "\n",
    "Find out more about how biomass is treadted in the [documentation](https://onstove-documentation.readthedocs.io/en/latest/generated/onstove.technology.Biomass.html)."
   ]
  },
  {
   "cell_type": "code",
   "execution_count": 136,
   "id": "7204607f",
   "metadata": {},
   "outputs": [],
   "source": [
    "country.techs['Biomass Forced Draft'].friction_path = os.path.join(output_directory, 'Biomass', 'Friction', 'Friction.tif')\n",
    "country.techs['Biomass Forced Draft'].forest_path = os.path.join(output_directory, 'Biomass', 'Forest', 'Forest.tif')\n",
    "country.techs['Biomass Forced Draft'].forest_condition = lambda x: x > 0\n",
    "\n",
    "country.techs['Collected_Improved_Biomass'].friction_path = os.path.join(output_directory, 'Biomass', 'Friction', 'Friction.tif')\n",
    "country.techs['Collected_Improved_Biomass'].forest_path = os.path.join(output_directory, 'Biomass', 'Forest', 'Forest.tif')\n",
    "country.techs['Collected_Improved_Biomass'].forest_condition = lambda x: x > 0\n",
    "\n",
    "country.techs['Collected_Traditional_Biomass'].friction_path = os.path.join(output_directory, 'Biomass', 'Friction', 'Friction.tif')\n",
    "country.techs['Collected_Traditional_Biomass'].forest_path = os.path.join(output_directory, 'Biomass', 'Forest', 'Forest.tif')\n",
    "country.techs['Collected_Traditional_Biomass'].forest_condition = lambda x: x > 0"
   ]
  },
  {
   "cell_type": "markdown",
   "id": "449e4afa",
   "metadata": {},
   "source": [
    "## 2.12. Saving the prepared model inputs\n",
    "\n",
    "The cell below saves the dataframe created through the calibration-phase as a .pkl-file. This enables users to run several scenarios on the same file without rerunning the previous steps. "
   ]
  },
  {
   "cell_type": "code",
   "execution_count": 137,
   "id": "b23d52f5",
   "metadata": {
    "scrolled": true
   },
   "outputs": [
    {
     "name": "stdout",
     "output_type": "stream",
     "text": [
      "Execution time: 1 min 58 sec\n"
     ]
    }
   ],
   "source": [
    "country.output_directory = r\"\"\n",
    "\n",
    "country.to_pickle(\"model_inputs.pkl\")\n",
    "\n",
    "end = time.time()\n",
    "\n",
    "diff = end - start\n",
    "print('Execution time:', str(str(int(diff//60))) + ' min ' + str(int((diff)%60)) + ' sec')"
   ]
  },
  {
   "cell_type": "markdown",
   "id": "30799bf0",
   "metadata": {},
   "source": [
    "# 3. Model run\n",
    "\n",
    "This section runs the main-analysis and produces the results of OnStove. In this section first the cooking options currently in place are determined for urban and rural settlements. This base-line cooking mix is used in order to determine the relative benefits (reduced mortality, reduced morbidiy, time saved and carbon emissions avoided), as well as the relative costs (investments, operation & maintenance, fuel and salvage costs). The benefits and costs for all stove options are combined in every cell to produce the net-benefit (defined as benefits minus costs). The stove with the highest net-benefit is selected for each cell in the study area.\n",
    "\n",
    "The first two cells in this section reads: 1) the model inputs (output from the calibration phase) and 2) the socio-economic specification file. "
   ]
  },
  {
   "cell_type": "code",
   "execution_count": 138,
   "id": "8317f52f",
   "metadata": {},
   "outputs": [],
   "source": [
    "start = time.time()\n",
    "country = OnStove.read_model(\"model_inputs.pkl\")"
   ]
  },
  {
   "cell_type": "code",
   "execution_count": 139,
   "id": "0232df66",
   "metadata": {},
   "outputs": [],
   "source": [
    "path = os.path.join('..', 'example', 'soc_specs.csv')\n",
    "country.read_scenario_data(path)"
   ]
  },
  {
   "cell_type": "code",
   "execution_count": 140,
   "id": "2cad426d",
   "metadata": {},
   "outputs": [],
   "source": [
    "country.specs[\"end_year_target\"] = 1\n",
    "country.specs[\"population_start_year\"]=30733755\n",
    "country.specs[\"population_end_year\"]=32833000\n",
    "country.specs[\"end_year\"]=2022\n",
    "country.specs[\"urban_end\"]=0.579\n",
    "country.techs[\"Kerosene\"].tech_life = 4\n",
    "#country.techs[\"Electricity\"].capacity_biofuels_and_waste = 0\n",
    "#country.techs[\"Electricity\"].capacity_coal = 0\n",
    "#country.techs[\"Electricity\"].capacity_geothermal = 0\n",
    "#country.techs[\"Electricity\"].capacity_hydro = 0\n",
    "#country.techs[\"Electricity\"].capacity_natural_gas = 0\n",
    "#country.techs[\"Electricity\"].capacity_nuclear = 0\n",
    "#country.techs[\"Electricity\"].capacity_oil = 0\n",
    "#country.techs[\"Electricity\"].capacity_solar = 0\n",
    "#country.techs[\"Electricity\"].capacity_wind = 0\n",
    "#country.techs[\"Electricity\"].generation_biofuels_and_waste = 0\n",
    "#country.techs[\"Electricity\"].generation_coal = 0\n",
    "#country.techs[\"Electricity\"].generation_geothermal = 0\n",
    "#country.techs[\"Electricity\"].generation_hydro = 0\n",
    "#country.techs[\"Electricity\"].generation_natural_gas = 0\n",
    "#country.techs[\"Electricity\"].generation_oil = 0\n",
    "#country.techs[\"Electricity\"].generation_solar = 0\n",
    "#country.techs[\"Electricity\"].generation_wind = 0\n",
    "#country.techs[\"Electricity\"].generation_nuclear = 0"
   ]
  },
  {
   "cell_type": "markdown",
   "id": "96a88442",
   "metadata": {},
   "source": [
    "## 3.1 Calculating benefits and costs of each technology and getting the max benefit technology for each cell\n",
    "\n",
    "The cell below runs the analysis for the technologies specified in the list called `names`. **Note: the technologies in the name list also have to be present in the techno-economic file, otherwise the run will crash.**\n",
    "\n",
    "The run function calculates all benefits and costs. It also determines the net-benefit and selects the stove with the highest net-benefit. \n",
    "\n",
    "For more information on this function, refer to the [documentation](https://onstove-documentation.readthedocs.io/en/latest/generated/onstove.onstove.OnStove.run.html)"
   ]
  },
  {
   "cell_type": "code",
   "execution_count": 142,
   "id": "ba24ef55",
   "metadata": {},
   "outputs": [],
   "source": [
    "self = country.techs[\"Charcoal ICS\"]\n",
    "model = country\n",
    "country.year = 2022\n",
    "mask = country.gdf[\"year\"] == country.year\n",
    "import numpy as np\n",
    "parameter = 'mort'\n",
    "#mask = pd.Series(True, index = model.gdf.index)\n",
    "#relative = True\n",
    "restriction = 'Y'\n",
    "techs = [country.techs[name] for name in names]"
   ]
  },
  {
   "cell_type": "code",
   "execution_count": 143,
   "id": "665945b7",
   "metadata": {},
   "outputs": [
    {
     "name": "stdout",
     "output_type": "stream",
     "text": [
      "Electricity\n",
      "73048      67252.841810\n",
      "72774      12048.458726\n",
      "73307      12619.086073\n",
      "72772      82381.673786\n",
      "72502     153947.386880\n",
      "              ...      \n",
      "128046     10956.533831\n",
      "117429      7684.993755\n",
      "128476       592.584898\n",
      "117162     13279.001836\n",
      "85579      33373.024002\n",
      "Length: 130154, dtype: float64\n",
      "Collected_Improved_Biomass\n",
      "73048     -52944.270540\n",
      "72774      -9485.054330\n",
      "73307      -9934.276218\n",
      "72772     -64854.324474\n",
      "72502    -121193.868996\n",
      "              ...      \n",
      "128046     -1139.367198\n",
      "117429      -799.160568\n",
      "128476       -61.622755\n",
      "117162     -1380.880062\n",
      "85579      -3470.452374\n",
      "Length: 130154, dtype: float64\n",
      "Biomass Forced Draft\n",
      "73048     -47225.623756\n",
      "72774      -8460.549225\n",
      "73307      -8861.249502\n",
      "72772     -57849.242143\n",
      "72502    -108103.407609\n",
      "              ...      \n",
      "128046      -667.392522\n",
      "117429      -468.114044\n",
      "128476       -36.095971\n",
      "117162      -808.860417\n",
      "85579      -2032.842411\n",
      "Length: 130154, dtype: float64\n",
      "Pellets Forced Draft\n",
      "73048    -34360.817510\n",
      "72774     -6155.797739\n",
      "73307     -6447.342626\n",
      "72772    -42090.439348\n",
      "72502    -78654.788771\n",
      "              ...     \n",
      "128046      425.558712\n",
      "117429      298.490023\n",
      "128476       23.016373\n",
      "117162      515.764839\n",
      "85579      1296.229384\n",
      "Length: 130154, dtype: float64\n"
     ]
    }
   ],
   "source": [
    "for tech in techs:\n",
    "    print(tech.name)\n",
    "    print(tech.distributed_mortality)"
   ]
  },
  {
   "cell_type": "code",
   "execution_count": 141,
   "id": "2a6c5e67",
   "metadata": {
    "scrolled": false
   },
   "outputs": [
    {
     "name": "stdout",
     "output_type": "stream",
     "text": [
      "[Ghana] Calculating clean cooking access\n",
      "[Ghana] Calculating base fuel properties\n",
      "[Ghana] Getting value of time\n",
      "Calculating health benefits for Electricity...\n",
      "Calculating carbon emissions benefits for Electricity...\n",
      "Calculating time saved benefits for Electricity...\n",
      "Calculating costs for Electricity...\n",
      "Calculating net benefit for Electricity...\n",
      "\n",
      "Calculating health benefits for Collected_Improved_Biomass...\n",
      "Calculating carbon emissions benefits for Collected_Improved_Biomass...\n",
      "Calculating time saved benefits for Collected_Improved_Biomass...\n",
      "Calculating costs for Collected_Improved_Biomass...\n",
      "Calculating net benefit for Collected_Improved_Biomass...\n",
      "\n",
      "Calculating health benefits for Biomass Forced Draft...\n",
      "Calculating carbon emissions benefits for Biomass Forced Draft...\n",
      "Calculating time saved benefits for Biomass Forced Draft...\n",
      "Calculating costs for Biomass Forced Draft...\n",
      "Calculating net benefit for Biomass Forced Draft...\n",
      "\n",
      "Calculating health benefits for Pellets Forced Draft...\n",
      "Calculating carbon emissions benefits for Pellets Forced Draft...\n",
      "Calculating time saved benefits for Pellets Forced Draft...\n",
      "Calculating costs for Pellets Forced Draft...\n",
      "Calculating net benefit for Pellets Forced Draft...\n",
      "\n",
      "Getting maximum net benefit technologies...\n",
      "Calculating health benefits for Electricity...\n",
      "Calculating carbon emissions benefits for Electricity...\n",
      "Calculating time saved benefits for Electricity...\n",
      "Calculating costs for Electricity...\n",
      "Calculating net benefit for Electricity...\n",
      "\n",
      "Calculating health benefits for Collected_Improved_Biomass...\n",
      "Calculating carbon emissions benefits for Collected_Improved_Biomass...\n",
      "Calculating time saved benefits for Collected_Improved_Biomass...\n",
      "Calculating costs for Collected_Improved_Biomass...\n",
      "Calculating net benefit for Collected_Improved_Biomass...\n",
      "\n",
      "Calculating health benefits for Biomass Forced Draft...\n",
      "Calculating carbon emissions benefits for Biomass Forced Draft...\n",
      "Calculating time saved benefits for Biomass Forced Draft...\n",
      "Calculating costs for Biomass Forced Draft...\n",
      "Calculating net benefit for Biomass Forced Draft...\n",
      "\n",
      "Calculating health benefits for Pellets Forced Draft...\n",
      "Calculating carbon emissions benefits for Pellets Forced Draft...\n",
      "Calculating time saved benefits for Pellets Forced Draft...\n",
      "Calculating costs for Pellets Forced Draft...\n",
      "Calculating net benefit for Pellets Forced Draft...\n",
      "\n",
      "Getting maximum net benefit technologies...\n",
      "Done\n"
     ]
    }
   ],
   "source": [
    "names = ['Electricity',\n",
    "         'Collected_Improved_Biomass', 'Biomass Forced Draft', 'Pellets Forced Draft']\n",
    "\n",
    "#names = ['Electricity','Traditional_Charcoal' ,'Charcoal ICS',\n",
    "#         'LPG', 'Biogas', 'Collected_Traditional_Biomass', \n",
    "#         'Collected_Improved_Biomass', 'Biomass Forced Draft', 'Pellets Forced Draft']\n",
    "country.run(technologies=names) "
   ]
  },
  {
   "cell_type": "markdown",
   "id": "2440b683",
   "metadata": {},
   "source": [
    "#### 3.2. Printing the summaries\n",
    "\n",
    "Prints the summary of the results. Note that the results are relative to the base-line, so in some cases costs and benefits can be negative. For each stove in the results the table includes:\n",
    "\n",
    "* Population using the stove\n",
    "* Households using the stove\n",
    "* Total net-benefit generated across the study area due to the use of the stove\n",
    "* Total number deaths avoided across the study area due to the use of the stove\n",
    "* The total health costs avoided by using the stove across the study area\n",
    "* Hours saved by adopting each stove for every household on average\n",
    "* Opportunity cost due to time saved for each stove type across the study area\n",
    "* Emissions avoided across the study area due to the use of each stove\n",
    "* Emission costs avoided across the study area due to the use of each stove\n",
    "* Total investment costs\n",
    "* Total fuel costs\n",
    "* Total O&M costs (operation and maintenance) \n",
    "* Total salvage costs\n",
    "\n",
    "Each summary statistics area also aggregated across the entire study area."
   ]
  },
  {
   "cell_type": "code",
   "execution_count": null,
   "id": "77a30f80",
   "metadata": {},
   "outputs": [],
   "source": [
    "country.summary()"
   ]
  },
  {
   "cell_type": "markdown",
   "id": "b2d739d6",
   "metadata": {},
   "source": [
    "## 3.3. Saving the results\n",
    "\n",
    "Saves the full results as .pkl-file. It is important to change the name each time you run a scenario to avoid overwriting your old results."
   ]
  },
  {
   "cell_type": "code",
   "execution_count": null,
   "id": "79ca050e",
   "metadata": {},
   "outputs": [],
   "source": [
    "country.to_pickle(\"results.pkl\")"
   ]
  },
  {
   "cell_type": "markdown",
   "id": "43af891e",
   "metadata": {},
   "source": [
    "# 4. Visualization\n",
    "\n",
    "The section below gives an indication of what can be visualized using the OnStove results. Note that the actual result files include more information that can also be visualized and extracted for later use. "
   ]
  },
  {
   "cell_type": "markdown",
   "id": "f75fa888",
   "metadata": {},
   "source": [
    "## 4.1. Reading the results\n",
    "\n",
    "First we read in the results produced in [step 3](#3.-Model-run)."
   ]
  },
  {
   "cell_type": "code",
   "execution_count": null,
   "id": "a068d59c",
   "metadata": {},
   "outputs": [],
   "source": [
    "results = OnStove.read_model(\"results.pkl\")"
   ]
  },
  {
   "cell_type": "markdown",
   "id": "5174e431",
   "metadata": {},
   "source": [
    "## 4.2. Add a country mask layer\n",
    "\n",
    "We read the administrative boundaries polygon. This will be used as a backdrop for the maps. "
   ]
  },
  {
   "cell_type": "code",
   "execution_count": null,
   "id": "8b1ed161",
   "metadata": {},
   "outputs": [],
   "source": [
    "output_directory = '../example/results'\n",
    "path = os.path.join(output_directory,'Administrative','Country_boundaries', 'Country_boundaries.geojson')\n",
    "mask_layer = VectorLayer('admin', 'adm_0', path=path)\n",
    "results.mask_layer = mask_layer"
   ]
  },
  {
   "cell_type": "markdown",
   "id": "8385e3ad",
   "metadata": {},
   "source": [
    "## 4.3. Setting the color palette and label names\n",
    "\n",
    "Setting the color palette for visualization of the maps and graphs. These are dictionaries containing all the stoves included in the analysis and their html-coded colors."
   ]
  },
  {
   "cell_type": "code",
   "execution_count": 22,
   "id": "2d2e806d",
   "metadata": {},
   "outputs": [],
   "source": [
    "cmap = {\"Biomass ICS (ND)\": '#6F4070', \"LPG\": '#66C5CC', \"Biomass\": '#FFB6C1',\n",
    "        \"Biomass ICS (FD)\": '#af04b3', \"Pellets ICS (FD)\": '#ef02f5',\n",
    "        \"Charcoal\": '#364135', \"Charcoal ICS\": '#d4bdc5',\n",
    "        \"Biogas\": '#73AF48', \"Biogas and Biomass ICS (ND)\": \"#F6029E\",\n",
    "        \"Biogas and Biomass ICS (FD)\": \"#F6029E\",\n",
    "        \"Biogas and Pellets ICS (FD)\": \"#F6029E\",\n",
    "        \"Biogas and LPG\": \"#0F8554\", \"Biogas and Biomass\": \"#266AA6\",\n",
    "        \"Biogas and Charcoal\": \"#3B05DF\",\n",
    "        \"Biogas and Charcoal ICS\": \"#3B59DF\",\n",
    "        \"Electricity\": '#CC503E', \"Electricity and Biomass ICS (ND)\": \"#B497E7\",\n",
    "        \"Electricity and Biomass ICS (FD)\": \"#B497E7\",\n",
    "        \"Electricity and Pellets ICS (FD)\": \"#B497E7\",\n",
    "        \"Electricity and LPG\": \"#E17C05\", \"Electricity and Biomass\": \"#FFC107\",\n",
    "        \"Electricity and Charcoal ICS\": \"#660000\",\n",
    "        \"Electricity and Biogas\": \"#f97b72\",\n",
    "        \"Electricity and Charcoal\": \"#FF0000\"}\n",
    "\n",
    "labels = {\"Biogas and Electricity\": \"Electricity and Biogas\",\n",
    "          'Collected Traditional Biomass': 'Biomass',\n",
    "          'Collected Improved Biomass': 'Biomass ICS (ND)',\n",
    "          'Traditional Charcoal': 'Charcoal',\n",
    "          'Biomass Forced Draft': 'Biomass ICS (FD)',\n",
    "          'Pellets Forced Draft': 'Pellets ICS (FD)'}"
   ]
  },
  {
   "cell_type": "code",
   "execution_count": 45,
   "id": "ce91d527",
   "metadata": {},
   "outputs": [],
   "source": [
    "copy = country.gdf.copy()"
   ]
  },
  {
   "cell_type": "markdown",
   "id": "8fe22ae8",
   "metadata": {},
   "source": [
    "## 4.3. Printing map with stoves with highest net-benefit in each settlement\n",
    "\n",
    "Visualize maps of the stoves with the highest net-benefits together with some important summary results. \n",
    "\n",
    "Find out more about this function in the [documentation](https://onstove-documentation.readthedocs.io/en/latest/generated/onstove.onstove.OnStove.plot.html).\n"
   ]
  },
  {
   "cell_type": "code",
   "execution_count": 144,
   "id": "6758e8d8",
   "metadata": {},
   "outputs": [
    {
     "data": {
      "image/png": "[encoded data removed]",
      "text/plain": [
       "<Figure size 1050x1050 with 1 Axes>"
      ]
     },
     "metadata": {},
     "output_type": "display_data"
    }
   ],
   "source": [
    "country.plot('max_benefit_tech', cmap=cmap, legend_position=(0.9, 0.7),\n",
    "             title=f'Maximum net-benefit cooking technology', stats_fontsize=9, figsize=(7, 7),\n",
    "             labels=labels, legend=True, legend_title='Maximum benefit/ncooking technology', dpi=150,\n",
    "             legend_prop={'title': {'size': 9, 'weight': 'bold'}, 'size': 9},\n",
    "             rasterized=True, stats=False, stats_position=(0.85, 0.9), save_style=False)"
   ]
  },
  {
   "cell_type": "code",
   "execution_count": 145,
   "id": "350446a7",
   "metadata": {},
   "outputs": [
    {
     "data": {
      "text/plain": [
       "33171919.953272972"
      ]
     },
     "execution_count": 145,
     "metadata": {},
     "output_type": "execute_result"
    }
   ],
   "source": [
    "country.gdf.groupby([\"year\", \"max_benefit_tech\"]).sum(\"Pop\")[\"Pop\"].sum()"
   ]
  },
  {
   "cell_type": "code",
   "execution_count": 151,
   "id": "ec49f484",
   "metadata": {},
   "outputs": [
    {
     "data": {
      "text/plain": [
       "34787862.31563129"
      ]
     },
     "execution_count": 151,
     "metadata": {},
     "output_type": "execute_result"
    }
   ],
   "source": [
    "country.gdf[\"pop_end_year\"].sum()"
   ]
  },
  {
   "cell_type": "markdown",
   "id": "4b5ee671",
   "metadata": {},
   "source": [
    "## 4.4. Printing population split in the study area\n",
    "\n",
    "Prints the population split describing the percentage of population cooking with different stoves.\n",
    "\n",
    "Find out more about this function in the [documentation](https://onstove-documentation.readthedocs.io/en/latest/generated/onstove.onstove.OnStove.plot_split.html)."
   ]
  },
  {
   "cell_type": "code",
   "execution_count": null,
   "id": "57ce1806",
   "metadata": {},
   "outputs": [],
   "source": [
    "results.plot_split(cmap=cmap, labels=labels)"
   ]
  },
  {
   "cell_type": "markdown",
   "id": "62e5d116",
   "metadata": {},
   "source": [
    "## 4.5. Printing the costs and benefits for each stove category selected\n",
    "\n",
    "Prints the costs and benefits of each stove type.\n",
    "\n",
    "Find out more about this function in the [documentation](https://onstove-documentation.readthedocs.io/en/latest/generated/onstove.onstove.OnStove.plot_costs_benefits.html)."
   ]
  },
  {
   "cell_type": "code",
   "execution_count": null,
   "id": "9e58c0aa",
   "metadata": {},
   "outputs": [],
   "source": [
    "results.plot_costs_benefits(labels=labels, height=1.5, width=2)"
   ]
  },
  {
   "cell_type": "markdown",
   "id": "6a0f8865",
   "metadata": {},
   "source": [
    "## 4.6. Printing the range of net-benefit found for each stove per household for each stove selected\n",
    "\n",
    "Prints the range of net-benefit for each stove included in the results.\n",
    "\n",
    "Find out more about this function in the [documentation](https://onstove-documentation.readthedocs.io/en/latest/generated/onstove.onstove.OnStove.plot_benefit_distribution.html)."
   ]
  },
  {
   "cell_type": "code",
   "execution_count": null,
   "id": "e9747a92",
   "metadata": {},
   "outputs": [],
   "source": [
    "results.plot_benefit_distribution(type='box', groupby='None', cmap=cmap, labels=labels, height=1.5, width=3.5)"
   ]
  },
  {
   "cell_type": "markdown",
   "id": "b9c1d77d",
   "metadata": {},
   "source": [
    "## 4.7. Printing the maximum net-benefit across the study area\n",
    "\n",
    "Visualize the maximum net-benefit spatially. "
   ]
  },
  {
   "cell_type": "code",
   "execution_count": null,
   "id": "5b1bd561",
   "metadata": {},
   "outputs": [],
   "source": [
    "results.plot('maximum_net_benefit', cmap='magma', metric='per_household')"
   ]
  },
  {
   "cell_type": "markdown",
   "id": "d5404b10",
   "metadata": {},
   "source": [
    "## 4.8. Printing the total costs across the study area\n",
    "\n",
    "Visualize the total costs spatially."
   ]
  },
  {
   "cell_type": "code",
   "execution_count": null,
   "id": "7a877598",
   "metadata": {},
   "outputs": [],
   "source": [
    "results.gdf['total_costs'] = results.gdf['investment_costs'] - results.gdf['salvage_value'] + results.gdf['fuel_costs'] + results.gdf['om_costs']\n",
    "results.plot('total_costs', cmap='magma', metric='per_household')"
   ]
  },
  {
   "cell_type": "markdown",
   "id": "d7da1cc3",
   "metadata": {},
   "source": [
    "## 4.9. Saving selected results\n",
    "\n",
    "Saving selected results as rasters.\n",
    "\n",
    "Find out more about this function in the [documentation](https://onstove-documentation.readthedocs.io/en/latest/generated/onstove.onstove.OnStove.to_raster.html)."
   ]
  },
  {
   "cell_type": "code",
   "execution_count": null,
   "id": "4574f0d1",
   "metadata": {},
   "outputs": [],
   "source": [
    "results.to_raster('max_benefit_tech', cmap=cmap, labels=labels)\n",
    "results.to_raster('maximum_net_benefit', metric='per_household')\n",
    "results.to_raster('maximum_net_benefit', metric='total')\n",
    "results.to_raster('net_benefit_LPG', metric='per_household')\n",
    "results.to_raster('net_benefit_Biogas', metric='per_household')\n",
    "results.to_raster('net_benefit_Collected_Improved_Biomass', metric='per_household')\n",
    "results.to_raster('total_costs', metric='per_household')\n",
    "results.to_raster('investment_costs', metric='total')\n",
    "results.to_raster('deaths_avoided', metric='per_100k')\n",
    "results.to_raster('time_saved', metric='per_household')\n",
    "results.to_raster('reduced_emissions', metric='total')\n",
    "results.to_raster('health_costs_avoided', metric='total')\n",
    "results.to_raster('Households', metric='sum')"
   ]
  },
  {
   "cell_type": "code",
   "execution_count": 32,
   "id": "3bcda4ea",
   "metadata": {},
   "outputs": [
    {
     "name": "stdout",
     "output_type": "stream",
     "text": [
      "0.16171531028056146\n",
      "0.023102187182936926\n",
      "0.016171531028054163\n",
      "0.016171531028053285\n",
      "0.013861312309765653\n"
     ]
    }
   ],
   "source": [
    "print(195159.2048526/1206807.22507978)\n",
    "print(28710.44511181/1242758.74333731)\n",
    "print(20696.02266411/1279781.27910133)\n",
    "print(21312.56971587/1317906.73863213)\n",
    "print(18812.12920953/1357167.97869682)"
   ]
  },
  {
   "cell_type": "code",
   "execution_count": null,
   "id": "eca3921d",
   "metadata": {},
   "outputs": [],
   "source": [
    "1206807.22507978\n",
    "1242758.74333731 \n",
    "1279781.27910133\n",
    "1317906.73863213\n",
    "1357167.97869682"
   ]
  }
 ],
 "metadata": {
  "kernelspec": {
   "display_name": "Python 3 (ipykernel)",
   "language": "python",
   "name": "python3"
  },
  "language_info": {
   "codemirror_mode": {
    "name": "ipython",
    "version": 3
   },
   "file_extension": ".py",
   "mimetype": "text/x-python",
   "name": "python",
   "nbconvert_exporter": "python",
   "pygments_lexer": "ipython3",
   "version": "3.10.0"
  }
 },
 "nbformat": 4,
 "nbformat_minor": 5
}
